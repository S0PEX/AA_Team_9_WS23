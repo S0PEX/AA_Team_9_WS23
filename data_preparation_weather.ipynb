{
 "cells": [
  {
   "cell_type": "markdown",
   "source": [
    "# Analytics & Applications WS23/24 Project\n",
    "\n",
    "The following notebook contains the applied steps of the CRISP-DM model on the\n",
    "project excercise from \"Analytics and Applications\" by Prof. Ketter in the WS23/24 of University Cologne.\n",
    "\n",
    "The following steps will be done in the specified order:\n",
    "1. Data Preparation\n",
    "2. Modeling \n",
    "3. Evaluation"
   ],
   "metadata": {
    "collapsed": false
   },
   "id": "87948de7775ae438"
  },
  {
   "cell_type": "markdown",
   "source": [
    "## Imports & Dependencies"
   ],
   "metadata": {
    "collapsed": false
   },
   "id": "4bc9c5443ddc9a60"
  },
  {
   "cell_type": "code",
   "execution_count": 14,
   "outputs": [],
   "source": [
    "import pandas as pd\n",
    "import matplotlib.pyplot as plt"
   ],
   "metadata": {
    "collapsed": false,
    "ExecuteTime": {
     "end_time": "2023-11-21T15:33:51.398167200Z",
     "start_time": "2023-11-21T15:33:51.340480800Z"
    }
   },
   "id": "8cb848f26d92d49b"
  },
  {
   "cell_type": "markdown",
   "source": [
    "## Import Data"
   ],
   "metadata": {
    "collapsed": false
   },
   "id": "9eb1182aa41c47d5"
  },
  {
   "cell_type": "code",
   "execution_count": 15,
   "id": "initial_id",
   "metadata": {
    "collapsed": true,
    "ExecuteTime": {
     "end_time": "2023-11-21T15:33:51.490515Z",
     "start_time": "2023-11-21T15:33:51.350647600Z"
    }
   },
   "outputs": [],
   "source": [
    "df_weather = pd.read_csv(\"data/weather_burbank_airport.csv\")"
   ]
  },
  {
   "cell_type": "markdown",
   "source": [
    "## Data Exploration and Preparation"
   ],
   "metadata": {
    "collapsed": false
   },
   "id": "b1d7b81303abd9e7"
  },
  {
   "cell_type": "markdown",
   "source": [
    "### Basic Data Exploration"
   ],
   "metadata": {
    "collapsed": false
   },
   "id": "30b762bd76632994"
  },
  {
   "cell_type": "code",
   "execution_count": 16,
   "outputs": [
    {
     "name": "stdout",
     "output_type": "stream",
     "text": [
      "      city            timestamp  temperature  cloud_cover  \\\n",
      "0  Burbank  2018-01-01 08:53:00          9.0         33.0   \n",
      "1  Burbank  2018-01-01 09:53:00          9.0         33.0   \n",
      "2  Burbank  2018-01-01 10:53:00          9.0         21.0   \n",
      "3  Burbank  2018-01-01 11:53:00          9.0         29.0   \n",
      "4  Burbank  2018-01-01 12:53:00          8.0         33.0   \n",
      "\n",
      "  cloud_cover_description  pressure  windspeed  precipitation  \\\n",
      "0                    Fair    991.75        9.0            0.0   \n",
      "1                    Fair    992.08        0.0            0.0   \n",
      "2                    Haze    992.08        0.0            0.0   \n",
      "3           Partly Cloudy    992.08        0.0            0.0   \n",
      "4                    Fair    992.08        0.0            0.0   \n",
      "\n",
      "   felt_temperature  \n",
      "0               8.0  \n",
      "1               9.0  \n",
      "2               9.0  \n",
      "3               9.0  \n",
      "4               8.0  \n"
     ]
    }
   ],
   "source": [
    "print(df_weather.head())"
   ],
   "metadata": {
    "collapsed": false,
    "ExecuteTime": {
     "end_time": "2023-11-21T15:33:51.493518400Z",
     "start_time": "2023-11-21T15:33:51.420783Z"
    }
   },
   "id": "73863672a74da570"
  },
  {
   "cell_type": "code",
   "execution_count": 17,
   "outputs": [],
   "source": [
    "df_weather.to_csv('data/weather_modified.csv')"
   ],
   "metadata": {
    "collapsed": false,
    "ExecuteTime": {
     "end_time": "2023-11-21T15:33:51.636440800Z",
     "start_time": "2023-11-21T15:33:51.435006700Z"
    }
   },
   "id": "6611cf1afd334e78"
  },
  {
   "cell_type": "code",
   "execution_count": 17,
   "outputs": [],
   "source": [],
   "metadata": {
    "collapsed": false,
    "ExecuteTime": {
     "end_time": "2023-11-21T15:33:51.646094Z",
     "start_time": "2023-11-21T15:33:51.638442700Z"
    }
   },
   "id": "25b99a19421d4a2d"
  },
  {
   "cell_type": "code",
   "execution_count": 17,
   "outputs": [],
   "source": [],
   "metadata": {
    "collapsed": false,
    "ExecuteTime": {
     "end_time": "2023-11-21T15:33:51.655527700Z",
     "start_time": "2023-11-21T15:33:51.643774200Z"
    }
   },
   "id": "9952747f8257c5bb"
  }
 ],
 "metadata": {
  "kernelspec": {
   "display_name": "Python 3",
   "language": "python",
   "name": "python3"
  },
  "language_info": {
   "codemirror_mode": {
    "name": "ipython",
    "version": 2
   },
   "file_extension": ".py",
   "mimetype": "text/x-python",
   "name": "python",
   "nbconvert_exporter": "python",
   "pygments_lexer": "ipython2",
   "version": "2.7.6"
  }
 },
 "nbformat": 4,
 "nbformat_minor": 5
}
