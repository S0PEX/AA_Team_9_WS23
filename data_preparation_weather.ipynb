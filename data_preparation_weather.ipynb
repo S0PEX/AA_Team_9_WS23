{
 "cells": [
  {
   "cell_type": "markdown",
   "id": "87948de7775ae438",
   "metadata": {
    "collapsed": false
   },
   "source": [
    "# Analytics & Applications WS23/24 Project\n",
    "\n",
    "The following notebook contains the applied steps of the CRISP-DM model on the\n",
    "project excercise from \"Analytics and Applications\" by Prof. Ketter in the WS23/24 of University Cologne.\n",
    "\n",
    "The following steps will be done in the specified order:\n",
    "1. Data Preparation\n",
    "2. Modeling \n",
    "3. Evaluation"
   ]
  },
  {
   "cell_type": "markdown",
   "id": "4bc9c5443ddc9a60",
   "metadata": {
    "collapsed": false
   },
   "source": [
    "## Imports & Dependencies"
   ]
  },
  {
   "cell_type": "code",
   "execution_count": 16,
   "id": "8cb848f26d92d49b",
   "metadata": {
    "ExecuteTime": {
     "end_time": "2023-11-21T15:33:51.398167200Z",
     "start_time": "2023-11-21T15:33:51.340480800Z"
    },
    "collapsed": false
   },
   "outputs": [],
   "source": [
    "import pandas as pd\n",
    "import matplotlib.pyplot as plt"
   ]
  },
  {
   "cell_type": "markdown",
   "id": "9eb1182aa41c47d5",
   "metadata": {
    "collapsed": false
   },
   "source": [
    "## Import Data"
   ]
  },
  {
   "cell_type": "code",
   "execution_count": 17,
   "id": "initial_id",
   "metadata": {
    "ExecuteTime": {
     "end_time": "2023-11-21T15:33:51.490515Z",
     "start_time": "2023-11-21T15:33:51.350647600Z"
    },
    "collapsed": true
   },
   "outputs": [],
   "source": [
    "df_weather = pd.read_csv(\"data/weather_burbank_airport.csv\")"
   ]
  },
  {
   "cell_type": "code",
   "execution_count": 18,
   "id": "666dd342",
   "metadata": {},
   "outputs": [],
   "source": [
    "\n",
    "start_date = '2018-04-25'\n",
    "end_date = '2021-01-01'\n",
    "\n",
    "df = df_weather[(df_weather['timestamp'] >= start_date) & (df_weather['timestamp'] <= end_date)]"
   ]
  },
  {
   "cell_type": "markdown",
   "id": "b1d7b81303abd9e7",
   "metadata": {
    "collapsed": false
   },
   "source": [
    "## Data Exploration and Preparation"
   ]
  },
  {
   "cell_type": "markdown",
   "id": "30b762bd76632994",
   "metadata": {
    "collapsed": false
   },
   "source": [
    "### Basic Data Exploration"
   ]
  },
  {
   "cell_type": "code",
   "execution_count": 19,
   "id": "73863672a74da570",
   "metadata": {
    "ExecuteTime": {
     "end_time": "2023-11-21T15:33:51.493518400Z",
     "start_time": "2023-11-21T15:33:51.420783Z"
    },
    "collapsed": false
   },
   "outputs": [
    {
     "name": "stdout",
     "output_type": "stream",
     "text": [
      "      city            timestamp  temperature  cloud_cover  \\\n",
      "0  Burbank  2018-01-01 08:53:00          9.0         33.0   \n",
      "1  Burbank  2018-01-01 09:53:00          9.0         33.0   \n",
      "2  Burbank  2018-01-01 10:53:00          9.0         21.0   \n",
      "3  Burbank  2018-01-01 11:53:00          9.0         29.0   \n",
      "4  Burbank  2018-01-01 12:53:00          8.0         33.0   \n",
      "\n",
      "  cloud_cover_description  pressure  windspeed  precipitation  \\\n",
      "0                    Fair    991.75        9.0            0.0   \n",
      "1                    Fair    992.08        0.0            0.0   \n",
      "2                    Haze    992.08        0.0            0.0   \n",
      "3           Partly Cloudy    992.08        0.0            0.0   \n",
      "4                    Fair    992.08        0.0            0.0   \n",
      "\n",
      "   felt_temperature  \n",
      "0               8.0  \n",
      "1               9.0  \n",
      "2               9.0  \n",
      "3               9.0  \n",
      "4               8.0  \n"
     ]
    }
   ],
   "source": [
    "print(df_weather.head())"
   ]
  },
  {
   "cell_type": "code",
   "execution_count": 20,
   "id": "6611cf1afd334e78",
   "metadata": {
    "ExecuteTime": {
     "end_time": "2023-11-21T15:33:51.636440800Z",
     "start_time": "2023-11-21T15:33:51.435006700Z"
    },
    "collapsed": false
   },
   "outputs": [],
   "source": [
    "df_weather.to_csv('data/weather_modified.csv')"
   ]
  }
 ],
 "metadata": {
  "kernelspec": {
   "display_name": "Python 3",
   "language": "python",
   "name": "python3"
  },
  "language_info": {
   "codemirror_mode": {
    "name": "ipython",
    "version": 3
   },
   "file_extension": ".py",
   "mimetype": "text/x-python",
   "name": "python",
   "nbconvert_exporter": "python",
   "pygments_lexer": "ipython3",
   "version": "3.9.2rc1"
  }
 },
 "nbformat": 4,
 "nbformat_minor": 5
}
