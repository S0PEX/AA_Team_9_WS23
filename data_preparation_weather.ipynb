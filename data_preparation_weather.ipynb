{
 "cells": [
  {
   "cell_type": "markdown",
   "id": "87948de7775ae438",
   "metadata": {
    "collapsed": false
   },
   "source": [
    "# Analytics & Applications WS23/24 Project\n",
    "\n",
    "The following notebook contains the applied steps of the CRISP-DM model on the\n",
    "project excercise from \"Analytics and Applications\" by Prof. Ketter in the WS23/24 of University Cologne.\n",
    "\n",
    "The following steps will be done in the specified order:\n",
    "1. Data Preparation\n",
    "2. Modeling \n",
    "3. Evaluation"
   ]
  },
  {
   "cell_type": "markdown",
   "id": "4bc9c5443ddc9a60",
   "metadata": {
    "collapsed": false
   },
   "source": [
    "## Imports & Dependencies"
   ]
  },
  {
   "cell_type": "code",
   "execution_count": 220,
   "id": "8cb848f26d92d49b",
   "metadata": {
    "collapsed": false,
    "ExecuteTime": {
     "end_time": "2024-02-07T17:49:29.973622099Z",
     "start_time": "2024-02-07T17:49:29.938516034Z"
    }
   },
   "outputs": [],
   "source": [
    "import pandas as pd\n",
    "import matplotlib.pyplot as plt"
   ]
  },
  {
   "cell_type": "markdown",
   "id": "9eb1182aa41c47d5",
   "metadata": {
    "collapsed": false
   },
   "source": [
    "## Import Data"
   ]
  },
  {
   "cell_type": "code",
   "execution_count": 221,
   "id": "initial_id",
   "metadata": {
    "collapsed": true,
    "ExecuteTime": {
     "end_time": "2024-02-07T17:49:30.276470993Z",
     "start_time": "2024-02-07T17:49:29.973823144Z"
    }
   },
   "outputs": [],
   "source": [
    "df_weather = pd.read_csv(\"data/weather_burbank_airport.csv\")\n",
    "df_charging = pd.read_csv(\"data/charging_sessions.csv\")"
   ]
  },
  {
   "cell_type": "code",
   "execution_count": 222,
   "id": "666dd342",
   "metadata": {
    "ExecuteTime": {
     "end_time": "2024-02-07T17:49:30.324753714Z",
     "start_time": "2024-02-07T17:49:30.324350069Z"
    }
   },
   "outputs": [],
   "source": [
    "# Limit the weather set to the relevant time frame of the charging sessions\n",
    "start_date = df_charging['connectionTime'].min()\n",
    "end_date = df_charging['connectionTime'].max()\n",
    "\n",
    "df_weather = df_weather[(df_weather['timestamp'] >= start_date) & (df_weather['timestamp'] <= end_date)]"
   ]
  },
  {
   "cell_type": "markdown",
   "id": "b1d7b81303abd9e7",
   "metadata": {
    "collapsed": false
   },
   "source": [
    "## Data Exploration and Preparation"
   ]
  },
  {
   "cell_type": "markdown",
   "id": "30b762bd76632994",
   "metadata": {
    "collapsed": false
   },
   "source": [
    "### Basic Data Exploration"
   ]
  },
  {
   "cell_type": "code",
   "execution_count": 223,
   "id": "73863672a74da570",
   "metadata": {
    "collapsed": false,
    "ExecuteTime": {
     "end_time": "2024-02-07T17:49:30.325117322Z",
     "start_time": "2024-02-07T17:49:30.324469638Z"
    }
   },
   "outputs": [
    {
     "data": {
      "text/plain": "         city            timestamp  temperature  cloud_cover  \\\n3037  Burbank  2018-04-25 11:53:00         12.0         27.0   \n3038  Burbank  2018-04-25 12:10:00         12.0         27.0   \n3039  Burbank  2018-04-25 12:53:00         12.0         28.0   \n3040  Burbank  2018-04-25 13:24:00         12.0         20.0   \n3041  Burbank  2018-04-25 13:53:00         12.0         20.0   \n\n     cloud_cover_description  pressure  windspeed  precipitation  \\\n3037           Mostly Cloudy    989.11        6.0            0.0   \n3038           Mostly Cloudy    989.11        7.0            0.0   \n3039           Mostly Cloudy    989.11        9.0            0.0   \n3040                     Fog    989.44        9.0            0.0   \n3041                     Fog    989.44        7.0            0.0   \n\n      felt_temperature  \n3037              12.0  \n3038              12.0  \n3039              12.0  \n3040              12.0  \n3041              12.0  ",
      "text/html": "<div>\n<style scoped>\n    .dataframe tbody tr th:only-of-type {\n        vertical-align: middle;\n    }\n\n    .dataframe tbody tr th {\n        vertical-align: top;\n    }\n\n    .dataframe thead th {\n        text-align: right;\n    }\n</style>\n<table border=\"1\" class=\"dataframe\">\n  <thead>\n    <tr style=\"text-align: right;\">\n      <th></th>\n      <th>city</th>\n      <th>timestamp</th>\n      <th>temperature</th>\n      <th>cloud_cover</th>\n      <th>cloud_cover_description</th>\n      <th>pressure</th>\n      <th>windspeed</th>\n      <th>precipitation</th>\n      <th>felt_temperature</th>\n    </tr>\n  </thead>\n  <tbody>\n    <tr>\n      <th>3037</th>\n      <td>Burbank</td>\n      <td>2018-04-25 11:53:00</td>\n      <td>12.0</td>\n      <td>27.0</td>\n      <td>Mostly Cloudy</td>\n      <td>989.11</td>\n      <td>6.0</td>\n      <td>0.0</td>\n      <td>12.0</td>\n    </tr>\n    <tr>\n      <th>3038</th>\n      <td>Burbank</td>\n      <td>2018-04-25 12:10:00</td>\n      <td>12.0</td>\n      <td>27.0</td>\n      <td>Mostly Cloudy</td>\n      <td>989.11</td>\n      <td>7.0</td>\n      <td>0.0</td>\n      <td>12.0</td>\n    </tr>\n    <tr>\n      <th>3039</th>\n      <td>Burbank</td>\n      <td>2018-04-25 12:53:00</td>\n      <td>12.0</td>\n      <td>28.0</td>\n      <td>Mostly Cloudy</td>\n      <td>989.11</td>\n      <td>9.0</td>\n      <td>0.0</td>\n      <td>12.0</td>\n    </tr>\n    <tr>\n      <th>3040</th>\n      <td>Burbank</td>\n      <td>2018-04-25 13:24:00</td>\n      <td>12.0</td>\n      <td>20.0</td>\n      <td>Fog</td>\n      <td>989.44</td>\n      <td>9.0</td>\n      <td>0.0</td>\n      <td>12.0</td>\n    </tr>\n    <tr>\n      <th>3041</th>\n      <td>Burbank</td>\n      <td>2018-04-25 13:53:00</td>\n      <td>12.0</td>\n      <td>20.0</td>\n      <td>Fog</td>\n      <td>989.44</td>\n      <td>7.0</td>\n      <td>0.0</td>\n      <td>12.0</td>\n    </tr>\n  </tbody>\n</table>\n</div>"
     },
     "metadata": {},
     "output_type": "display_data"
    }
   ],
   "source": [
    "display(df_weather.head())"
   ]
  },
  {
   "cell_type": "markdown",
   "source": [
    "### Data Types\n"
   ],
   "metadata": {
    "collapsed": false
   },
   "id": "1504378769ffa43"
  },
  {
   "cell_type": "code",
   "outputs": [
    {
     "data": {
      "text/plain": "city                        object\ntimestamp                   object\ntemperature                float64\ncloud_cover                float64\ncloud_cover_description     object\npressure                   float64\nwindspeed                  float64\nprecipitation              float64\nfelt_temperature           float64\ndtype: object"
     },
     "metadata": {},
     "output_type": "display_data"
    },
    {
     "data": {
      "text/plain": "city                                  category\ntimestamp                  datetime64[ns, UTC]\ntemperature                            float64\ncloud_cover                            float64\ncloud_cover_description         string[python]\npressure                               float64\nwindspeed                              float64\nprecipitation                          float64\nfelt_temperature                       float64\ndtype: object"
     },
     "metadata": {},
     "output_type": "display_data"
    }
   ],
   "source": [
    "display(df_weather.dtypes)\n",
    "\n",
    "df_weather = df_weather.astype(\n",
    "    {\n",
    "        \"city\": \"category\",\n",
    "        \"timestamp\": \"datetime64[ns, UTC]\",\n",
    "        \"temperature\": \"float64\",\n",
    "        \"cloud_cover\": \"float64\",\n",
    "        \"cloud_cover_description\": \"string\",\n",
    "        \"pressure\": \"float64\",\n",
    "        \"windspeed\": \"float64\",\n",
    "        \"precipitation\": \"float64\",\n",
    "        \"felt_temperature\": \"float64\",\n",
    "    }\n",
    "\n",
    ")\n",
    "\n",
    "display(df_weather.dtypes)"
   ],
   "metadata": {
    "collapsed": false,
    "ExecuteTime": {
     "end_time": "2024-02-07T17:49:30.391257845Z",
     "start_time": "2024-02-07T17:49:30.324520045Z"
    }
   },
   "id": "38505397c7f6a76a",
   "execution_count": 224
  },
  {
   "cell_type": "code",
   "outputs": [
    {
     "data": {
      "text/plain": "         city                 timestamp  temperature  cloud_cover  \\\n3037  Burbank 2018-04-25 11:53:00+00:00         12.0         27.0   \n3038  Burbank 2018-04-25 12:10:00+00:00         12.0         27.0   \n3039  Burbank 2018-04-25 12:53:00+00:00         12.0         28.0   \n3040  Burbank 2018-04-25 13:24:00+00:00         12.0         20.0   \n3041  Burbank 2018-04-25 13:53:00+00:00         12.0         20.0   \n\n     cloud_cover_description  pressure  windspeed  precipitation  \\\n3037           Mostly Cloudy    989.11        6.0            0.0   \n3038           Mostly Cloudy    989.11        7.0            0.0   \n3039           Mostly Cloudy    989.11        9.0            0.0   \n3040                     Fog    989.44        9.0            0.0   \n3041                     Fog    989.44        7.0            0.0   \n\n      felt_temperature  \n3037              12.0  \n3038              12.0  \n3039              12.0  \n3040              12.0  \n3041              12.0  ",
      "text/html": "<div>\n<style scoped>\n    .dataframe tbody tr th:only-of-type {\n        vertical-align: middle;\n    }\n\n    .dataframe tbody tr th {\n        vertical-align: top;\n    }\n\n    .dataframe thead th {\n        text-align: right;\n    }\n</style>\n<table border=\"1\" class=\"dataframe\">\n  <thead>\n    <tr style=\"text-align: right;\">\n      <th></th>\n      <th>city</th>\n      <th>timestamp</th>\n      <th>temperature</th>\n      <th>cloud_cover</th>\n      <th>cloud_cover_description</th>\n      <th>pressure</th>\n      <th>windspeed</th>\n      <th>precipitation</th>\n      <th>felt_temperature</th>\n    </tr>\n  </thead>\n  <tbody>\n    <tr>\n      <th>3037</th>\n      <td>Burbank</td>\n      <td>2018-04-25 11:53:00+00:00</td>\n      <td>12.0</td>\n      <td>27.0</td>\n      <td>Mostly Cloudy</td>\n      <td>989.11</td>\n      <td>6.0</td>\n      <td>0.0</td>\n      <td>12.0</td>\n    </tr>\n    <tr>\n      <th>3038</th>\n      <td>Burbank</td>\n      <td>2018-04-25 12:10:00+00:00</td>\n      <td>12.0</td>\n      <td>27.0</td>\n      <td>Mostly Cloudy</td>\n      <td>989.11</td>\n      <td>7.0</td>\n      <td>0.0</td>\n      <td>12.0</td>\n    </tr>\n    <tr>\n      <th>3039</th>\n      <td>Burbank</td>\n      <td>2018-04-25 12:53:00+00:00</td>\n      <td>12.0</td>\n      <td>28.0</td>\n      <td>Mostly Cloudy</td>\n      <td>989.11</td>\n      <td>9.0</td>\n      <td>0.0</td>\n      <td>12.0</td>\n    </tr>\n    <tr>\n      <th>3040</th>\n      <td>Burbank</td>\n      <td>2018-04-25 13:24:00+00:00</td>\n      <td>12.0</td>\n      <td>20.0</td>\n      <td>Fog</td>\n      <td>989.44</td>\n      <td>9.0</td>\n      <td>0.0</td>\n      <td>12.0</td>\n    </tr>\n    <tr>\n      <th>3041</th>\n      <td>Burbank</td>\n      <td>2018-04-25 13:53:00+00:00</td>\n      <td>12.0</td>\n      <td>20.0</td>\n      <td>Fog</td>\n      <td>989.44</td>\n      <td>7.0</td>\n      <td>0.0</td>\n      <td>12.0</td>\n    </tr>\n  </tbody>\n</table>\n</div>"
     },
     "metadata": {},
     "output_type": "display_data"
    },
    {
     "data": {
      "text/plain": "          city                 timestamp  temperature  cloud_cover  \\\n3210   Burbank 2018-05-01 15:53:00+00:00         11.0         11.0   \n3495   Burbank 2018-05-12 12:11:00+00:00         13.0         11.0   \n3496   Burbank 2018-05-12 12:53:00+00:00         13.0         11.0   \n3498   Burbank 2018-05-12 13:53:00+00:00         12.0         26.0   \n3755   Burbank 2018-05-21 18:24:00+00:00         14.0         11.0   \n...        ...                       ...          ...          ...   \n29159  Burbank 2020-12-28 23:17:00+00:00          8.0         40.0   \n29160  Burbank 2020-12-28 23:53:00+00:00          8.0         11.0   \n29161  Burbank 2020-12-29 00:00:00+00:00          8.0         12.0   \n29162  Burbank 2020-12-29 00:53:00+00:00          7.0         11.0   \n29164  Burbank 2020-12-29 02:53:00+00:00          8.0         27.0   \n\n      cloud_cover_description  pressure  windspeed  precipitation  \\\n3210               Light Rain    983.52       19.0           0.25   \n3495               Light Rain    984.83       13.0           0.25   \n3496               Light Rain    985.16       17.0           0.25   \n3498                   Cloudy    985.49       15.0           0.25   \n3755               Light Rain    984.17       11.0           0.51   \n...                       ...       ...        ...            ...   \n29159              Heavy Rain    982.86       17.0           0.51   \n29160              Light Rain    983.19        0.0           3.30   \n29161                    Rain    983.19        0.0           0.25   \n29162              Light Rain    983.19       13.0           1.78   \n29164           Mostly Cloudy    984.17        0.0           0.25   \n\n       felt_temperature  \n3210               11.0  \n3495               13.0  \n3496               13.0  \n3498               12.0  \n3755               14.0  \n...                 ...  \n29159               6.0  \n29160               8.0  \n29161               8.0  \n29162               4.0  \n29164               8.0  \n\n[961 rows x 9 columns]",
      "text/html": "<div>\n<style scoped>\n    .dataframe tbody tr th:only-of-type {\n        vertical-align: middle;\n    }\n\n    .dataframe tbody tr th {\n        vertical-align: top;\n    }\n\n    .dataframe thead th {\n        text-align: right;\n    }\n</style>\n<table border=\"1\" class=\"dataframe\">\n  <thead>\n    <tr style=\"text-align: right;\">\n      <th></th>\n      <th>city</th>\n      <th>timestamp</th>\n      <th>temperature</th>\n      <th>cloud_cover</th>\n      <th>cloud_cover_description</th>\n      <th>pressure</th>\n      <th>windspeed</th>\n      <th>precipitation</th>\n      <th>felt_temperature</th>\n    </tr>\n  </thead>\n  <tbody>\n    <tr>\n      <th>3210</th>\n      <td>Burbank</td>\n      <td>2018-05-01 15:53:00+00:00</td>\n      <td>11.0</td>\n      <td>11.0</td>\n      <td>Light Rain</td>\n      <td>983.52</td>\n      <td>19.0</td>\n      <td>0.25</td>\n      <td>11.0</td>\n    </tr>\n    <tr>\n      <th>3495</th>\n      <td>Burbank</td>\n      <td>2018-05-12 12:11:00+00:00</td>\n      <td>13.0</td>\n      <td>11.0</td>\n      <td>Light Rain</td>\n      <td>984.83</td>\n      <td>13.0</td>\n      <td>0.25</td>\n      <td>13.0</td>\n    </tr>\n    <tr>\n      <th>3496</th>\n      <td>Burbank</td>\n      <td>2018-05-12 12:53:00+00:00</td>\n      <td>13.0</td>\n      <td>11.0</td>\n      <td>Light Rain</td>\n      <td>985.16</td>\n      <td>17.0</td>\n      <td>0.25</td>\n      <td>13.0</td>\n    </tr>\n    <tr>\n      <th>3498</th>\n      <td>Burbank</td>\n      <td>2018-05-12 13:53:00+00:00</td>\n      <td>12.0</td>\n      <td>26.0</td>\n      <td>Cloudy</td>\n      <td>985.49</td>\n      <td>15.0</td>\n      <td>0.25</td>\n      <td>12.0</td>\n    </tr>\n    <tr>\n      <th>3755</th>\n      <td>Burbank</td>\n      <td>2018-05-21 18:24:00+00:00</td>\n      <td>14.0</td>\n      <td>11.0</td>\n      <td>Light Rain</td>\n      <td>984.17</td>\n      <td>11.0</td>\n      <td>0.51</td>\n      <td>14.0</td>\n    </tr>\n    <tr>\n      <th>...</th>\n      <td>...</td>\n      <td>...</td>\n      <td>...</td>\n      <td>...</td>\n      <td>...</td>\n      <td>...</td>\n      <td>...</td>\n      <td>...</td>\n      <td>...</td>\n    </tr>\n    <tr>\n      <th>29159</th>\n      <td>Burbank</td>\n      <td>2020-12-28 23:17:00+00:00</td>\n      <td>8.0</td>\n      <td>40.0</td>\n      <td>Heavy Rain</td>\n      <td>982.86</td>\n      <td>17.0</td>\n      <td>0.51</td>\n      <td>6.0</td>\n    </tr>\n    <tr>\n      <th>29160</th>\n      <td>Burbank</td>\n      <td>2020-12-28 23:53:00+00:00</td>\n      <td>8.0</td>\n      <td>11.0</td>\n      <td>Light Rain</td>\n      <td>983.19</td>\n      <td>0.0</td>\n      <td>3.30</td>\n      <td>8.0</td>\n    </tr>\n    <tr>\n      <th>29161</th>\n      <td>Burbank</td>\n      <td>2020-12-29 00:00:00+00:00</td>\n      <td>8.0</td>\n      <td>12.0</td>\n      <td>Rain</td>\n      <td>983.19</td>\n      <td>0.0</td>\n      <td>0.25</td>\n      <td>8.0</td>\n    </tr>\n    <tr>\n      <th>29162</th>\n      <td>Burbank</td>\n      <td>2020-12-29 00:53:00+00:00</td>\n      <td>7.0</td>\n      <td>11.0</td>\n      <td>Light Rain</td>\n      <td>983.19</td>\n      <td>13.0</td>\n      <td>1.78</td>\n      <td>4.0</td>\n    </tr>\n    <tr>\n      <th>29164</th>\n      <td>Burbank</td>\n      <td>2020-12-29 02:53:00+00:00</td>\n      <td>8.0</td>\n      <td>27.0</td>\n      <td>Mostly Cloudy</td>\n      <td>984.17</td>\n      <td>0.0</td>\n      <td>0.25</td>\n      <td>8.0</td>\n    </tr>\n  </tbody>\n</table>\n<p>961 rows × 9 columns</p>\n</div>"
     },
     "metadata": {},
     "output_type": "display_data"
    }
   ],
   "source": [
    "# Display dataframe\n",
    "display(df_weather.head())\n",
    "\n",
    "# Display where precipitation is not 0\n",
    "display(df_weather[df_weather['precipitation'] > 0])"
   ],
   "metadata": {
    "collapsed": false,
    "ExecuteTime": {
     "end_time": "2024-02-07T18:22:14.048868517Z",
     "start_time": "2024-02-07T18:22:14.003594224Z"
    }
   },
   "id": "ae5f83a4fabf4347",
   "execution_count": 233
  },
  {
   "cell_type": "code",
   "outputs": [
    {
     "name": "stdout",
     "output_type": "stream",
     "text": [
      "city\n",
      "Burbank    26207\n",
      "Name: count, dtype: int64\n"
     ]
    }
   ],
   "source": [
    "## Check if the dataset contains multiple cities\n",
    "print(df_weather['city'].value_counts())"
   ],
   "metadata": {
    "collapsed": false,
    "ExecuteTime": {
     "end_time": "2024-02-07T17:49:30.391879870Z",
     "start_time": "2024-02-07T17:49:30.381674058Z"
    }
   },
   "id": "8286bc7132e01658",
   "execution_count": 226
  },
  {
   "cell_type": "markdown",
   "source": [
    "### Missing Values"
   ],
   "metadata": {
    "collapsed": false
   },
   "id": "be75d2c093ccd33a"
  },
  {
   "cell_type": "code",
   "outputs": [
    {
     "data": {
      "text/plain": "city                        0\ntimestamp                   0\ntemperature                25\ncloud_cover                20\ncloud_cover_description    20\npressure                    8\nwindspeed                  81\nprecipitation               0\nfelt_temperature           26\ndtype: int64"
     },
     "metadata": {},
     "output_type": "display_data"
    }
   ],
   "source": [
    "# Check null values\n",
    "display(df_weather.isna().sum())"
   ],
   "metadata": {
    "collapsed": false,
    "ExecuteTime": {
     "end_time": "2024-02-07T17:49:30.404532629Z",
     "start_time": "2024-02-07T17:49:30.389456657Z"
    }
   },
   "id": "a313fc665fd47c4c",
   "execution_count": 227
  },
  {
   "cell_type": "code",
   "outputs": [
    {
     "name": "stdout",
     "output_type": "stream",
     "text": [
      "Missing hours: 93\n"
     ]
    },
    {
     "name": "stderr",
     "output_type": "stream",
     "text": [
      "/tmp/ipykernel_994050/2024676293.py:27: FutureWarning: The behavior of DataFrame concatenation with empty or all-NA entries is deprecated. In a future version, this will no longer exclude empty or all-NA columns when determining the result dtypes. To retain the old behavior, exclude the relevant entries before the concat operation.\n",
      "  df_weather = pd.concat([df_weather, missing_df])\n"
     ]
    },
    {
     "data": {
      "text/plain": "city                         0\ntimestamp                    0\ntemperature                118\ncloud_cover                113\ncloud_cover_description    113\npressure                   101\nwindspeed                  174\nprecipitation               93\nfelt_temperature           119\ndtype: int64"
     },
     "metadata": {},
     "output_type": "display_data"
    }
   ],
   "source": [
    "# Check if there are any time series missing, the data contains one entry per hour\n",
    "min_date = df_weather['timestamp'].min()\n",
    "max_date = df_weather['timestamp'].max()\n",
    "\n",
    "def get_missing_hours(df, min_date, max_date):\n",
    "    date_range = pd.date_range(start=min_date, end=max_date, freq='H')\n",
    "    missing_dates = date_range[~date_range.isin(df['timestamp'])]\n",
    "    return missing_dates\n",
    "\n",
    "missing_hours = get_missing_hours(df_weather, min_date, max_date)\n",
    "print(f\"Missing hours: {len(missing_hours)}\")\n",
    "\n",
    "# Add missing hours to dataframe\n",
    "missing_df = pd.DataFrame({\n",
    "    'timestamp': missing_hours,\n",
    "    'city': 'Burbank',\n",
    "    'temperature': None,\n",
    "    'cloud_cover': None,\n",
    "    'cloud_cover_description': None,\n",
    "    'pressure': None,\n",
    "    'windspeed': None,\n",
    "    'precipitation': None,\n",
    "    'felt_temperature': None\n",
    "})\n",
    "\n",
    "# Merge missing hours with original dataframe\n",
    "df_weather = pd.concat([df_weather, missing_df])\n",
    "df_weather = df_weather.sort_values(by='timestamp')\n",
    "display(df_weather.isna().sum())"
   ],
   "metadata": {
    "collapsed": false,
    "ExecuteTime": {
     "end_time": "2024-02-07T17:49:30.453645003Z",
     "start_time": "2024-02-07T17:49:30.397800777Z"
    }
   },
   "id": "73862e7ae7b89048",
   "execution_count": 228
  },
  {
   "cell_type": "code",
   "outputs": [
    {
     "data": {
      "text/plain": "city                         0\ntimestamp                    0\ntemperature                  0\ncloud_cover                  0\ncloud_cover_description    113\npressure                     0\nwindspeed                    0\nprecipitation                0\nfelt_temperature             0\ndtype: int64"
     },
     "metadata": {},
     "output_type": "display_data"
    }
   ],
   "source": [
    "# Temperature, cloud_cover, pressure, windspeed, precipitation and felt_temperature are all numerical values, so we can fill them with an interpolation\n",
    "numeric_columns = ['temperature', 'cloud_cover', 'pressure', 'windspeed', 'precipitation', 'felt_temperature']\n",
    "df_weather[numeric_columns] = df_weather[numeric_columns].interpolate()\n",
    "display(df_weather.isna().sum())"
   ],
   "metadata": {
    "collapsed": false,
    "ExecuteTime": {
     "end_time": "2024-02-07T17:49:30.453953104Z",
     "start_time": "2024-02-07T17:49:30.440489157Z"
    }
   },
   "id": "3f44396dd51eeb4e",
   "execution_count": 229
  },
  {
   "cell_type": "code",
   "outputs": [
    {
     "data": {
      "text/plain": "city                       0\ntimestamp                  0\ntemperature                0\ncloud_cover                0\ncloud_cover_description    0\npressure                   0\nwindspeed                  0\nprecipitation              0\nfelt_temperature           0\ndtype: int64"
     },
     "metadata": {},
     "output_type": "display_data"
    }
   ],
   "source": [
    "# Categorical columns can be filled with the previous value\n",
    "categorical_columns = ['cloud_cover_description']\n",
    "df_weather[categorical_columns] = df_weather[categorical_columns].ffill()\n",
    "\n",
    "display(df_weather.isna().sum())"
   ],
   "metadata": {
    "collapsed": false,
    "ExecuteTime": {
     "end_time": "2024-02-07T17:49:30.454170652Z",
     "start_time": "2024-02-07T17:49:30.440642862Z"
    }
   },
   "id": "2e5da1c319937c66",
   "execution_count": 230
  },
  {
   "cell_type": "code",
   "outputs": [
    {
     "data": {
      "text/plain": "         city                 timestamp  temperature  cloud_cover  \\\n3037  Burbank 2018-04-25 11:53:00+00:00         12.0         27.0   \n3038  Burbank 2018-04-25 12:10:00+00:00         12.0         27.0   \n3039  Burbank 2018-04-25 12:53:00+00:00         12.0         28.0   \n3040  Burbank 2018-04-25 13:24:00+00:00         12.0         20.0   \n3041  Burbank 2018-04-25 13:53:00+00:00         12.0         20.0   \n\n     cloud_cover_description  pressure  windspeed  precipitation  \\\n3037           Mostly Cloudy    989.11        6.0            0.0   \n3038           Mostly Cloudy    989.11        7.0            0.0   \n3039           Mostly Cloudy    989.11        9.0            0.0   \n3040                     Fog    989.44        9.0            0.0   \n3041                     Fog    989.44        7.0            0.0   \n\n      felt_temperature  \n3037              12.0  \n3038              12.0  \n3039              12.0  \n3040              12.0  \n3041              12.0  ",
      "text/html": "<div>\n<style scoped>\n    .dataframe tbody tr th:only-of-type {\n        vertical-align: middle;\n    }\n\n    .dataframe tbody tr th {\n        vertical-align: top;\n    }\n\n    .dataframe thead th {\n        text-align: right;\n    }\n</style>\n<table border=\"1\" class=\"dataframe\">\n  <thead>\n    <tr style=\"text-align: right;\">\n      <th></th>\n      <th>city</th>\n      <th>timestamp</th>\n      <th>temperature</th>\n      <th>cloud_cover</th>\n      <th>cloud_cover_description</th>\n      <th>pressure</th>\n      <th>windspeed</th>\n      <th>precipitation</th>\n      <th>felt_temperature</th>\n    </tr>\n  </thead>\n  <tbody>\n    <tr>\n      <th>3037</th>\n      <td>Burbank</td>\n      <td>2018-04-25 11:53:00+00:00</td>\n      <td>12.0</td>\n      <td>27.0</td>\n      <td>Mostly Cloudy</td>\n      <td>989.11</td>\n      <td>6.0</td>\n      <td>0.0</td>\n      <td>12.0</td>\n    </tr>\n    <tr>\n      <th>3038</th>\n      <td>Burbank</td>\n      <td>2018-04-25 12:10:00+00:00</td>\n      <td>12.0</td>\n      <td>27.0</td>\n      <td>Mostly Cloudy</td>\n      <td>989.11</td>\n      <td>7.0</td>\n      <td>0.0</td>\n      <td>12.0</td>\n    </tr>\n    <tr>\n      <th>3039</th>\n      <td>Burbank</td>\n      <td>2018-04-25 12:53:00+00:00</td>\n      <td>12.0</td>\n      <td>28.0</td>\n      <td>Mostly Cloudy</td>\n      <td>989.11</td>\n      <td>9.0</td>\n      <td>0.0</td>\n      <td>12.0</td>\n    </tr>\n    <tr>\n      <th>3040</th>\n      <td>Burbank</td>\n      <td>2018-04-25 13:24:00+00:00</td>\n      <td>12.0</td>\n      <td>20.0</td>\n      <td>Fog</td>\n      <td>989.44</td>\n      <td>9.0</td>\n      <td>0.0</td>\n      <td>12.0</td>\n    </tr>\n    <tr>\n      <th>3041</th>\n      <td>Burbank</td>\n      <td>2018-04-25 13:53:00+00:00</td>\n      <td>12.0</td>\n      <td>20.0</td>\n      <td>Fog</td>\n      <td>989.44</td>\n      <td>7.0</td>\n      <td>0.0</td>\n      <td>12.0</td>\n    </tr>\n  </tbody>\n</table>\n</div>"
     },
     "metadata": {},
     "output_type": "display_data"
    }
   ],
   "source": [
    "# Display dataframe\n",
    "display(df_weather.head())"
   ],
   "metadata": {
    "collapsed": false,
    "ExecuteTime": {
     "end_time": "2024-02-07T17:49:30.486169443Z",
     "start_time": "2024-02-07T17:49:30.440730671Z"
    }
   },
   "id": "14d40b6745fa16b9",
   "execution_count": 231
  },
  {
   "cell_type": "code",
   "execution_count": 232,
   "id": "6611cf1afd334e78",
   "metadata": {
    "collapsed": false,
    "ExecuteTime": {
     "end_time": "2024-02-07T17:49:30.573635896Z",
     "start_time": "2024-02-07T17:49:30.484347586Z"
    }
   },
   "outputs": [],
   "source": [
    "df_weather.to_pickle('data/weather_modified.pkl')\n",
    "df_weather.to_csv('data/weather_modified.csv')"
   ]
  }
 ],
 "metadata": {
  "kernelspec": {
   "display_name": "Python 3",
   "language": "python",
   "name": "python3"
  },
  "language_info": {
   "codemirror_mode": {
    "name": "ipython",
    "version": 3
   },
   "file_extension": ".py",
   "mimetype": "text/x-python",
   "name": "python",
   "nbconvert_exporter": "python",
   "pygments_lexer": "ipython3",
   "version": "3.9.2rc1"
  }
 },
 "nbformat": 4,
 "nbformat_minor": 5
}
