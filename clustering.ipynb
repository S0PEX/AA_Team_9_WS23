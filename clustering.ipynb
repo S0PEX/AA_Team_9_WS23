{
 "cells": [
  {
   "cell_type": "code",
   "execution_count": 5,
   "id": "initial_id",
   "metadata": {
    "collapsed": true,
    "ExecuteTime": {
     "end_time": "2023-12-22T09:10:19.464502Z",
     "start_time": "2023-12-22T09:10:19.448914200Z"
    }
   },
   "outputs": [],
   "source": [
    "import pandas as pd\n",
    "import json\n",
    "import sklearn"
   ]
  },
  {
   "cell_type": "code",
   "outputs": [
    {
     "data": {
      "text/plain": "                             id            connectionTime  \\\nIndex                                                       \n0      5e23b149f9af8b5fe4b973cf 2020-01-02 13:08:54+00:00   \n1      5e23b149f9af8b5fe4b973d0 2020-01-02 13:36:50+00:00   \n2      5e23b149f9af8b5fe4b973d1 2020-01-02 13:56:35+00:00   \n3      5e23b149f9af8b5fe4b973d2 2020-01-02 13:59:58+00:00   \n4      5e23b149f9af8b5fe4b973d3 2020-01-02 14:00:01+00:00   \n\n                 disconnectTime          doneChargingTime  kWhDelivered  \\\nIndex                                                                     \n0     2020-01-02 19:11:15+00:00 2020-01-02 17:31:35+00:00        25.016   \n1     2020-01-02 22:38:21+00:00 2020-01-02 20:18:05+00:00        33.097   \n2     2020-01-03 00:39:22+00:00 2020-01-02 16:35:06+00:00         6.521   \n3     2020-01-02 16:38:39+00:00 2020-01-02 15:18:45+00:00         2.355   \n4     2020-01-02 22:08:40+00:00 2020-01-02 18:17:30+00:00        13.375   \n\n      siteID  spaceID    stationID  userID  NoChargingTime  ...  kWhPerMinute  \\\nIndex                                                       ...                 \n0          1  AG-3F30  1-1-179-810   194.0 0 days 01:39:40  ...      0.095233   \n1          1  AG-1F01  1-1-193-825  4275.0 0 days 02:20:16  ...      0.082485   \n2          1  AG-1F03  1-1-193-829   344.0 0 days 08:04:16  ...      0.041138   \n3          1  AG-1F04  1-1-193-820  1117.0 0 days 01:19:54  ...      0.029892   \n4          1  AG-1F06  1-1-193-819   334.0 0 days 03:51:10  ...      0.051945   \n\n      month  user_paymentRequired_values  user_userID  \\\nIndex                                                   \n0         1                         True        194.0   \n1         1                         True       4275.0   \n2         1                         True        344.0   \n3         1                         True       1117.0   \n4         1                         True        334.0   \n\n             user_requestedDeparture                user_modifiedAt  \\\nIndex                                                                 \n0      Thu, 02 Jan 2020 20:51:54 GMT  Thu, 02 Jan 2020 13:09:39 GMT   \n1      Thu, 02 Jan 2020 23:31:50 GMT  Thu, 02 Jan 2020 13:37:11 GMT   \n2      Thu, 02 Jan 2020 14:56:35 GMT  Thu, 02 Jan 2020 13:57:17 GMT   \n3      Thu, 02 Jan 2020 15:04:58 GMT  Thu, 02 Jan 2020 14:00:03 GMT   \n4      Thu, 02 Jan 2020 22:24:01 GMT  Thu, 02 Jan 2020 14:00:13 GMT   \n\n       user_minutesAvailable user_milesRequested user_kWhRequested  \\\nIndex                                                                \n0                      463.0               100.0              25.0   \n1                      595.0               250.0              70.0   \n2                       60.0                20.0               8.0   \n3                       65.0                20.0               8.0   \n4                      504.0                40.0              16.0   \n\n       user_WhPerMile  \nIndex                  \n0               250.0  \n1               280.0  \n2               400.0  \n3               400.0  \n4               400.0  \n\n[5 rows x 23 columns]",
      "text/html": "<div>\n<style scoped>\n    .dataframe tbody tr th:only-of-type {\n        vertical-align: middle;\n    }\n\n    .dataframe tbody tr th {\n        vertical-align: top;\n    }\n\n    .dataframe thead th {\n        text-align: right;\n    }\n</style>\n<table border=\"1\" class=\"dataframe\">\n  <thead>\n    <tr style=\"text-align: right;\">\n      <th></th>\n      <th>id</th>\n      <th>connectionTime</th>\n      <th>disconnectTime</th>\n      <th>doneChargingTime</th>\n      <th>kWhDelivered</th>\n      <th>siteID</th>\n      <th>spaceID</th>\n      <th>stationID</th>\n      <th>userID</th>\n      <th>NoChargingTime</th>\n      <th>...</th>\n      <th>kWhPerMinute</th>\n      <th>month</th>\n      <th>user_paymentRequired_values</th>\n      <th>user_userID</th>\n      <th>user_requestedDeparture</th>\n      <th>user_modifiedAt</th>\n      <th>user_minutesAvailable</th>\n      <th>user_milesRequested</th>\n      <th>user_kWhRequested</th>\n      <th>user_WhPerMile</th>\n    </tr>\n    <tr>\n      <th>Index</th>\n      <th></th>\n      <th></th>\n      <th></th>\n      <th></th>\n      <th></th>\n      <th></th>\n      <th></th>\n      <th></th>\n      <th></th>\n      <th></th>\n      <th></th>\n      <th></th>\n      <th></th>\n      <th></th>\n      <th></th>\n      <th></th>\n      <th></th>\n      <th></th>\n      <th></th>\n      <th></th>\n      <th></th>\n    </tr>\n  </thead>\n  <tbody>\n    <tr>\n      <th>0</th>\n      <td>5e23b149f9af8b5fe4b973cf</td>\n      <td>2020-01-02 13:08:54+00:00</td>\n      <td>2020-01-02 19:11:15+00:00</td>\n      <td>2020-01-02 17:31:35+00:00</td>\n      <td>25.016</td>\n      <td>1</td>\n      <td>AG-3F30</td>\n      <td>1-1-179-810</td>\n      <td>194.0</td>\n      <td>0 days 01:39:40</td>\n      <td>...</td>\n      <td>0.095233</td>\n      <td>1</td>\n      <td>True</td>\n      <td>194.0</td>\n      <td>Thu, 02 Jan 2020 20:51:54 GMT</td>\n      <td>Thu, 02 Jan 2020 13:09:39 GMT</td>\n      <td>463.0</td>\n      <td>100.0</td>\n      <td>25.0</td>\n      <td>250.0</td>\n    </tr>\n    <tr>\n      <th>1</th>\n      <td>5e23b149f9af8b5fe4b973d0</td>\n      <td>2020-01-02 13:36:50+00:00</td>\n      <td>2020-01-02 22:38:21+00:00</td>\n      <td>2020-01-02 20:18:05+00:00</td>\n      <td>33.097</td>\n      <td>1</td>\n      <td>AG-1F01</td>\n      <td>1-1-193-825</td>\n      <td>4275.0</td>\n      <td>0 days 02:20:16</td>\n      <td>...</td>\n      <td>0.082485</td>\n      <td>1</td>\n      <td>True</td>\n      <td>4275.0</td>\n      <td>Thu, 02 Jan 2020 23:31:50 GMT</td>\n      <td>Thu, 02 Jan 2020 13:37:11 GMT</td>\n      <td>595.0</td>\n      <td>250.0</td>\n      <td>70.0</td>\n      <td>280.0</td>\n    </tr>\n    <tr>\n      <th>2</th>\n      <td>5e23b149f9af8b5fe4b973d1</td>\n      <td>2020-01-02 13:56:35+00:00</td>\n      <td>2020-01-03 00:39:22+00:00</td>\n      <td>2020-01-02 16:35:06+00:00</td>\n      <td>6.521</td>\n      <td>1</td>\n      <td>AG-1F03</td>\n      <td>1-1-193-829</td>\n      <td>344.0</td>\n      <td>0 days 08:04:16</td>\n      <td>...</td>\n      <td>0.041138</td>\n      <td>1</td>\n      <td>True</td>\n      <td>344.0</td>\n      <td>Thu, 02 Jan 2020 14:56:35 GMT</td>\n      <td>Thu, 02 Jan 2020 13:57:17 GMT</td>\n      <td>60.0</td>\n      <td>20.0</td>\n      <td>8.0</td>\n      <td>400.0</td>\n    </tr>\n    <tr>\n      <th>3</th>\n      <td>5e23b149f9af8b5fe4b973d2</td>\n      <td>2020-01-02 13:59:58+00:00</td>\n      <td>2020-01-02 16:38:39+00:00</td>\n      <td>2020-01-02 15:18:45+00:00</td>\n      <td>2.355</td>\n      <td>1</td>\n      <td>AG-1F04</td>\n      <td>1-1-193-820</td>\n      <td>1117.0</td>\n      <td>0 days 01:19:54</td>\n      <td>...</td>\n      <td>0.029892</td>\n      <td>1</td>\n      <td>True</td>\n      <td>1117.0</td>\n      <td>Thu, 02 Jan 2020 15:04:58 GMT</td>\n      <td>Thu, 02 Jan 2020 14:00:03 GMT</td>\n      <td>65.0</td>\n      <td>20.0</td>\n      <td>8.0</td>\n      <td>400.0</td>\n    </tr>\n    <tr>\n      <th>4</th>\n      <td>5e23b149f9af8b5fe4b973d3</td>\n      <td>2020-01-02 14:00:01+00:00</td>\n      <td>2020-01-02 22:08:40+00:00</td>\n      <td>2020-01-02 18:17:30+00:00</td>\n      <td>13.375</td>\n      <td>1</td>\n      <td>AG-1F06</td>\n      <td>1-1-193-819</td>\n      <td>334.0</td>\n      <td>0 days 03:51:10</td>\n      <td>...</td>\n      <td>0.051945</td>\n      <td>1</td>\n      <td>True</td>\n      <td>334.0</td>\n      <td>Thu, 02 Jan 2020 22:24:01 GMT</td>\n      <td>Thu, 02 Jan 2020 14:00:13 GMT</td>\n      <td>504.0</td>\n      <td>40.0</td>\n      <td>16.0</td>\n      <td>400.0</td>\n    </tr>\n  </tbody>\n</table>\n<p>5 rows × 23 columns</p>\n</div>"
     },
     "execution_count": 6,
     "metadata": {},
     "output_type": "execute_result"
    }
   ],
   "source": [
    "# Load cleaned charging data\n",
    "charging_data: pd.DataFrame = pd.read_pickle('data/charging_modified.pkl')\n",
    "\n",
    "# Print head\n",
    "charging_data.head()"
   ],
   "metadata": {
    "collapsed": false,
    "ExecuteTime": {
     "end_time": "2023-12-22T09:10:19.512273200Z",
     "start_time": "2023-12-22T09:10:19.467520900Z"
    }
   },
   "id": "7092c40d647c496d",
   "execution_count": 6
  },
  {
   "cell_type": "code",
   "outputs": [
    {
     "data": {
      "text/plain": "Empty DataFrame\nColumns: [id, connectionTime, disconnectTime, doneChargingTime, kWhDelivered, siteID, spaceID, stationID, userID, NoChargingTime, NoChargingTimeMinutes, ChargingTime, ChargingTimeMinutes, kWhPerMinute, month, user_paymentRequired_values, user_userID, user_requestedDeparture, user_modifiedAt, user_minutesAvailable, user_milesRequested, user_kWhRequested, user_WhPerMile]\nIndex: []\n\n[0 rows x 23 columns]",
      "text/html": "<div>\n<style scoped>\n    .dataframe tbody tr th:only-of-type {\n        vertical-align: middle;\n    }\n\n    .dataframe tbody tr th {\n        vertical-align: top;\n    }\n\n    .dataframe thead th {\n        text-align: right;\n    }\n</style>\n<table border=\"1\" class=\"dataframe\">\n  <thead>\n    <tr style=\"text-align: right;\">\n      <th></th>\n      <th>id</th>\n      <th>connectionTime</th>\n      <th>disconnectTime</th>\n      <th>doneChargingTime</th>\n      <th>kWhDelivered</th>\n      <th>siteID</th>\n      <th>spaceID</th>\n      <th>stationID</th>\n      <th>userID</th>\n      <th>NoChargingTime</th>\n      <th>...</th>\n      <th>kWhPerMinute</th>\n      <th>month</th>\n      <th>user_paymentRequired_values</th>\n      <th>user_userID</th>\n      <th>user_requestedDeparture</th>\n      <th>user_modifiedAt</th>\n      <th>user_minutesAvailable</th>\n      <th>user_milesRequested</th>\n      <th>user_kWhRequested</th>\n      <th>user_WhPerMile</th>\n    </tr>\n    <tr>\n      <th>Index</th>\n      <th></th>\n      <th></th>\n      <th></th>\n      <th></th>\n      <th></th>\n      <th></th>\n      <th></th>\n      <th></th>\n      <th></th>\n      <th></th>\n      <th></th>\n      <th></th>\n      <th></th>\n      <th></th>\n      <th></th>\n      <th></th>\n      <th></th>\n      <th></th>\n      <th></th>\n      <th></th>\n      <th></th>\n    </tr>\n  </thead>\n  <tbody>\n  </tbody>\n</table>\n<p>0 rows × 23 columns</p>\n</div>"
     },
     "execution_count": 39,
     "metadata": {},
     "output_type": "execute_result"
    }
   ],
   "source": [
    "# Print rows with null values\n",
    "charging_data[charging_data.isnull().values.any(axis=1)]"
   ],
   "metadata": {
    "collapsed": false,
    "ExecuteTime": {
     "end_time": "2023-12-22T09:41:26.672828500Z",
     "start_time": "2023-12-22T09:41:26.644669800Z"
    }
   },
   "id": "6f8412ade0bef908",
   "execution_count": 39
  },
  {
   "cell_type": "code",
   "outputs": [],
   "source": [
    "# Delete rows with null values\n",
    "charging_data = charging_data.dropna()"
   ],
   "metadata": {
    "collapsed": false,
    "ExecuteTime": {
     "end_time": "2023-12-22T09:41:43.865288700Z",
     "start_time": "2023-12-22T09:41:43.824062Z"
    }
   },
   "id": "64d9384a40a768c4",
   "execution_count": 40
  },
  {
   "cell_type": "code",
   "outputs": [
    {
     "data": {
      "text/plain": "connectionTime           float64\ndisconnectTime           float64\ndoneChargingTime         float64\nkWhDelivered             float64\nsiteID                     int64\n                          ...   \nstationID_2-39-91-441       bool\nstationID_2-39-92-436       bool\nstationID_2-39-92-442       bool\nstationID_2-39-95-27        bool\nstationID_2-39-95-444       bool\nLength: 227, dtype: object"
     },
     "execution_count": 49,
     "metadata": {},
     "output_type": "execute_result"
    }
   ],
   "source": [
    "# Drop unnecessary columns\n",
    "prepared_data = charging_data.drop(columns=['id', 'ChargingTime', 'NoChargingTime', 'user_modifiedAt'])\n",
    "prepared_data.head()\n",
    "\n",
    "# Convert string dates to numeric timestamps\n",
    "date_colum_names = ['connectionTime', 'disconnectTime', 'doneChargingTime', 'user_requestedDeparture']\n",
    "for date_column_name in date_colum_names:\n",
    "    prepared_data[date_column_name] = pd.to_datetime(prepared_data[date_column_name]).values.astype(float)\n",
    "\n",
    "# Hot encode categorical columns\n",
    "categorical_columns = ['spaceID', 'stationID']\n",
    "prepared_data = prepared_data.astype({\n",
    "    'spaceID': 'category',\n",
    "    'stationID': 'category',\n",
    "    'siteID': 'int64',\n",
    "})\n",
    "\n",
    "prepared_data = pd.get_dummies(prepared_data, columns=categorical_columns)\n",
    "\n",
    "# Print types\n",
    "prepared_data.dtypes"
   ],
   "metadata": {
    "collapsed": false,
    "ExecuteTime": {
     "end_time": "2023-12-22T09:44:11.856229800Z",
     "start_time": "2023-12-22T09:44:11.643061500Z"
    }
   },
   "id": "ed5de49f6f29868",
   "execution_count": 49
  },
  {
   "cell_type": "code",
   "outputs": [],
   "source": [
    "cluster_input_data = prepared_data"
   ],
   "metadata": {
    "collapsed": false,
    "ExecuteTime": {
     "end_time": "2023-12-22T09:47:47.048051700Z",
     "start_time": "2023-12-22T09:47:47.042087700Z"
    }
   },
   "id": "ae9685dd3534c35b",
   "execution_count": 56
  },
  {
   "cell_type": "code",
   "outputs": [],
   "source": [
    "from sklearn.decomposition import PCA\n",
    "\n",
    "# Project the data to 2d so that we can later visualize the clusters\n",
    "pca = PCA(2)\n",
    "pca_result = pca.fit_transform(cluster_input_data)"
   ],
   "metadata": {
    "collapsed": false,
    "ExecuteTime": {
     "end_time": "2023-12-22T09:51:40.261208200Z",
     "start_time": "2023-12-22T09:51:39.723744200Z"
    }
   },
   "id": "99e2c691affa3f5d",
   "execution_count": 60
  },
  {
   "cell_type": "code",
   "outputs": [
    {
     "name": "stderr",
     "output_type": "stream",
     "text": [
      "C:\\Users\\Administrator\\Desktop\\Uni\\AA_Team_9_WS23\\venv\\Lib\\site-packages\\sklearn\\cluster\\_kmeans.py:1416: FutureWarning: The default value of `n_init` will change from 10 to 'auto' in 1.4. Set the value of `n_init` explicitly to suppress the warning\n",
      "  super()._check_params_vs_input(X, default_n_init=10)\n"
     ]
    },
    {
     "data": {
      "text/plain": "array([2, 2, 2, ..., 4, 4, 4])"
     },
     "execution_count": 63,
     "metadata": {},
     "output_type": "execute_result"
    }
   ],
   "source": [
    "from sklearn.cluster import KMeans\n",
    "\n",
    "kmeans = KMeans(n_clusters=5, random_state=42)\n",
    "labels = kmeans.fit_predict(pca_result)\n",
    "labels"
   ],
   "metadata": {
    "collapsed": false,
    "ExecuteTime": {
     "end_time": "2023-12-22T09:52:06.850522500Z",
     "start_time": "2023-12-22T09:52:06.742942900Z"
    }
   },
   "id": "acdd833564aba342",
   "execution_count": 63
  },
  {
   "cell_type": "code",
   "outputs": [
    {
     "name": "stdout",
     "output_type": "stream",
     "text": [
      "[0 1 2 3 4]\n"
     ]
    },
    {
     "data": {
      "text/plain": "<Figure size 640x480 with 1 Axes>",
      "image/png": "[encoded data removed]"
     },
     "metadata": {},
     "output_type": "display_data"
    }
   ],
   "source": [
    "import numpy as np\n",
    "import matplotlib.pyplot as plt\n",
    " \n",
    "# Get unique labels\n",
    "u_labels = np.unique(labels)\n",
    "print(u_labels)\n",
    "\n",
    "# Create scatter plot\n",
    "for i in u_labels:\n",
    "    plt.scatter(pca_result[labels == i , 0] , pca_result[labels == i , 1] , label= f'Cluster {i}')\n",
    "plt.legend()\n",
    "plt.show()"
   ],
   "metadata": {
    "collapsed": false,
    "ExecuteTime": {
     "end_time": "2023-12-22T09:52:40.850918600Z",
     "start_time": "2023-12-22T09:52:40.445671700Z"
    }
   },
   "id": "ffa57b49f29c96ec",
   "execution_count": 66
  },
  {
   "cell_type": "code",
   "outputs": [],
   "source": [],
   "metadata": {
    "collapsed": false
   },
   "id": "456a5054eaa3a9e0"
  }
 ],
 "metadata": {
  "kernelspec": {
   "display_name": "Python 3",
   "language": "python",
   "name": "python3"
  },
  "language_info": {
   "codemirror_mode": {
    "name": "ipython",
    "version": 2
   },
   "file_extension": ".py",
   "mimetype": "text/x-python",
   "name": "python",
   "nbconvert_exporter": "python",
   "pygments_lexer": "ipython2",
   "version": "2.7.6"
  }
 },
 "nbformat": 4,
 "nbformat_minor": 5
}
