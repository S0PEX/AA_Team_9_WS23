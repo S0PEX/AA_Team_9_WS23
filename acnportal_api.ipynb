{
 "cells": [
  {
   "cell_type": "code",
   "execution_count": 52,
   "outputs": [],
   "source": [
    "# Import the DataClient class from acnportal\n",
    "# from acnportal import acndata"
   ],
   "metadata": {
    "collapsed": false,
    "ExecuteTime": {
     "end_time": "2024-02-04T14:06:24.262361511Z",
     "start_time": "2024-02-04T14:06:24.160588411Z"
    }
   },
   "id": "initial_id"
  },
  {
   "cell_type": "code",
   "execution_count": 53,
   "outputs": [],
   "source": [
    "# Create a new client\n",
    "# client = acndata.DataClient(\"${API_KEY}\")"
   ],
   "metadata": {
    "collapsed": false,
    "ExecuteTime": {
     "end_time": "2024-02-04T14:06:24.327395718Z",
     "start_time": "2024-02-04T14:06:24.171809322Z"
    }
   },
   "id": "c282c9cd78aa17c9"
  },
  {
   "cell_type": "code",
   "execution_count": 54,
   "outputs": [],
   "source": [
    "# Get the data for a single site\n",
    "# sites = [\"caltech\", \"jpl\", \"office001\"]\n",
    "# data: dict[str, list] = {\n",
    "#    site:[] for site in sites\n",
    "# }\n",
    "# for site in sites:\n",
    "#     # Timeseries means that each entry will contain a plotSignal object with the charging data in seconds intervals, i.e., seconds between each entry\n",
    "#     generator = client.get_sessions(site, timeseries=False)\n",
    "#     for value in enumerate(generator):\n",
    "#         data[site].append(value)"
   ],
   "metadata": {
    "collapsed": false,
    "ExecuteTime": {
     "end_time": "2024-02-04T14:06:24.327595748Z",
     "start_time": "2024-02-04T14:06:24.232746902Z"
    }
   },
   "id": "6f8c656e2b725c27"
  },
  {
   "cell_type": "markdown",
   "source": [
    "The API mentioned above fetches data quite slowly by default, as it retrieves 25 entries and subsequently follows with the next 25 entries. This process is not efficient. As a workaround, we opted to use the web interface (https://ev.caltech.edu/dataset) to download the data and then implemented the following code to read it efficiently."
   ],
   "metadata": {
    "collapsed": false
   },
   "id": "18f705c22997ffd4"
  },
  {
   "cell_type": "code",
   "execution_count": 55,
   "outputs": [],
   "source": [
    "import pathlib\n",
    "import json\n",
    "import pandas as pd"
   ],
   "metadata": {
    "collapsed": false,
    "ExecuteTime": {
     "end_time": "2024-02-04T14:06:24.327950300Z",
     "start_time": "2024-02-04T14:06:24.232989691Z"
    }
   },
   "id": "b46085275907a6cc"
  },
  {
   "cell_type": "code",
   "execution_count": 56,
   "outputs": [],
   "source": [
    "# Loads all json files in the acn_data folder into single dataframes\n",
    "acn_data_path = pathlib.Path(\"data/acn_data\")\n",
    "files = acn_data_path.glob(\"*.json\")\n",
    "\n",
    "dfs: list[pd.DataFrame] = []\n",
    "for file in files:\n",
    "    with open(file, \"r\") as f:\n",
    "        data = json.load(f)\n",
    "        df = pd.DataFrame(data[\"_items\"])\n",
    "        dfs.append(df)\n",
    "        \n",
    "# Concatenate the dataframes\n",
    "df = pd.concat(dfs)"
   ],
   "metadata": {
    "collapsed": false,
    "ExecuteTime": {
     "end_time": "2024-02-04T14:06:24.946948802Z",
     "start_time": "2024-02-04T14:06:24.249946064Z"
    }
   },
   "id": "22858a0e916c1188"
  },
  {
   "cell_type": "code",
   "execution_count": 57,
   "outputs": [
    {
     "name": "stdout",
     "output_type": "stream",
     "text": [
      "<class 'pandas.core.frame.DataFrame'>\n",
      "Index: 34492 entries, 0 to 16154\n",
      "Data columns (total 13 columns):\n",
      " #   Column            Non-Null Count  Dtype  \n",
      "---  ------            --------------  -----  \n",
      " 0   _id               34492 non-null  object \n",
      " 1   clusterID         34492 non-null  object \n",
      " 2   connectionTime    34492 non-null  object \n",
      " 3   disconnectTime    34492 non-null  object \n",
      " 4   doneChargingTime  33202 non-null  object \n",
      " 5   kWhDelivered      34492 non-null  float64\n",
      " 6   sessionID         34492 non-null  object \n",
      " 7   siteID            34492 non-null  object \n",
      " 8   spaceID           34492 non-null  object \n",
      " 9   stationID         34492 non-null  object \n",
      " 10  timezone          34492 non-null  object \n",
      " 11  userID            19652 non-null  object \n",
      " 12  userInputs        19652 non-null  object \n",
      "dtypes: float64(1), object(12)\n",
      "memory usage: 3.7+ MB\n"
     ]
    }
   ],
   "source": [
    "# Print columns information\n",
    "df.info()"
   ],
   "metadata": {
    "collapsed": false,
    "ExecuteTime": {
     "end_time": "2024-02-04T14:06:25.007259660Z",
     "start_time": "2024-02-04T14:06:24.946292320Z"
    }
   },
   "id": "3e4fd2743f7f134a"
  },
  {
   "cell_type": "code",
   "execution_count": 58,
   "outputs": [],
   "source": [
    "# Fix column types\n",
    "df = df.astype({\n",
    "    \"clusterID\": \"string\",\n",
    "    \"connectionTime\": \"datetime64[ns]\",\n",
    "    \"disconnectTime\": \"datetime64[ns]\",\n",
    "    \"doneChargingTime\": \"datetime64[ns]\",\n",
    "    \"kWhDelivered\": \"float64\",\n",
    "    \"sessionID\": \"string\",\n",
    "    \"siteID\": \"string\",\n",
    "    \"spaceID\": \"string\",\n",
    "    \"stationID\": \"string\",\n",
    "    \"timezone\": \"string\",\n",
    "    \"userID\": \"string\",\n",
    "    \"userInputs\": \"string\"\n",
    "})"
   ],
   "metadata": {
    "collapsed": false,
    "ExecuteTime": {
     "end_time": "2024-02-04T14:06:25.762347290Z",
     "start_time": "2024-02-04T14:06:25.005628944Z"
    }
   },
   "id": "14ab99a2e73161b7"
  },
  {
   "cell_type": "code",
   "execution_count": 59,
   "outputs": [
    {
     "data": {
      "text/plain": "                        _id clusterID      connectionTime      disconnectTime  \\\n0  5bc90cb9f9af8b0d7fe77cd2      0039 2018-04-25 11:08:04 2018-04-25 13:20:10   \n1  5bc90cb9f9af8b0d7fe77cd3      0039 2018-04-25 13:45:10 2018-04-26 00:56:16   \n2  5bc90cb9f9af8b0d7fe77cd4      0039 2018-04-25 13:45:50 2018-04-25 23:04:45   \n3  5bc90cb9f9af8b0d7fe77cd5      0039 2018-04-25 14:37:06 2018-04-25 23:55:34   \n4  5bc90cb9f9af8b0d7fe77cd6      0039 2018-04-25 14:40:34 2018-04-25 23:03:12   \n\n     doneChargingTime  kWhDelivered                               sessionID  \\\n0 2018-04-25 13:21:10         7.932  2_39_78_362_2018-04-25 11:08:04.400812   \n1 2018-04-25 16:44:15        10.013   2_39_95_27_2018-04-25 13:45:09.617470   \n2 2018-04-25 14:51:44         5.257  2_39_79_380_2018-04-25 13:45:49.962001   \n3 2018-04-25 16:05:22         5.177  2_39_79_379_2018-04-25 14:37:06.460772   \n4 2018-04-25 17:40:30        10.119  2_39_79_381_2018-04-25 14:40:33.638896   \n\n  siteID spaceID    stationID             timezone userID userInputs  \n0   0002  CA-496  2-39-78-362  America/Los_Angeles   <NA>       <NA>  \n1   0002  CA-319   2-39-95-27  America/Los_Angeles   <NA>       <NA>  \n2   0002  CA-489  2-39-79-380  America/Los_Angeles   <NA>       <NA>  \n3   0002  CA-327  2-39-79-379  America/Los_Angeles   <NA>       <NA>  \n4   0002  CA-490  2-39-79-381  America/Los_Angeles   <NA>       <NA>  ",
      "text/html": "<div>\n<style scoped>\n    .dataframe tbody tr th:only-of-type {\n        vertical-align: middle;\n    }\n\n    .dataframe tbody tr th {\n        vertical-align: top;\n    }\n\n    .dataframe thead th {\n        text-align: right;\n    }\n</style>\n<table border=\"1\" class=\"dataframe\">\n  <thead>\n    <tr style=\"text-align: right;\">\n      <th></th>\n      <th>_id</th>\n      <th>clusterID</th>\n      <th>connectionTime</th>\n      <th>disconnectTime</th>\n      <th>doneChargingTime</th>\n      <th>kWhDelivered</th>\n      <th>sessionID</th>\n      <th>siteID</th>\n      <th>spaceID</th>\n      <th>stationID</th>\n      <th>timezone</th>\n      <th>userID</th>\n      <th>userInputs</th>\n    </tr>\n  </thead>\n  <tbody>\n    <tr>\n      <th>0</th>\n      <td>5bc90cb9f9af8b0d7fe77cd2</td>\n      <td>0039</td>\n      <td>2018-04-25 11:08:04</td>\n      <td>2018-04-25 13:20:10</td>\n      <td>2018-04-25 13:21:10</td>\n      <td>7.932</td>\n      <td>2_39_78_362_2018-04-25 11:08:04.400812</td>\n      <td>0002</td>\n      <td>CA-496</td>\n      <td>2-39-78-362</td>\n      <td>America/Los_Angeles</td>\n      <td>&lt;NA&gt;</td>\n      <td>&lt;NA&gt;</td>\n    </tr>\n    <tr>\n      <th>1</th>\n      <td>5bc90cb9f9af8b0d7fe77cd3</td>\n      <td>0039</td>\n      <td>2018-04-25 13:45:10</td>\n      <td>2018-04-26 00:56:16</td>\n      <td>2018-04-25 16:44:15</td>\n      <td>10.013</td>\n      <td>2_39_95_27_2018-04-25 13:45:09.617470</td>\n      <td>0002</td>\n      <td>CA-319</td>\n      <td>2-39-95-27</td>\n      <td>America/Los_Angeles</td>\n      <td>&lt;NA&gt;</td>\n      <td>&lt;NA&gt;</td>\n    </tr>\n    <tr>\n      <th>2</th>\n      <td>5bc90cb9f9af8b0d7fe77cd4</td>\n      <td>0039</td>\n      <td>2018-04-25 13:45:50</td>\n      <td>2018-04-25 23:04:45</td>\n      <td>2018-04-25 14:51:44</td>\n      <td>5.257</td>\n      <td>2_39_79_380_2018-04-25 13:45:49.962001</td>\n      <td>0002</td>\n      <td>CA-489</td>\n      <td>2-39-79-380</td>\n      <td>America/Los_Angeles</td>\n      <td>&lt;NA&gt;</td>\n      <td>&lt;NA&gt;</td>\n    </tr>\n    <tr>\n      <th>3</th>\n      <td>5bc90cb9f9af8b0d7fe77cd5</td>\n      <td>0039</td>\n      <td>2018-04-25 14:37:06</td>\n      <td>2018-04-25 23:55:34</td>\n      <td>2018-04-25 16:05:22</td>\n      <td>5.177</td>\n      <td>2_39_79_379_2018-04-25 14:37:06.460772</td>\n      <td>0002</td>\n      <td>CA-327</td>\n      <td>2-39-79-379</td>\n      <td>America/Los_Angeles</td>\n      <td>&lt;NA&gt;</td>\n      <td>&lt;NA&gt;</td>\n    </tr>\n    <tr>\n      <th>4</th>\n      <td>5bc90cb9f9af8b0d7fe77cd6</td>\n      <td>0039</td>\n      <td>2018-04-25 14:40:34</td>\n      <td>2018-04-25 23:03:12</td>\n      <td>2018-04-25 17:40:30</td>\n      <td>10.119</td>\n      <td>2_39_79_381_2018-04-25 14:40:33.638896</td>\n      <td>0002</td>\n      <td>CA-490</td>\n      <td>2-39-79-381</td>\n      <td>America/Los_Angeles</td>\n      <td>&lt;NA&gt;</td>\n      <td>&lt;NA&gt;</td>\n    </tr>\n  </tbody>\n</table>\n</div>"
     },
     "execution_count": 59,
     "metadata": {},
     "output_type": "execute_result"
    }
   ],
   "source": [
    "# Print head\n",
    "df.head()"
   ],
   "metadata": {
    "collapsed": false,
    "ExecuteTime": {
     "end_time": "2024-02-04T14:06:25.781514173Z",
     "start_time": "2024-02-04T14:06:25.772986244Z"
    }
   },
   "id": "21ae4ca5529671c1"
  },
  {
   "cell_type": "code",
   "execution_count": 60,
   "outputs": [],
   "source": [
    "# Sort the data by the start time of the session\n",
    "df = df.sort_values(by=\"connectionTime\")"
   ],
   "metadata": {
    "collapsed": false,
    "ExecuteTime": {
     "end_time": "2024-02-04T14:06:25.921821614Z",
     "start_time": "2024-02-04T14:06:25.778371853Z"
    }
   },
   "id": "1420db8498ed54a6"
  },
  {
   "cell_type": "code",
   "execution_count": 61,
   "outputs": [
    {
     "data": {
      "text/plain": "                        _id clusterID      connectionTime      disconnectTime  \\\n0  5bc90cb9f9af8b0d7fe77cd2      0039 2018-04-25 11:08:04 2018-04-25 13:20:10   \n1  5bc90cb9f9af8b0d7fe77cd3      0039 2018-04-25 13:45:10 2018-04-26 00:56:16   \n2  5bc90cb9f9af8b0d7fe77cd4      0039 2018-04-25 13:45:50 2018-04-25 23:04:45   \n3  5bc90cb9f9af8b0d7fe77cd5      0039 2018-04-25 14:37:06 2018-04-25 23:55:34   \n4  5bc90cb9f9af8b0d7fe77cd6      0039 2018-04-25 14:40:34 2018-04-25 23:03:12   \n\n     doneChargingTime  kWhDelivered                               sessionID  \\\n0 2018-04-25 13:21:10         7.932  2_39_78_362_2018-04-25 11:08:04.400812   \n1 2018-04-25 16:44:15        10.013   2_39_95_27_2018-04-25 13:45:09.617470   \n2 2018-04-25 14:51:44         5.257  2_39_79_380_2018-04-25 13:45:49.962001   \n3 2018-04-25 16:05:22         5.177  2_39_79_379_2018-04-25 14:37:06.460772   \n4 2018-04-25 17:40:30        10.119  2_39_79_381_2018-04-25 14:40:33.638896   \n\n  siteID spaceID    stationID             timezone userID userInputs  \n0   0002  CA-496  2-39-78-362  America/Los_Angeles   <NA>       <NA>  \n1   0002  CA-319   2-39-95-27  America/Los_Angeles   <NA>       <NA>  \n2   0002  CA-489  2-39-79-380  America/Los_Angeles   <NA>       <NA>  \n3   0002  CA-327  2-39-79-379  America/Los_Angeles   <NA>       <NA>  \n4   0002  CA-490  2-39-79-381  America/Los_Angeles   <NA>       <NA>  ",
      "text/html": "<div>\n<style scoped>\n    .dataframe tbody tr th:only-of-type {\n        vertical-align: middle;\n    }\n\n    .dataframe tbody tr th {\n        vertical-align: top;\n    }\n\n    .dataframe thead th {\n        text-align: right;\n    }\n</style>\n<table border=\"1\" class=\"dataframe\">\n  <thead>\n    <tr style=\"text-align: right;\">\n      <th></th>\n      <th>_id</th>\n      <th>clusterID</th>\n      <th>connectionTime</th>\n      <th>disconnectTime</th>\n      <th>doneChargingTime</th>\n      <th>kWhDelivered</th>\n      <th>sessionID</th>\n      <th>siteID</th>\n      <th>spaceID</th>\n      <th>stationID</th>\n      <th>timezone</th>\n      <th>userID</th>\n      <th>userInputs</th>\n    </tr>\n  </thead>\n  <tbody>\n    <tr>\n      <th>0</th>\n      <td>5bc90cb9f9af8b0d7fe77cd2</td>\n      <td>0039</td>\n      <td>2018-04-25 11:08:04</td>\n      <td>2018-04-25 13:20:10</td>\n      <td>2018-04-25 13:21:10</td>\n      <td>7.932</td>\n      <td>2_39_78_362_2018-04-25 11:08:04.400812</td>\n      <td>0002</td>\n      <td>CA-496</td>\n      <td>2-39-78-362</td>\n      <td>America/Los_Angeles</td>\n      <td>&lt;NA&gt;</td>\n      <td>&lt;NA&gt;</td>\n    </tr>\n    <tr>\n      <th>1</th>\n      <td>5bc90cb9f9af8b0d7fe77cd3</td>\n      <td>0039</td>\n      <td>2018-04-25 13:45:10</td>\n      <td>2018-04-26 00:56:16</td>\n      <td>2018-04-25 16:44:15</td>\n      <td>10.013</td>\n      <td>2_39_95_27_2018-04-25 13:45:09.617470</td>\n      <td>0002</td>\n      <td>CA-319</td>\n      <td>2-39-95-27</td>\n      <td>America/Los_Angeles</td>\n      <td>&lt;NA&gt;</td>\n      <td>&lt;NA&gt;</td>\n    </tr>\n    <tr>\n      <th>2</th>\n      <td>5bc90cb9f9af8b0d7fe77cd4</td>\n      <td>0039</td>\n      <td>2018-04-25 13:45:50</td>\n      <td>2018-04-25 23:04:45</td>\n      <td>2018-04-25 14:51:44</td>\n      <td>5.257</td>\n      <td>2_39_79_380_2018-04-25 13:45:49.962001</td>\n      <td>0002</td>\n      <td>CA-489</td>\n      <td>2-39-79-380</td>\n      <td>America/Los_Angeles</td>\n      <td>&lt;NA&gt;</td>\n      <td>&lt;NA&gt;</td>\n    </tr>\n    <tr>\n      <th>3</th>\n      <td>5bc90cb9f9af8b0d7fe77cd5</td>\n      <td>0039</td>\n      <td>2018-04-25 14:37:06</td>\n      <td>2018-04-25 23:55:34</td>\n      <td>2018-04-25 16:05:22</td>\n      <td>5.177</td>\n      <td>2_39_79_379_2018-04-25 14:37:06.460772</td>\n      <td>0002</td>\n      <td>CA-327</td>\n      <td>2-39-79-379</td>\n      <td>America/Los_Angeles</td>\n      <td>&lt;NA&gt;</td>\n      <td>&lt;NA&gt;</td>\n    </tr>\n    <tr>\n      <th>4</th>\n      <td>5bc90cb9f9af8b0d7fe77cd6</td>\n      <td>0039</td>\n      <td>2018-04-25 14:40:34</td>\n      <td>2018-04-25 23:03:12</td>\n      <td>2018-04-25 17:40:30</td>\n      <td>10.119</td>\n      <td>2_39_79_381_2018-04-25 14:40:33.638896</td>\n      <td>0002</td>\n      <td>CA-490</td>\n      <td>2-39-79-381</td>\n      <td>America/Los_Angeles</td>\n      <td>&lt;NA&gt;</td>\n      <td>&lt;NA&gt;</td>\n    </tr>\n  </tbody>\n</table>\n</div>"
     },
     "execution_count": 61,
     "metadata": {},
     "output_type": "execute_result"
    }
   ],
   "source": [
    "# Print head\n",
    "df.head()"
   ],
   "metadata": {
    "collapsed": false,
    "ExecuteTime": {
     "end_time": "2024-02-04T14:06:25.923733592Z",
     "start_time": "2024-02-04T14:06:25.842766257Z"
    }
   },
   "id": "d7c3bd1083c06642"
  },
  {
   "cell_type": "code",
   "execution_count": 62,
   "outputs": [
    {
     "name": "stdout",
     "output_type": "stream",
     "text": [
      "Missing entries from 2019-04-18 11:08:04 to 2019-04-29 11:08:04 (Duration: 12 days)\n",
      "Missing entries from 2019-05-01 11:08:04 to 2019-05-08 11:08:04 (Duration: 8 days)\n",
      "Missing entries from 2019-05-22 11:08:04 to 2019-06-12 11:08:04 (Duration: 22 days)\n",
      "Missing entries from 2019-06-16 11:08:04 to 2019-07-03 11:08:04 (Duration: 18 days)\n",
      "Missing entries from 2019-07-29 11:08:04 to 2019-08-06 11:08:04 (Duration: 9 days)\n"
     ]
    }
   ],
   "source": [
    "# Check for missing values in terms of no entries for specific days\n",
    "# Step 1: Determine the Date Range\n",
    "first_date = df['connectionTime'].min()\n",
    "last_date = df['disconnectTime'].max()\n",
    "\n",
    "# Step 2: Generate a Complete Date Range\n",
    "complete_date_range = pd.date_range(start=first_date, end=last_date, freq='D')\n",
    "\n",
    "# Step 3: Identify Missing Time Periods\n",
    "missing_periods = []\n",
    "current_period = []\n",
    "\n",
    "for date in complete_date_range:\n",
    "    # Check if there are no entries for the current date\n",
    "    no_entries_for_date = df[(df['connectionTime'] <= date) & (df['disconnectTime'] >= date)].empty\n",
    "    \n",
    "    if no_entries_for_date:\n",
    "        if not current_period or date == current_period[-1] + pd.Timedelta(days=1):\n",
    "            current_period.append(date)\n",
    "        else:\n",
    "            missing_periods.append(current_period)\n",
    "            current_period = [date]\n",
    "    else:\n",
    "        # Entries found, start a new period\n",
    "        if current_period:\n",
    "            missing_periods.append(current_period)\n",
    "            current_period = []\n",
    "\n",
    "# Append the last period if it exists\n",
    "if current_period:\n",
    "    missing_periods.append(current_period)\n",
    "\n",
    "# Step 4: Print Longer Periods (more than 1 week)\n",
    "for period in missing_periods:\n",
    "    start_date, end_date = period[0], period[-1]\n",
    "    duration = (end_date - start_date).days + 1  # Add 1 to include both start and end dates\n",
    "    if duration > 7:\n",
    "        print(f\"Missing entries from {start_date} to {end_date} (Duration: {duration} days)\")"
   ],
   "metadata": {
    "collapsed": false,
    "ExecuteTime": {
     "end_time": "2024-02-04T14:06:26.556531775Z",
     "start_time": "2024-02-04T14:06:25.854089682Z"
    }
   },
   "id": "74a5ac79a217734"
  },
  {
   "cell_type": "code",
   "execution_count": 63,
   "outputs": [],
   "source": [
    "# Save the data to a csv file\n",
    "df.to_csv(\"data/acn_data.csv\", index=True)"
   ],
   "metadata": {
    "collapsed": false,
    "ExecuteTime": {
     "end_time": "2024-02-04T14:06:27.311575659Z",
     "start_time": "2024-02-04T14:06:26.520491693Z"
    }
   },
   "id": "20bebea22c129470"
  }
 ],
 "metadata": {
  "kernelspec": {
   "display_name": "Python 3",
   "language": "python",
   "name": "python3"
  },
  "language_info": {
   "codemirror_mode": {
    "name": "ipython",
    "version": 2
   },
   "file_extension": ".py",
   "mimetype": "text/x-python",
   "name": "python",
   "nbconvert_exporter": "python",
   "pygments_lexer": "ipython2",
   "version": "2.7.6"
  }
 },
 "nbformat": 4,
 "nbformat_minor": 5
}
