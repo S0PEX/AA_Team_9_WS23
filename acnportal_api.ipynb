{
 "cells": [
  {
   "cell_type": "code",
   "execution_count": 140,
   "outputs": [],
   "source": [
    "from acnportal import acndata\n",
    "import pandas as pd"
   ],
   "metadata": {
    "collapsed": false,
    "ExecuteTime": {
     "end_time": "2024-02-04T15:42:09.209661164Z",
     "start_time": "2024-02-04T15:42:09.209202429Z"
    }
   },
   "id": "initial_id"
  },
  {
   "cell_type": "code",
   "execution_count": 141,
   "outputs": [],
   "source": [
    "# Create a new client\n",
    "client = acndata.DataClient(\"Ob492t97XY9JjjmqMntMqhkObiDL8tushw4BoCBzdNo\")"
   ],
   "metadata": {
    "collapsed": false,
    "ExecuteTime": {
     "end_time": "2024-02-04T15:42:09.214613258Z",
     "start_time": "2024-02-04T15:42:09.209535135Z"
    }
   },
   "id": "c282c9cd78aa17c9"
  },
  {
   "cell_type": "code",
   "execution_count": 142,
   "outputs": [],
   "source": [
    "# Get the data for a single site\n",
    "sites = [\"caltech\", \"jpl\", \"office001\"]\n",
    "data: dict[str, list] = {\n",
    "    site:[] for site in sites\n",
    "}\n",
    "for site in sites:\n",
    "     generator = client.get_sessions(site, timeseries=False)\n",
    "     data[site] = list(generator)"
   ],
   "metadata": {
    "collapsed": false,
    "ExecuteTime": {
     "end_time": "2024-02-04T15:51:32.592720835Z",
     "start_time": "2024-02-04T15:42:09.214310914Z"
    }
   },
   "id": "6f8c656e2b725c27"
  },
  {
   "cell_type": "code",
   "execution_count": 143,
   "outputs": [
    {
     "name": "stdout",
     "output_type": "stream",
     "text": [
      "First 2 entries for caltech\n",
      "[{'_id': '5bc90cb9f9af8b0d7fe77cd2', 'userInputs': None, 'sessionID': '2_39_78_362_2018-04-25 11:08:04.400812', 'stationID': '2-39-78-362', 'spaceID': 'CA-496', 'siteID': '0002', 'clusterID': '0039', 'connectionTime': datetime.datetime(2018, 4, 25, 4, 8, 4, tzinfo=<DstTzInfo 'America/Los_Angeles' PDT-1 day, 17:00:00 DST>), 'disconnectTime': datetime.datetime(2018, 4, 25, 6, 20, 10, tzinfo=<DstTzInfo 'America/Los_Angeles' PDT-1 day, 17:00:00 DST>), 'kWhDelivered': 7.932, 'doneChargingTime': datetime.datetime(2018, 4, 25, 6, 21, 10, tzinfo=<DstTzInfo 'America/Los_Angeles' PDT-1 day, 17:00:00 DST>), 'timezone': 'America/Los_Angeles', 'userID': None}, {'_id': '5bc90cb9f9af8b0d7fe77cd3', 'userInputs': None, 'sessionID': '2_39_95_27_2018-04-25 13:45:09.617470', 'stationID': '2-39-95-27', 'spaceID': 'CA-319', 'siteID': '0002', 'clusterID': '0039', 'connectionTime': datetime.datetime(2018, 4, 25, 6, 45, 10, tzinfo=<DstTzInfo 'America/Los_Angeles' PDT-1 day, 17:00:00 DST>), 'disconnectTime': datetime.datetime(2018, 4, 25, 17, 56, 16, tzinfo=<DstTzInfo 'America/Los_Angeles' PDT-1 day, 17:00:00 DST>), 'kWhDelivered': 10.013, 'doneChargingTime': datetime.datetime(2018, 4, 25, 9, 44, 15, tzinfo=<DstTzInfo 'America/Los_Angeles' PDT-1 day, 17:00:00 DST>), 'timezone': 'America/Los_Angeles', 'userID': None}]\n",
      "First 2 entries for jpl\n",
      "[{'_id': '5c36621bf9af8b4639a8e0b4', 'userInputs': None, 'sessionID': '1_1_179_800_2018-09-05 11:04:12.876087', 'stationID': '1-1-179-800', 'spaceID': 'AG-3F32', 'siteID': '0001', 'clusterID': '0001', 'connectionTime': datetime.datetime(2018, 9, 5, 4, 4, 13, tzinfo=<DstTzInfo 'America/Los_Angeles' PDT-1 day, 17:00:00 DST>), 'disconnectTime': datetime.datetime(2018, 9, 5, 12, 9, 35, tzinfo=<DstTzInfo 'America/Los_Angeles' PDT-1 day, 17:00:00 DST>), 'kWhDelivered': 9.583, 'doneChargingTime': None, 'timezone': 'America/Los_Angeles', 'userID': None}, {'_id': '5c36621bf9af8b4639a8e0b5', 'userInputs': [{'userID': 333, 'milesRequested': 20, 'WhPerMile': 400, 'minutesAvailable': 277, 'modifiedAt': 'Wed, 05 Sep 2018 11:08:31 GMT', 'paymentRequired': True, 'requestedDeparture': 'Wed, 05 Sep 2018 15:45:09 GMT', 'kWhRequested': 8.0}, {'userID': 333, 'milesRequested': 20, 'WhPerMile': 400, 'minutesAvailable': 294, 'modifiedAt': 'Wed, 05 Sep 2018 11:25:51 GMT', 'paymentRequired': True, 'requestedDeparture': 'Wed, 05 Sep 2018 16:02:09 GMT', 'kWhRequested': 8.0}, {'userID': 333, 'milesRequested': 20, 'WhPerMile': 400, 'minutesAvailable': 343, 'modifiedAt': 'Wed, 05 Sep 2018 12:14:30 GMT', 'paymentRequired': True, 'requestedDeparture': 'Wed, 05 Sep 2018 16:51:09 GMT', 'kWhRequested': 8.0}, {'userID': 333, 'milesRequested': 20, 'WhPerMile': 400, 'minutesAvailable': 421, 'modifiedAt': 'Wed, 05 Sep 2018 13:32:58 GMT', 'paymentRequired': True, 'requestedDeparture': 'Wed, 05 Sep 2018 18:09:09 GMT', 'kWhRequested': 8.0}], 'sessionID': '1_1_179_794_2018-09-05 11:08:08.945820', 'stationID': '1-1-179-794', 'spaceID': 'AG-3F20', 'siteID': '0001', 'clusterID': '0001', 'connectionTime': datetime.datetime(2018, 9, 5, 4, 8, 9, tzinfo=<DstTzInfo 'America/Los_Angeles' PDT-1 day, 17:00:00 DST>), 'disconnectTime': datetime.datetime(2018, 9, 5, 7, 9, 2, tzinfo=<DstTzInfo 'America/Los_Angeles' PDT-1 day, 17:00:00 DST>), 'kWhDelivered': 7.114, 'doneChargingTime': None, 'timezone': 'America/Los_Angeles', 'userID': '000000333'}]\n",
      "First 2 entries for office001\n",
      "[{'_id': '5cd1d47af9af8b68f0e96713', 'userInputs': None, 'userID': None, 'sessionID': '19_102_260_1633_2019-03-25 16:24:42.408146', 'stationID': '19-102-260-1633', 'spaceID': '02', 'siteID': '0019', 'clusterID': '0102', 'connectionTime': datetime.datetime(2019, 3, 25, 9, 24, 42, tzinfo=<DstTzInfo 'America/Los_Angeles' PDT-1 day, 17:00:00 DST>), 'disconnectTime': datetime.datetime(2019, 3, 25, 18, 32, 12, tzinfo=<DstTzInfo 'America/Los_Angeles' PDT-1 day, 17:00:00 DST>), 'kWhDelivered': 6.146, 'doneChargingTime': datetime.datetime(2019, 3, 25, 10, 32, 48, tzinfo=<DstTzInfo 'America/Los_Angeles' PDT-1 day, 17:00:00 DST>), 'timezone': 'America/Los_Angeles'}, {'_id': '5cd1d47af9af8b68f0e96714', 'userInputs': None, 'userID': None, 'sessionID': '19_102_260_1634_2019-03-25 17:19:26.896309', 'stationID': '19-102-260-1634', 'spaceID': '03', 'siteID': '0019', 'clusterID': '0102', 'connectionTime': datetime.datetime(2019, 3, 25, 10, 19, 27, tzinfo=<DstTzInfo 'America/Los_Angeles' PDT-1 day, 17:00:00 DST>), 'disconnectTime': datetime.datetime(2019, 3, 25, 17, 38, 50, tzinfo=<DstTzInfo 'America/Los_Angeles' PDT-1 day, 17:00:00 DST>), 'kWhDelivered': 3.658, 'doneChargingTime': datetime.datetime(2019, 3, 25, 11, 0, 49, tzinfo=<DstTzInfo 'America/Los_Angeles' PDT-1 day, 17:00:00 DST>), 'timezone': 'America/Los_Angeles'}]\n"
     ]
    }
   ],
   "source": [
    "# Display the first 5 entries for each site\n",
    "for site in sites:\n",
    "    print(f\"First 2 entries for {site}\")\n",
    "    print(data[site][:2])"
   ],
   "metadata": {
    "collapsed": false,
    "ExecuteTime": {
     "end_time": "2024-02-04T15:51:32.649724289Z",
     "start_time": "2024-02-04T15:51:32.635451153Z"
    }
   },
   "id": "5c6d9ff893b6eb62"
  },
  {
   "cell_type": "code",
   "execution_count": 144,
   "outputs": [
    {
     "name": "stdout",
     "output_type": "stream",
     "text": [
      "The dataset has 65062 rows and 13 columns\n"
     ]
    }
   ],
   "source": [
    "items = []\n",
    "sites_of_interest = [\"caltech\", \"jpl\"]\n",
    "for site in sites_of_interest:\n",
    "    df = pd.DataFrame(data[site])\n",
    "    items.append(df)\n",
    "df = pd.concat(items)\n",
    "r, c = df.shape\n",
    "print(f'The dataset has {r} rows and {c} columns')"
   ],
   "metadata": {
    "collapsed": false,
    "ExecuteTime": {
     "end_time": "2024-02-04T15:51:34.042838902Z",
     "start_time": "2024-02-04T15:51:32.635714417Z"
    }
   },
   "id": "bcf646b932b1f417"
  },
  {
   "cell_type": "code",
   "execution_count": 145,
   "outputs": [
    {
     "name": "stdout",
     "output_type": "stream",
     "text": [
      "<class 'pandas.core.frame.DataFrame'>\n",
      "Index: 65062 entries, 0 to 33637\n",
      "Data columns (total 13 columns):\n",
      " #   Column            Non-Null Count  Dtype                              \n",
      "---  ------            --------------  -----                              \n",
      " 0   _id               65062 non-null  object                             \n",
      " 1   userInputs        47847 non-null  string                             \n",
      " 2   sessionID         65062 non-null  string                             \n",
      " 3   stationID         65062 non-null  string                             \n",
      " 4   spaceID           65062 non-null  string                             \n",
      " 5   siteID            65062 non-null  string                             \n",
      " 6   clusterID         65062 non-null  string                             \n",
      " 7   connectionTime    65062 non-null  datetime64[ns, America/Los_Angeles]\n",
      " 8   disconnectTime    65062 non-null  datetime64[ns, America/Los_Angeles]\n",
      " 9   kWhDelivered      65062 non-null  float64                            \n",
      " 10  doneChargingTime  60970 non-null  datetime64[ns, America/Los_Angeles]\n",
      " 11  timezone          65062 non-null  string                             \n",
      " 12  userID            47847 non-null  string                             \n",
      "dtypes: datetime64[ns, America/Los_Angeles](3), float64(1), object(1), string(8)\n",
      "memory usage: 6.9+ MB\n"
     ]
    }
   ],
   "source": [
    "# Fix column types\n",
    "df = df.astype({\n",
    "    \"clusterID\": \"string\",\n",
    "    \"kWhDelivered\": \"float64\",\n",
    "    \"sessionID\": \"string\",\n",
    "    \"siteID\": \"string\",\n",
    "    \"spaceID\": \"string\",\n",
    "    \"stationID\": \"string\",\n",
    "    \"timezone\": \"string\",\n",
    "    \"userID\": \"string\",\n",
    "    \"userInputs\": \"string\"\n",
    "})\n",
    "df.sort_values(by=\"connectionTime\")\n",
    "df.info()"
   ],
   "metadata": {
    "collapsed": false,
    "ExecuteTime": {
     "end_time": "2024-02-04T15:51:34.371360561Z",
     "start_time": "2024-02-04T15:51:34.206005001Z"
    }
   },
   "id": "90c4d12aa91b284f"
  },
  {
   "cell_type": "code",
   "execution_count": 146,
   "outputs": [
    {
     "name": "stdout",
     "output_type": "stream",
     "text": [
      "Missing entries from 2020-08-03 22:08:04-07:00 to 2020-11-18 12:08:04-08:00 (Duration: 106.66666666666667 days)\n"
     ]
    }
   ],
   "source": [
    "start_date = df['connectionTime'].min()\n",
    "end_date = df['disconnectTime'].max()\n",
    "datetime_range = pd.date_range(start=start_date, end=end_date, freq='H')\n",
    "\n",
    "missing_periods = []\n",
    "current_period = []\n",
    "\n",
    "for datetime in datetime_range:\n",
    "    no_entries_for_datetime = df[(df['connectionTime'] <= datetime) & (df['disconnectTime'] >= datetime)].empty\n",
    "\n",
    "    if no_entries_for_datetime:\n",
    "        if not current_period or datetime == current_period[-1] + pd.Timedelta(hours=1):\n",
    "            current_period.append(datetime)\n",
    "        else:\n",
    "            if len(current_period) > 7*24:\n",
    "                missing_periods.append(current_period)\n",
    "            current_period = [datetime]\n",
    "    else:\n",
    "        if current_period and len(current_period) > 7*24:\n",
    "            missing_periods.append(current_period)\n",
    "        current_period = []\n",
    "\n",
    "if current_period and len(current_period) > 7*24:\n",
    "    missing_periods.append(current_period)\n",
    "\n",
    "for period in missing_periods:\n",
    "    print(f\"Missing entries from {period[0]} to {period[-1]} (Duration: {len(period)/24} days)\")"
   ],
   "metadata": {
    "collapsed": false,
    "ExecuteTime": {
     "end_time": "2024-02-04T15:52:06.092231769Z",
     "start_time": "2024-02-04T15:51:34.362849508Z"
    }
   },
   "id": "150ee2eacfc4348c"
  },
  {
   "cell_type": "code",
   "execution_count": 147,
   "outputs": [],
   "source": [
    "# Save the data to a csv file\n",
    "df.to_csv(\"data/acn_data.csv\", index=True)"
   ],
   "metadata": {
    "collapsed": false,
    "ExecuteTime": {
     "end_time": "2024-02-04T15:52:08.179965608Z",
     "start_time": "2024-02-04T15:52:06.092078049Z"
    }
   },
   "id": "9b01493b533b9e8a"
  },
  {
   "cell_type": "markdown",
   "source": [
    "The API mentioned above fetches data quite slowly by default, as it retrieves 100 entries and subsequently follows with the next 100 entries. This process is not efficient. As a workaround, we opted to use the web interface (https://ev.caltech.edu/dataset) to download the data and then implemented the following code to read it efficiently. **Note**: The data was downloaded in the JSON format and saved in the `data/acn_data` folder."
   ],
   "metadata": {
    "collapsed": false
   },
   "id": "18f705c22997ffd4"
  },
  {
   "cell_type": "markdown",
   "source": [
    "import pathlib\n",
    "import json\n",
    "import pandas as pd"
   ],
   "metadata": {
    "collapsed": false
   },
   "id": "1dba54f2d6a023ad"
  },
  {
   "cell_type": "markdown",
   "source": [
    "# Loads all json files in the acn_data folder into single dataframes\n",
    "acn_data_path = pathlib.Path(\"data/acn_data\")\n",
    "files = acn_data_path.glob(\"*.json\")\n",
    "\n",
    "dfs: list[pd.DataFrame] = []\n",
    "for file in files:\n",
    "    with open(file, \"r\") as f:\n",
    "        data = json.load(f)\n",
    "        df = pd.DataFrame(data[\"_items\"])\n",
    "        r, c = df.shape\n",
    "        print(f'The dataset {file} has {r} rows')\n",
    "        dfs.append(df)\n",
    "        \n",
    "# Concatenate the dataframes\n",
    "df = pd.concat(dfs)\n",
    "r, c = df.shape\n",
    "print(f'The dataset has {r} rows and {c} columns')"
   ],
   "metadata": {
    "collapsed": false
   },
   "id": "d05ed7c6e5d8635e"
  },
  {
   "cell_type": "markdown",
   "source": [
    "# Print columns information\n",
    "df.info()"
   ],
   "metadata": {
    "collapsed": false
   },
   "id": "20886ec30682e18b"
  },
  {
   "cell_type": "markdown",
   "source": [
    "# Fix column types\n",
    "df = df.astype({\n",
    "    \"clusterID\": \"string\",\n",
    "    \"connectionTime\": \"datetime64[ns]\",\n",
    "    \"disconnectTime\": \"datetime64[ns]\",\n",
    "    \"doneChargingTime\": \"datetime64[ns]\",\n",
    "    \"kWhDelivered\": \"float64\",\n",
    "    \"sessionID\": \"string\",\n",
    "    \"siteID\": \"string\",\n",
    "    \"spaceID\": \"string\",\n",
    "    \"stationID\": \"string\",\n",
    "    \"timezone\": \"string\",\n",
    "    \"userID\": \"string\",\n",
    "    \"userInputs\": \"string\"\n",
    "})"
   ],
   "metadata": {
    "collapsed": false
   },
   "id": "c6c8876755aacf1f"
  },
  {
   "cell_type": "markdown",
   "source": [
    "# Print head\n",
    "df.head()"
   ],
   "metadata": {
    "collapsed": false
   },
   "id": "6b069a18a4a890d2"
  },
  {
   "cell_type": "markdown",
   "source": [
    "# Sort the data by the start time of the session\n",
    "df = df.sort_values(by=\"connectionTime\")"
   ],
   "metadata": {
    "collapsed": false
   },
   "id": "23d1061e364e5fbc"
  },
  {
   "cell_type": "markdown",
   "source": [
    "# Print head\n",
    "df.head()"
   ],
   "metadata": {
    "collapsed": false
   },
   "id": "44b1f9c5d7eab238"
  },
  {
   "cell_type": "markdown",
   "source": [
    "r, c = df.shape\n",
    "print(f'The dataset has {r} rows and {c} columns')"
   ],
   "metadata": {
    "collapsed": false
   },
   "id": "964285bb79b85b47"
  },
  {
   "cell_type": "markdown",
   "source": [
    "# Save the data to a csv file\n",
    "df.to_csv(\"data/acn_data.csv\", index=True)"
   ],
   "metadata": {
    "collapsed": false
   },
   "id": "930554bffe61320b"
  },
  {
   "cell_type": "code",
   "execution_count": 147,
   "outputs": [],
   "source": [],
   "metadata": {
    "collapsed": false,
    "ExecuteTime": {
     "end_time": "2024-02-04T15:52:08.188290842Z",
     "start_time": "2024-02-04T15:52:08.180893925Z"
    }
   },
   "id": "b5b0ff834baad5da"
  }
 ],
 "metadata": {
  "kernelspec": {
   "display_name": "Python 3",
   "language": "python",
   "name": "python3"
  },
  "language_info": {
   "codemirror_mode": {
    "name": "ipython",
    "version": 2
   },
   "file_extension": ".py",
   "mimetype": "text/x-python",
   "name": "python",
   "nbconvert_exporter": "python",
   "pygments_lexer": "ipython2",
   "version": "2.7.6"
  }
 },
 "nbformat": 4,
 "nbformat_minor": 5
}
