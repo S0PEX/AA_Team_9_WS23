{
 "cells": [
  {
   "cell_type": "markdown",
   "id": "0c846d82",
   "metadata": {},
   "source": [
    "# Analytics & Applications WS23/24 Project\n",
    "\n",
    "The following notebook contains the applied steps of the CRISP-DM model on the\n",
    "project excercise from \"Analytics and Applications\" by Prof. Ketter in the WS23/24 of University Cologne.\n",
    "\n",
    "The following steps will be done in the specified order:\n",
    "1. Data Preparation\n",
    "2. Modeling \n",
    "3. Evaluation"
   ]
  },
  {
   "cell_type": "markdown",
   "id": "db204aa8",
   "metadata": {},
   "source": [
    "## Imports & Dependencies"
   ]
  },
  {
   "cell_type": "code",
   "execution_count": null,
   "id": "6cb87c10",
   "metadata": {
    "ExecuteTime": {
     "end_time": "2023-11-21T21:59:01.035185300Z",
     "start_time": "2023-11-21T21:58:53.139498100Z"
    }
   },
   "outputs": [],
   "source": [
    "import pandas as pd\n",
    "import matplotlib.pyplot as plt"
   ]
  },
  {
   "cell_type": "markdown",
   "id": "69d9d588",
   "metadata": {},
   "source": [
    "## Import Data"
   ]
  },
  {
   "cell_type": "code",
   "execution_count": null,
   "id": "b90b00af",
   "metadata": {
    "ExecuteTime": {
     "end_time": "2023-11-21T21:59:05.632663900Z",
     "start_time": "2023-11-21T21:59:02.284417Z"
    }
   },
   "outputs": [],
   "source": [
    "# ToDo: use path object\n",
    "df = pd.read_csv(\"data/charging_sessions.csv\")\n",
    "df_weather = pd.read_csv(\"data/weather_modified.csv\")"
   ]
  },
  {
   "cell_type": "markdown",
   "id": "7bd89c07",
   "metadata": {},
   "source": [
    "## Data Exploration and Preparation"
   ]
  },
  {
   "cell_type": "markdown",
   "id": "31d018fb",
   "metadata": {},
   "source": [
    "### Basic Data Exploration"
   ]
  },
  {
   "cell_type": "code",
   "execution_count": null,
   "id": "b027456c",
   "metadata": {
    "ExecuteTime": {
     "end_time": "2023-11-21T21:50:55.852660600Z",
     "start_time": "2023-11-21T21:50:55.836981700Z"
    }
   },
   "outputs": [],
   "source": [
    "print(df.head())"
   ]
  },
  {
   "cell_type": "code",
   "execution_count": null,
   "id": "b6f9024a",
   "metadata": {
    "ExecuteTime": {
     "end_time": "2023-11-21T21:50:55.933373900Z",
     "start_time": "2023-11-21T21:50:55.856687900Z"
    }
   },
   "outputs": [],
   "source": [
    "print(df.info())"
   ]
  },
  {
   "cell_type": "code",
   "execution_count": null,
   "id": "e68d7c5d",
   "metadata": {
    "ExecuteTime": {
     "end_time": "2023-11-21T21:50:56.046610100Z",
     "start_time": "2023-11-21T21:50:55.929416Z"
    }
   },
   "outputs": [],
   "source": [
    "print(df.describe())"
   ]
  },
  {
   "cell_type": "markdown",
   "id": "d4f434b3",
   "metadata": {},
   "source": [
    "### Set Data Types"
   ]
  },
  {
   "cell_type": "code",
   "execution_count": null,
   "id": "e8c07f5c",
   "metadata": {
    "ExecuteTime": {
     "end_time": "2023-11-21T21:51:02.890003100Z",
     "start_time": "2023-11-21T21:50:55.984067800Z"
    }
   },
   "outputs": [],
   "source": [
    "# Set Datatypes\n",
    "df['connectionTime'] = pd.to_datetime(df['connectionTime'])\n",
    "df['disconnectTime'] = pd.to_datetime(df['disconnectTime'])\n",
    "df['doneChargingTime'] = pd.to_datetime(df['doneChargingTime'])\n",
    "\n",
    "df['sessionID'] = df['sessionID'].astype(str)\n",
    "df['siteID'] = df['siteID'].astype(str)\n",
    "df['spaceID'] = df['spaceID'].astype(str)\n",
    "df['stationID'] = df['stationID'].astype(str)\n",
    "df['userID'] = df['userID'].astype(str)"
   ]
  },
  {
   "cell_type": "code",
   "execution_count": null,
   "id": "2d380e3d",
   "metadata": {
    "ExecuteTime": {
     "end_time": "2023-11-21T21:51:02.991767600Z",
     "start_time": "2023-11-21T21:51:02.892003100Z"
    }
   },
   "outputs": [],
   "source": [
    "# Rename first column, contains an index\n",
    "df = df.rename(columns={df.columns[0]: 'Index'})\n",
    "df = df.set_index('Index')"
   ]
  },
  {
   "cell_type": "code",
   "execution_count": null,
   "id": "2041b8b9",
   "metadata": {
    "ExecuteTime": {
     "end_time": "2023-11-21T21:51:03.053458500Z",
     "start_time": "2023-11-21T21:51:02.996761100Z"
    }
   },
   "outputs": [],
   "source": [
    "# Session ID is a composite value of stationID and connectionTime, and therefor redundant\n",
    "# Timezone contains only one value, and can therefor be considered meta-data\n",
    "df = df.drop(['sessionID', 'timezone'], axis=1)"
   ]
  },
  {
   "cell_type": "code",
   "execution_count": null,
   "metadata": {},
   "outputs": [],
   "source": [
    "\n",
    "\n",
    "df['NoChargingTime'] = df['disconnectTime'] - df['doneChargingTime']\n",
    "df['NoChargingTimeMinutes'] = (df['NoChargingTime']).dt.total_seconds() / 60.0  # Convert seconds to minutes\n",
    "\n",
    "df['ChargingTime'] = df['doneChargingTime'] - df['connectionTime']\n",
    "df['ChargingTimeMinutes'] = (df['ChargingTime']).dt.total_seconds() / 60.0  # Convert seconds to minutes\n",
    "\n",
    "# Create a new column 'month' to store the month information\n",
    "df['month'] = df['connectionTime'].dt.month"
   ]
  },
  {
   "cell_type": "code",
   "execution_count": null,
   "id": "111655ce",
   "metadata": {
    "ExecuteTime": {
     "end_time": "2023-11-21T21:51:06.140864400Z",
     "start_time": "2023-11-21T21:51:03.033454600Z"
    },
    "collapsed": true
   },
   "outputs": [],
   "source": [
    "exploration = df.set_index('connectionTime')\n",
    "exploration_monthly = exploration['kWhDelivered'].resample('M').sum()\n",
    "\n",
    "# Plot the monthly sum\n",
    "plt.figure(figsize=(12, 6))\n",
    "exploration_monthly.plot(kind='bar')\n",
    "plt.title('Monthly Sum of kWhDelivered')\n",
    "plt.xlabel('Month')\n",
    "plt.ylabel('Sum of kWhDelivered')\n",
    "plt.show()"
   ]
  },
  {
   "cell_type": "code",
   "execution_count": null,
   "id": "0249c24b",
   "metadata": {
    "ExecuteTime": {
     "end_time": "2023-11-21T21:51:13.504573800Z",
     "start_time": "2023-11-21T21:51:06.145862600Z"
    },
    "collapsed": true
   },
   "outputs": [],
   "source": [
    "# Calculate rolling mean for a specified window (e.g., 7 days)\n",
    "rolling_mean = exploration['kWhDelivered'].rolling(window=7).mean()\n",
    "\n",
    "# Plot the original time series and the rolling mean\n",
    "plt.figure(figsize=(12, 6))\n",
    "plt.plot(exploration['kWhDelivered'], label='Original Data')\n",
    "plt.plot(rolling_mean, label='Rolling Mean (7 days)', color='red')\n",
    "plt.title('Original Time Series and Rolling Mean')\n",
    "plt.xlabel('Date')\n",
    "plt.ylabel('kWhDelivered')\n",
    "plt.legend()\n",
    "plt.show()"
   ]
  },
  {
   "cell_type": "markdown",
   "id": "f16346dbd4f9f195",
   "metadata": {
    "collapsed": false
   },
   "source": [
    "### Save adjustet dataframe as csv"
   ]
  },
  {
   "cell_type": "code",
   "execution_count": null,
   "id": "8c5c53806ae20ba6",
   "metadata": {
    "ExecuteTime": {
     "end_time": "2023-11-21T21:51:13.525220200Z",
     "start_time": "2023-11-21T21:51:13.507578400Z"
    },
    "collapsed": false
   },
   "outputs": [],
   "source": [
    "#convert to csv\n",
    "#df.to_csv('data.csv')"
   ]
  },
  {
   "cell_type": "markdown",
   "id": "af983154",
   "metadata": {},
   "source": [
    "### Handle Missing and Erronous Data"
   ]
  },
  {
   "cell_type": "code",
   "execution_count": null,
   "id": "e3701a0f",
   "metadata": {
    "ExecuteTime": {
     "end_time": "2023-11-21T21:51:13.793291700Z",
     "start_time": "2023-11-21T21:51:13.521166400Z"
    }
   },
   "outputs": [],
   "source": [
    "# TODO:\n",
    "# - Fill Gap From 2020\n",
    "# - Handle too long charges / unrealisitc charge volumes (remove / fill)\n",
    "#   - we have to find a cut-off value I tried something but i dont know if its right\n",
    "# - Handle Outliers for charging\n",
    "# - Expand User Inputs column > drop user ID from user Inputs column, since its redundant"
   ]
  },
  {
   "cell_type": "markdown",
   "id": "46bf398773cf9e56",
   "metadata": {
    "collapsed": false
   },
   "source": [
    "### Calculate the Time a Car used the Station without Charging"
   ]
  },
  {
   "cell_type": "code",
   "execution_count": null,
   "id": "1ae821b953bbd236",
   "metadata": {
    "ExecuteTime": {
     "end_time": "2023-11-21T21:51:16.010916700Z",
     "start_time": "2023-11-21T21:51:13.532220400Z"
    },
    "collapsed": false
   },
   "outputs": [],
   "source": [
    "# Plot the time differences\n",
    "plt.figure(figsize=(10, 6))\n",
    "plt.plot(df['NoChargingTimeMinutes'], marker='o', linestyle='-', color='b')\n",
    "plt.title('Time Charging')\n",
    "plt.xlabel('Row Index')\n",
    "plt.ylabel('Time (minutes)')\n",
    "plt.grid(True)\n",
    "plt.show()\n"
   ]
  },
  {
   "cell_type": "markdown",
   "id": "ea96cf5cbf4362ce",
   "metadata": {
    "collapsed": false
   },
   "source": [
    "### Calculate the Charging Time"
   ]
  },
  {
   "cell_type": "code",
   "execution_count": null,
   "id": "dff80715d33a89bc",
   "metadata": {
    "ExecuteTime": {
     "end_time": "2023-11-21T21:51:19.131687200Z",
     "start_time": "2023-11-21T21:51:16.017906900Z"
    },
    "collapsed": false
   },
   "outputs": [],
   "source": [
    "# Plot the time differences\n",
    "plt.figure(figsize=(10, 6))\n",
    "plt.plot(df['ChargingTimeMinutes'], marker='o', linestyle='-', color='b')\n",
    "plt.title('Time Charging')\n",
    "plt.xlabel('Row Index')\n",
    "plt.ylabel('Time (minutes)')\n",
    "plt.grid(True)\n",
    "plt.show()"
   ]
  },
  {
   "cell_type": "markdown",
   "id": "fe6086cdd2af3bfe",
   "metadata": {
    "collapsed": false
   },
   "source": [
    "### Calculate Outliers with the IQR"
   ]
  },
  {
   "cell_type": "code",
   "execution_count": null,
   "id": "50f2faa785318f48",
   "metadata": {
    "ExecuteTime": {
     "end_time": "2023-11-21T21:51:19.364502500Z",
     "start_time": "2023-11-21T21:51:19.119146100Z"
    },
    "collapsed": false
   },
   "outputs": [],
   "source": [
    "# Calculate the interquartile range (IQR) for time differences\n",
    "Q1 = df['ChargingTimeMinutes'].quantile(0.25)\n",
    "Q3 = df['ChargingTimeMinutes'].quantile(0.75)\n",
    "IQR = Q3 - Q1\n",
    "\n",
    "# Define a threshold for outliers based on IQR (e.g., 1.5 times IQR)\n",
    "threshold = 1.5\n",
    "\n",
    "# Identify outliers based on IQR\n",
    "outliers = df[(df['ChargingTimeMinutes'] > (Q3 + threshold * IQR))]\n",
    "\n",
    "# Display or further analyze the outliers\n",
    "print(\"Outliers based on IQR:\")\n",
    "print(outliers)"
   ]
  },
  {
   "cell_type": "markdown",
   "id": "ddf5bc0eb4c0ed4c",
   "metadata": {
    "collapsed": false
   },
   "source": [
    "### Split the Stations in to a new Column Station with have the entry 1 or 2"
   ]
  },
  {
   "cell_type": "code",
   "execution_count": null,
   "id": "388017c50c2af0e7",
   "metadata": {
    "ExecuteTime": {
     "end_time": "2023-11-21T21:59:27.395412100Z",
     "start_time": "2023-11-21T21:59:27.315951400Z"
    },
    "collapsed": false
   },
   "outputs": [],
   "source": [
    "# Create a new column 'is_1_or_2' based on whether 'stationID' starts with '1' or '2'\n",
    "df['station'] = df['stationID'].astype(str).apply(lambda x: '1' if x.startswith('1') else '2' if x.startswith('2') else None)"
   ]
  },
  {
   "cell_type": "code",
   "execution_count": null,
   "id": "988f879ab4ce237b",
   "metadata": {
    "ExecuteTime": {
     "end_time": "2023-11-21T21:51:22.296887500Z",
     "start_time": "2023-11-21T21:51:19.299947200Z"
    },
    "collapsed": false
   },
   "outputs": [],
   "source": [
    "# Plot the time differences for station 1 in blue and station 2 in red\n",
    "plt.figure(figsize=(10, 6))\n",
    "\n",
    "# Plot time differences for station 1 (blue)\n",
    "plt.scatter(df[df['station'] == '1'].index, df[df['station'] == '1']['ChargingTimeMinutes'], color='blue', label='Station 1')\n",
    "\n",
    "# Plot time differences for station 2 (red)\n",
    "plt.scatter(df[df['station'] == '2'].index, df[df['station'] == '2']['ChargingTimeMinutes'], color='red', label='Station 2')\n",
    "\n",
    "plt.title('Charging Times for Stations 1 and 2')\n",
    "plt.xlabel('Row Index')\n",
    "plt.ylabel('Time Difference (minutes)')\n",
    "plt.legend()\n",
    "plt.grid(True)\n",
    "plt.show()"
   ]
  },
  {
   "cell_type": "code",
   "execution_count": null,
   "id": "b0c4c6c1c5cbef58",
   "metadata": {
    "ExecuteTime": {
     "end_time": "2023-11-21T21:51:26.419763800Z",
     "start_time": "2023-11-21T21:51:22.302890100Z"
    },
    "collapsed": false
   },
   "outputs": [],
   "source": [
    "# Plot the time differences for station 1 in blue and station 2 in red\n",
    "plt.figure(figsize=(10, 6))\n",
    "\n",
    "# Plot time differences for station 1 (blue)\n",
    "plt.scatter(df[df['station'] == '1'].index, df[df['station'] == '1']['NoChargingTimeMinutes'], color='blue', label='Station 1')\n",
    "\n",
    "# Plot time differences for station 2 (red)\n",
    "plt.scatter(df[df['station'] == '2'].index, df[df['station'] == '2']['NoChargingTimeMinutes'], color='red', label='Station 2')\n",
    "\n",
    "plt.title('Time without Charging for Stations 1 and 2')\n",
    "plt.xlabel('Row Index')\n",
    "plt.ylabel('Time Difference (minutes)')\n",
    "plt.legend()\n",
    "plt.grid(True)\n",
    "plt.show()"
   ]
  },
  {
   "cell_type": "code",
   "execution_count": null,
   "id": "63b862b9131148b1",
   "metadata": {
    "ExecuteTime": {
     "end_time": "2023-11-21T21:51:26.859019500Z",
     "start_time": "2023-11-21T21:51:26.399747400Z"
    },
    "collapsed": false
   },
   "outputs": [],
   "source": [
    "# Plot a histogram for the usage frequency of each station\n",
    "plt.figure(figsize=(8, 5))\n",
    "\n",
    "# Plot histogram for station 1\n",
    "plt.hist(df[df['station'] == '1']['station'], bins=2, color='blue', alpha=0.7, label='Station 1')\n",
    "\n",
    "# Plot histogram for station 2\n",
    "plt.hist(df[df['station'] == '2']['station'], bins=2, color='red', alpha=0.7, label='Station 2')\n",
    "\n",
    "plt.title('Usage Frequency of Stations 1 and 2')\n",
    "plt.xlabel('Station ID')\n",
    "plt.ylabel('Frequency')\n",
    "plt.legend()\n",
    "plt.grid(True)\n",
    "plt.show()"
   ]
  },
  {
   "cell_type": "code",
   "execution_count": null,
   "id": "168320495b97d057",
   "metadata": {
    "ExecuteTime": {
     "end_time": "2023-11-21T21:51:27.879272500Z",
     "start_time": "2023-11-21T21:51:26.828483900Z"
    },
    "collapsed": false
   },
   "outputs": [],
   "source": [
    "# Plot the usage frequency of stations for every month\n",
    "plt.figure(figsize=(12, 6))\n",
    "\n",
    "# Plot histogram for station 1\n",
    "plt.hist(df[df['station'] == '1']['month'], bins=12, color='blue', alpha=0.7, label='Station 1')\n",
    "\n",
    "# Plot histogram for station 2\n",
    "plt.hist(df[df['station'] == '2']['month'], bins=12, color='red', alpha=0.7, label='Station 2')\n",
    "\n",
    "plt.title('Usage Frequency of Stations 1 and 2 for Each Month')\n",
    "plt.xlabel('Month')\n",
    "plt.ylabel('Frequency')\n",
    "plt.legend()\n",
    "plt.grid(True)\n",
    "plt.show()"
   ]
  },
  {
   "cell_type": "code",
   "execution_count": null,
   "id": "19e2bcee39dbd676",
   "metadata": {
    "ExecuteTime": {
     "end_time": "2023-11-21T21:59:40.458977400Z",
     "start_time": "2023-11-21T21:59:40.306132200Z"
    },
    "collapsed": false
   },
   "outputs": [],
   "source": [
    "df_weather['timestamp'] = pd.to_datetime(df_weather['timestamp'])\n",
    "\n",
    "# Group by day and calculate the mean temperature for each day\n",
    "df_weather_mean_per_day = df_weather.groupby(df_weather['timestamp'].dt.date)['temperature'].mean().reset_index()\n",
    "\n",
    "# Display or save the resulting DataFrame\n",
    "print(df_weather_mean_per_day)"
   ]
  },
  {
   "cell_type": "code",
   "execution_count": null,
   "id": "aad472360f484714",
   "metadata": {
    "ExecuteTime": {
     "end_time": "2023-11-21T22:24:39.737344300Z",
     "start_time": "2023-11-21T22:24:30.703433900Z"
    },
    "collapsed": false
   },
   "outputs": [],
   "source": [
    "df_weather_mean_per_day['timestamp'] = pd.to_datetime(df_weather_mean_per_day['timestamp'])\n",
    "\n",
    "# Merge the two dataframes based on the day of the month\n",
    "merged_df = pd.merge(df, df_weather_mean_per_day, left_on=df['connectionTime'].dt.day, right_on=df_weather_mean_per_day['timestamp'].dt.day, how='inner')\n",
    "print(merged_df[merged_df['station'] == '1'])\n",
    "# Create a line plot of average temperature against the day of the month\n",
    "plt.figure(figsize=(12, 6))\n",
    "\n",
    "plt.hist(merged_df[merged_df['station'] == '1']['temperature'], bins=20, color='blue', alpha=0.7, label='Station 1')\n",
    "\n",
    "plt.hist(merged_df[merged_df['station'] == '2']['temperature'], bins=20, color='red', alpha=0.7, label='Station 2')\n",
    "\n",
    "plt.title('Frequency of the stations at different temperatures')\n",
    "plt.xlabel('temperature')\n",
    "plt.ylabel('Frequency')\n",
    "plt.legend()\n",
    "plt.grid(True)\n",
    "plt.show()"
   ]
  },
  {
   "cell_type": "code",
   "execution_count": null,
   "id": "304b7679162ea3c8",
   "metadata": {
    "ExecuteTime": {
     "start_time": "2023-11-21T21:51:28.322077700Z"
    },
    "collapsed": false
   },
   "outputs": [],
   "source": [
    "# TODO\n",
    "# Schauen wie die durchschnittswerte sind --> Vielleicht kommen verteilungen daher\n",
    "# Anschauen, wie häufig eine Station am Tag im Schnitt genutzt wird\n"
   ]
  }
 ],
 "metadata": {
  "kernelspec": {
   "display_name": "Python 3 (ipykernel)",
   "language": "python",
   "name": "python3"
  },
  "language_info": {
   "codemirror_mode": {
    "name": "ipython",
    "version": 3
   },
   "file_extension": ".py",
   "mimetype": "text/x-python",
   "name": "python",
   "nbconvert_exporter": "python",
   "pygments_lexer": "ipython3",
   "version": "3.11.5"
  }
 },
 "nbformat": 4,
 "nbformat_minor": 5
}
