{
 "cells": [
  {
   "cell_type": "code",
   "execution_count": 49,
   "metadata": {
    "ExecuteTime": {
     "end_time": "2024-02-04T14:46:51.872737260Z",
     "start_time": "2024-02-04T14:46:51.746263736Z"
    }
   },
   "outputs": [],
   "source": [
    "import pandas as pd\n",
    "import matplotlib.pyplot as plt\n",
    "import numpy as np\n",
    "import json"
   ]
  },
  {
   "cell_type": "code",
   "execution_count": 50,
   "metadata": {
    "ExecuteTime": {
     "end_time": "2024-02-04T14:46:52.358042678Z",
     "start_time": "2024-02-04T14:46:51.759076305Z"
    }
   },
   "outputs": [
    {
     "name": "stdout",
     "output_type": "stream",
     "text": [
      "The dataset has 66450 rows and 13 columns\n"
     ]
    }
   ],
   "source": [
    "df = pd.read_csv(\"data/charging_sessions.csv\")\n",
    "r, c = df.shape\n",
    "print(f'The dataset has {r} rows and {c} columns')"
   ]
  },
  {
   "cell_type": "code",
   "execution_count": 51,
   "metadata": {
    "ExecuteTime": {
     "end_time": "2024-02-04T14:46:53.544930918Z",
     "start_time": "2024-02-04T14:46:52.459866634Z"
    }
   },
   "outputs": [],
   "source": [
    "# Set Datatypes\n",
    "df['connectionTime'] = pd.to_datetime(df['connectionTime'])\n",
    "df['disconnectTime'] = pd.to_datetime(df['disconnectTime'])\n",
    "df['doneChargingTime'] = pd.to_datetime(df['doneChargingTime'])\n",
    "\n",
    "df['sessionID'] = df['sessionID'].astype(str)\n",
    "df['siteID'] = df['siteID'].astype(str)\n",
    "df['spaceID'] = df['spaceID'].astype(str)\n",
    "df['stationID'] = df['stationID'].astype(str)\n",
    "#df['userID'] = df['userID'].astype(str) # For site characteristics: better use if datatype is float64"
   ]
  },
  {
   "cell_type": "code",
   "execution_count": 52,
   "metadata": {
    "ExecuteTime": {
     "end_time": "2024-02-04T14:46:53.591418159Z",
     "start_time": "2024-02-04T14:46:53.549289253Z"
    }
   },
   "outputs": [],
   "source": [
    "start_date = '2018-04-25'\n",
    "end_date = '2021-01-01'\n",
    "\n",
    "df = df[(df['connectionTime'] >= start_date) & (df['disconnectTime'] <= end_date)]\n",
    "df['weekday'] = df['connectionTime'].dt.day_name()"
   ]
  },
  {
   "cell_type": "code",
   "execution_count": 53,
   "metadata": {
    "ExecuteTime": {
     "end_time": "2024-02-04T14:46:53.608860706Z",
     "start_time": "2024-02-04T14:46:53.595233514Z"
    }
   },
   "outputs": [],
   "source": [
    "# Rename first column, contains an index\n",
    "#df = df.rename(columns={df.columns[0]: 'Index'})\n",
    "#df = df.set_index('Index')"
   ]
  },
  {
   "cell_type": "code",
   "execution_count": 54,
   "metadata": {
    "ExecuteTime": {
     "end_time": "2024-02-04T14:46:53.645007651Z",
     "start_time": "2024-02-04T14:46:53.642476912Z"
    }
   },
   "outputs": [],
   "source": [
    "# Session ID is a composite value of stationID and connectionTime, and therefor redundant\n",
    "# Timezone contains only one value, and can therefor be considered meta-data\n",
    "# First column cannot be used as the index because of several mistakes (e.g. \"index\" 1 would occur 9 times)\n",
    "# First column makes no sense otherwise\n",
    "#df[df[df.columns[0]] != df.index] # Shows the differences between actual index and supposed index\n",
    "#df[df[df.columns[0]] == 1] # Shows, how \"index\" 1 occurs 9 times\n",
    "df = df.drop(['sessionID', 'timezone', df.columns[0]], axis=1)"
   ]
  },
  {
   "cell_type": "code",
   "execution_count": 55,
   "metadata": {
    "ExecuteTime": {
     "end_time": "2024-02-04T14:46:53.698690226Z",
     "start_time": "2024-02-04T14:46:53.642763531Z"
    }
   },
   "outputs": [],
   "source": [
    "df['NoChargingTime'] = df['disconnectTime'] - df['doneChargingTime']\n",
    "df['NoChargingTimeMinutes'] = (df['NoChargingTime']).dt.total_seconds() / 60.0  # Convert seconds to minutes\n",
    "df['NoChargingTimeHours'] = ((df['NoChargingTime']).dt.total_seconds() / 60.0) / 60.0  # Convert minutes to hours\n",
    "\n",
    "df['ChargingTime'] = df['doneChargingTime'] - df['connectionTime']\n",
    "df['ChargingTimeMinutes'] = (df['ChargingTime']).dt.total_seconds() / 60.0  # Convert seconds to minutes\n",
    "df['ChargingTimeHours'] = ((df['ChargingTime']).dt.total_seconds() / 60.0) / 60.0  # Convert minutes to hours\n",
    "\n",
    "df['kWhPerMinute'] = df['kWhDelivered'] / df['ChargingTimeMinutes']\n",
    "\n",
    "# Create a new column 'month' to store the month information\n",
    "df['month'] = df['connectionTime'].dt.month\n",
    "\n",
    "# Create a new column 'userRegistered' to state if user is registered or not (needed for site characteristics section)\n",
    "df['userRegistered'] = np.where(df['userID'].isnull(), 'unregistered', 'registered')"
   ]
  },
  {
   "cell_type": "markdown",
   "metadata": {},
   "source": [
    "### Flatten the Json-Object UserInput"
   ]
  },
  {
   "cell_type": "code",
   "execution_count": 56,
   "metadata": {
    "ExecuteTime": {
     "end_time": "2024-02-04T14:46:53.698938991Z",
     "start_time": "2024-02-04T14:46:53.685888575Z"
    }
   },
   "outputs": [],
   "source": [
    "# df_charging['userInputs'] = df_charging['userInputs'].str.replace(\"'\", '\"')\n",
    "# df_charging['userInputs'] = df_charging['userInputs'].str.replace('\"[', \"'[\")\n",
    "# df_charging['userInputs'] = df_charging['userInputs'].str.replace(']\"', \"]'\")\n",
    "# df_charging['userInputs'] = df_charging['userInputs'].str.replace(\"True\", \"true\")\n",
    "# df_charging['userInputs'] = df_charging['userInputs'].str.replace(\"False\", \"false\")\n",
    "\n",
    "# Mapping: Value to be replaced: replacing value\n",
    "#replacements = {\n",
    "#    \"'\": '\"', \n",
    "#    '\"[': \"'[\",\n",
    "#    ']\"': \"]'\",\n",
    "#    \"True\": \"true\",\n",
    "#    \"False\": \"false\"\n",
    "# }\n",
    "\n",
    "# shorthand to replace multiple values\n",
    "# for i, j in replacements.items():\n",
    "#    df_charging['userInputs'] = df_charging['userInputs'].str.replace(i, j)\n",
    "# Old Version\n",
    "# for i in range(len(df_charging['userInputs'])):\n",
    "#     if not pd.isna(df_charging['userInputs'].iloc[i]):\n",
    "#        df_charging.at[i, 'userInputs'] = json.loads(df_charging['userInputs'].iloc[i])\n",
    "\n",
    "# Refactored Version\n",
    "# df_charging['userInputs'] = df_charging['userInputs'].apply(lambda x: json.loads(x) if pd.notna(x) else x)"
   ]
  },
  {
   "cell_type": "code",
   "execution_count": 57,
   "metadata": {
    "ExecuteTime": {
     "end_time": "2024-02-04T14:46:54.378599557Z",
     "start_time": "2024-02-04T14:46:53.686082992Z"
    }
   },
   "outputs": [],
   "source": [
    "df['userInputs'] = df['userInputs'].str.replace(\"'\", '\"')\n",
    "df['userInputs'] = df['userInputs'].str.replace('\"[', \"'[\")\n",
    "df['userInputs'] = df['userInputs'].str.replace(']\"', \"]'\")\n",
    "df['userInputs'] = df['userInputs'].str.replace(\"True\", \"true\")\n",
    "df['userInputs'] = df['userInputs'].str.replace(\"False\", \"false\")\n",
    "\n",
    "# Old Version\n",
    "# for i in range(len(df['userInputs'])):\n",
    "#     if not pd.isna(df['userInputs'].iloc[i]):\n",
    "#        df.at[i, 'userInputs'] = json.loads(df['userInputs'].iloc[i])\n",
    "\n",
    "# Refactored Version\n",
    "df['userInputs'] = df['userInputs'].apply(lambda x: json.loads(x) if pd.notna(x) else x)\n",
    "# Extract 'paymentRequired' values and save them in a new column\n",
    "df['user_paymentRequired_values'] = df['userInputs'].apply(lambda x: x[0]['paymentRequired'] if isinstance(x, list) and len(x) > 0 else None)\n",
    "df['user_userID'] = df['userInputs'].apply(lambda x: x[0]['userID'] if isinstance(x, list) and len(x) > 0 else None)\n",
    "df['user_requestedDeparture'] = df['userInputs'].apply(lambda x: x[0]['requestedDeparture'] if isinstance(x, list) and len(x) > 0 else None)\n",
    "df['user_modifiedAt'] = df['userInputs'].apply(lambda x: x[0]['modifiedAt'] if isinstance(x, list) and len(x) > 0 else None)\n",
    "df['user_minutesAvailable'] = df['userInputs'].apply(lambda x: x[0]['minutesAvailable'] if isinstance(x, list) and len(x) > 0 else None)\n",
    "df['user_milesRequested'] = df['userInputs'].apply(lambda x: x[0]['milesRequested'] if isinstance(x, list) and len(x) > 0 else None)\n",
    "df['user_kWhRequested'] = df['userInputs'].apply(lambda x: x[0]['kWhRequested'] if isinstance(x, list) and len(x) > 0 else None)\n",
    "df['user_WhPerMile'] = df['userInputs'].apply(lambda x: x[0]['WhPerMile'] if isinstance(x, list) and len(x) > 0 else None)\n",
    "\n",
    "# Drop the 'userInputs' column\n",
    "df.drop(columns=['userInputs'], inplace=True)\n",
    "\n",
    "# Check if user_userID and userID are the same (result: they are)\n",
    "#df['user_userID'] = df['user_userID'].astype(str)\n",
    "#df[df['userID'] != df['user_userID']]\n",
    "\n",
    "# Drop the \"user_userID\" column, as it has the same values as the column \"userID\", therefore redundant\n",
    "df = df.drop(['user_userID'], axis=1)"
   ]
  },
  {
   "cell_type": "code",
   "execution_count": 58,
   "metadata": {
    "ExecuteTime": {
     "end_time": "2024-02-04T14:46:54.430718332Z",
     "start_time": "2024-02-04T14:46:54.366877074Z"
    }
   },
   "outputs": [],
   "source": [
    "# Add a column 'user_kWhRequestFulfilment', which shows the difference between kWh request and delivery\n",
    "df['user_kWhRequestFulfilment'] = df['kWhDelivered'] - df['user_kWhRequested']"
   ]
  },
  {
   "cell_type": "code",
   "execution_count": 59,
   "metadata": {
    "ExecuteTime": {
     "end_time": "2024-02-04T14:46:54.458283552Z",
     "start_time": "2024-02-04T14:46:54.409129809Z"
    }
   },
   "outputs": [],
   "source": [
    "# Problem detected in KPI section: connectionTime sometimes later than doneChargingTime -> negative values not possible\n",
    "# Drop rows, where charging time (in hours) has negative values\n",
    "df = df.drop(df[df['ChargingTimeHours'] < 0].index)\n",
    "\n",
    "# Problem detected in KPI section: doneChargingTime sometimes later than disconnectTime -> negative values not possible\n",
    "# Drop rows, where no charging time (in hours) has negative values\n",
    "df = df.drop(df[df['NoChargingTimeHours'] < 0].index)"
   ]
  },
  {
   "cell_type": "code",
   "execution_count": 60,
   "metadata": {
    "ExecuteTime": {
     "end_time": "2024-02-04T14:46:54.512177886Z",
     "start_time": "2024-02-04T14:46:54.452561331Z"
    }
   },
   "outputs": [],
   "source": [
    "# Sorts the values by connection time and updates the index\n",
    "df = df.sort_values('connectionTime')\n",
    "df = df.reset_index(drop=True)"
   ]
  },
  {
   "cell_type": "code",
   "execution_count": 61,
   "metadata": {
    "ExecuteTime": {
     "end_time": "2024-02-04T15:27:31.485158874Z",
     "start_time": "2024-02-04T15:27:10.587304164Z"
    }
   },
   "outputs": [
    {
     "name": "stdout",
     "output_type": "stream",
     "text": [
      "Missing entries from 2020-08-04 05:45:10+00:00 to 2020-11-18 20:45:10+00:00 (Duration: 106.66666666666667 days)\n"
     ]
    }
   ],
   "source": [
    "start_date = df['connectionTime'].min()\n",
    "end_date = df['disconnectTime'].max()\n",
    "datetime_range = pd.date_range(start=start_date, end=end_date, freq='H')\n",
    "\n",
    "missing_periods = []\n",
    "current_period = []\n",
    "\n",
    "for datetime in datetime_range:\n",
    "    no_entries_for_datetime = df[(df['connectionTime'] <= datetime) & (df['disconnectTime'] >= datetime)].empty\n",
    "\n",
    "    if no_entries_for_datetime:\n",
    "        if not current_period or datetime == current_period[-1] + pd.Timedelta(hours=1):\n",
    "            current_period.append(datetime)\n",
    "        else:\n",
    "            if len(current_period) > 7*24:\n",
    "                missing_periods.append(current_period)\n",
    "            current_period = [datetime]\n",
    "    else:\n",
    "        if current_period and len(current_period) > 7*24:\n",
    "            missing_periods.append(current_period)\n",
    "        current_period = []\n",
    "\n",
    "if current_period and len(current_period) > 7*24:\n",
    "    missing_periods.append(current_period)\n",
    "\n",
    "for period in missing_periods:\n",
    "    print(f\"Missing entries from {period[0]} to {period[-1]} (Duration: {len(period)/24} days)\")"
   ]
  },
  {
   "cell_type": "code",
   "execution_count": 63,
   "metadata": {
    "ExecuteTime": {
     "end_time": "2024-02-04T14:46:57.063710406Z",
     "start_time": "2024-02-04T14:46:55.457900592Z"
    }
   },
   "outputs": [],
   "source": [
    "# import pandas as pd\n",
    "\n",
    "# # Assuming your DataFrame is named 'df' and has a datetime index\n",
    "# # 'connectionTime' and 'disconnectTime' are columns containing datetime values\n",
    "# # 'kWhDelivered' is the column you want to fill\n",
    "\n",
    "# # Combine 'connectionTime' and 'disconnectTime' to create a datetime index\n",
    "# df['datetime'] = pd.to_datetime(df['connectionTime'])\n",
    "# df.set_index('datetime', inplace=True)\n",
    "\n",
    "# # Ensure the 'kWhDelivered' column has a numeric data type\n",
    "# df['kWhDelivered'] = pd.to_numeric(df['kWhDelivered'], errors='coerce')\n",
    "\n",
    "# # Resample the data to have a continuous time series with daily frequency\n",
    "# df_resampled = df.resample('D').mean()\n",
    "\n",
    "# # Identify numeric columns for calculating rolling mean\n",
    "# numeric_columns = df.select_dtypes(include=['number']).columns\n",
    "\n",
    "# # Calculate the rolling mean with a specified window size (e.g., 7 days) for numeric columns\n",
    "# rolling_means = df_resampled[numeric_columns].rolling(window=7, min_periods=1).mean()\n",
    "\n",
    "# # Combine rolling means with non-numeric columns\n",
    "# df_filled = df.combine_first(rolling_means)\n",
    "\n",
    "# # Reset the index if needed\n",
    "# df_filled.reset_index(inplace=True)\n",
    "\n",
    "# # Print the DataFrame with the filled values\n",
    "# print(df_filled)\n"
   ]
  },
  {
   "cell_type": "code",
   "execution_count": 64,
   "metadata": {
    "ExecuteTime": {
     "start_time": "2024-02-04T14:46:57.109063321Z"
    }
   },
   "outputs": [],
   "source": [
    "df.to_csv('data/charging_modified.csv')"
   ]
  }
 ],
 "metadata": {
  "kernelspec": {
   "display_name": "Python 3 (ipykernel)",
   "language": "python",
   "name": "python3"
  },
  "language_info": {
   "codemirror_mode": {
    "name": "ipython",
    "version": 3
   },
   "file_extension": ".py",
   "mimetype": "text/x-python",
   "name": "python",
   "nbconvert_exporter": "python",
   "pygments_lexer": "ipython3",
   "version": "3.9.2rc1"
  }
 },
 "nbformat": 4,
 "nbformat_minor": 2
}
