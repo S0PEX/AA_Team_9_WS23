{
 "cells": [
  {
   "cell_type": "code",
   "execution_count": 85,
   "metadata": {
    "ExecuteTime": {
     "end_time": "2024-02-07T08:58:02.814741908Z",
     "start_time": "2024-02-07T08:58:02.764679271Z"
    }
   },
   "outputs": [],
   "source": [
    "import pandas as pd\n",
    "import matplotlib.pyplot as plt\n",
    "import numpy as np\n",
    "import json"
   ]
  },
  {
   "cell_type": "code",
   "execution_count": 86,
   "metadata": {
    "ExecuteTime": {
     "end_time": "2024-02-07T08:58:03.124629877Z",
     "start_time": "2024-02-07T08:58:02.816670861Z"
    }
   },
   "outputs": [
    {
     "name": "stdout",
     "output_type": "stream",
     "text": [
      "The dataset has 66450 rows and 13 columns\n"
     ]
    }
   ],
   "source": [
    "df = pd.read_csv(\"data/charging_sessions.csv\")\n",
    "r, c = df.shape\n",
    "print(f'The dataset has {r} rows and {c} columns')"
   ]
  },
  {
   "cell_type": "code",
   "execution_count": 87,
   "metadata": {
    "ExecuteTime": {
     "end_time": "2024-02-07T08:58:03.625879597Z",
     "start_time": "2024-02-07T08:58:03.124450867Z"
    }
   },
   "outputs": [],
   "source": [
    "# Set Datatypes\n",
    "df['connectionTime'] = pd.to_datetime(df['connectionTime'])\n",
    "df['disconnectTime'] = pd.to_datetime(df['disconnectTime'])\n",
    "df['doneChargingTime'] = pd.to_datetime(df['doneChargingTime'])\n",
    "\n",
    "df['sessionID'] = df['sessionID'].astype(str)\n",
    "df['siteID'] = df['siteID'].astype(str)\n",
    "df['spaceID'] = df['spaceID'].astype(str)\n",
    "df['stationID'] = df['stationID'].astype(str)\n",
    "#df['userID'] = df['userID'].astype(str) # For site characteristics: better use if datatype is float64"
   ]
  },
  {
   "cell_type": "code",
   "execution_count": 88,
   "metadata": {
    "ExecuteTime": {
     "end_time": "2024-02-07T08:58:03.672527430Z",
     "start_time": "2024-02-07T08:58:03.627036885Z"
    }
   },
   "outputs": [],
   "source": [
    "start_date = '2018-04-25'\n",
    "end_date = '2021-01-01'\n",
    "\n",
    "df = df[(df['connectionTime'] >= start_date) & (df['disconnectTime'] <= end_date)]\n",
    "df['weekday'] = df['connectionTime'].dt.day_name()"
   ]
  },
  {
   "cell_type": "code",
   "execution_count": 89,
   "metadata": {
    "ExecuteTime": {
     "end_time": "2024-02-07T08:58:03.672973437Z",
     "start_time": "2024-02-07T08:58:03.672449292Z"
    }
   },
   "outputs": [],
   "source": [
    "# Session ID is a composite value of stationID and connectionTime, and therefor redundant\n",
    "# Timezone contains only one value, and can therefor be considered meta-data\n",
    "# First column cannot be used as the index because of several mistakes (e.g. \"index\" 1 would occur 9 times)\n",
    "# First column makes no sense otherwise\n",
    "df = df.drop(['sessionID', 'timezone', df.columns[0]], axis=1)"
   ]
  },
  {
   "cell_type": "code",
   "outputs": [
    {
     "data": {
      "text/plain": "                         id            connectionTime  \\\n0  5e23b149f9af8b5fe4b973cf 2020-01-02 13:08:54+00:00   \n1  5e23b149f9af8b5fe4b973d0 2020-01-02 13:36:50+00:00   \n2  5e23b149f9af8b5fe4b973d1 2020-01-02 13:56:35+00:00   \n3  5e23b149f9af8b5fe4b973d2 2020-01-02 13:59:58+00:00   \n4  5e23b149f9af8b5fe4b973d3 2020-01-02 14:00:01+00:00   \n\n             disconnectTime          doneChargingTime  kWhDelivered siteID  \\\n0 2020-01-02 19:11:15+00:00 2020-01-02 17:31:35+00:00        25.016      1   \n1 2020-01-02 22:38:21+00:00 2020-01-02 20:18:05+00:00        33.097      1   \n2 2020-01-03 00:39:22+00:00 2020-01-02 16:35:06+00:00         6.521      1   \n3 2020-01-02 16:38:39+00:00 2020-01-02 15:18:45+00:00         2.355      1   \n4 2020-01-02 22:08:40+00:00 2020-01-02 18:17:30+00:00        13.375      1   \n\n   spaceID    stationID  userID  \\\n0  AG-3F30  1-1-179-810   194.0   \n1  AG-1F01  1-1-193-825  4275.0   \n2  AG-1F03  1-1-193-829   344.0   \n3  AG-1F04  1-1-193-820  1117.0   \n4  AG-1F06  1-1-193-819   334.0   \n\n                                          userInputs   weekday  fullyCharged  \n0  [{'WhPerMile': 250, 'kWhRequested': 25.0, 'mil...  Thursday          True  \n1  [{'WhPerMile': 280, 'kWhRequested': 70.0, 'mil...  Thursday          True  \n2  [{'WhPerMile': 400, 'kWhRequested': 8.0, 'mile...  Thursday          True  \n3  [{'WhPerMile': 400, 'kWhRequested': 8.0, 'mile...  Thursday          True  \n4  [{'WhPerMile': 400, 'kWhRequested': 16.0, 'mil...  Thursday          True  ",
      "text/html": "<div>\n<style scoped>\n    .dataframe tbody tr th:only-of-type {\n        vertical-align: middle;\n    }\n\n    .dataframe tbody tr th {\n        vertical-align: top;\n    }\n\n    .dataframe thead th {\n        text-align: right;\n    }\n</style>\n<table border=\"1\" class=\"dataframe\">\n  <thead>\n    <tr style=\"text-align: right;\">\n      <th></th>\n      <th>id</th>\n      <th>connectionTime</th>\n      <th>disconnectTime</th>\n      <th>doneChargingTime</th>\n      <th>kWhDelivered</th>\n      <th>siteID</th>\n      <th>spaceID</th>\n      <th>stationID</th>\n      <th>userID</th>\n      <th>userInputs</th>\n      <th>weekday</th>\n      <th>fullyCharged</th>\n    </tr>\n  </thead>\n  <tbody>\n    <tr>\n      <th>0</th>\n      <td>5e23b149f9af8b5fe4b973cf</td>\n      <td>2020-01-02 13:08:54+00:00</td>\n      <td>2020-01-02 19:11:15+00:00</td>\n      <td>2020-01-02 17:31:35+00:00</td>\n      <td>25.016</td>\n      <td>1</td>\n      <td>AG-3F30</td>\n      <td>1-1-179-810</td>\n      <td>194.0</td>\n      <td>[{'WhPerMile': 250, 'kWhRequested': 25.0, 'mil...</td>\n      <td>Thursday</td>\n      <td>True</td>\n    </tr>\n    <tr>\n      <th>1</th>\n      <td>5e23b149f9af8b5fe4b973d0</td>\n      <td>2020-01-02 13:36:50+00:00</td>\n      <td>2020-01-02 22:38:21+00:00</td>\n      <td>2020-01-02 20:18:05+00:00</td>\n      <td>33.097</td>\n      <td>1</td>\n      <td>AG-1F01</td>\n      <td>1-1-193-825</td>\n      <td>4275.0</td>\n      <td>[{'WhPerMile': 280, 'kWhRequested': 70.0, 'mil...</td>\n      <td>Thursday</td>\n      <td>True</td>\n    </tr>\n    <tr>\n      <th>2</th>\n      <td>5e23b149f9af8b5fe4b973d1</td>\n      <td>2020-01-02 13:56:35+00:00</td>\n      <td>2020-01-03 00:39:22+00:00</td>\n      <td>2020-01-02 16:35:06+00:00</td>\n      <td>6.521</td>\n      <td>1</td>\n      <td>AG-1F03</td>\n      <td>1-1-193-829</td>\n      <td>344.0</td>\n      <td>[{'WhPerMile': 400, 'kWhRequested': 8.0, 'mile...</td>\n      <td>Thursday</td>\n      <td>True</td>\n    </tr>\n    <tr>\n      <th>3</th>\n      <td>5e23b149f9af8b5fe4b973d2</td>\n      <td>2020-01-02 13:59:58+00:00</td>\n      <td>2020-01-02 16:38:39+00:00</td>\n      <td>2020-01-02 15:18:45+00:00</td>\n      <td>2.355</td>\n      <td>1</td>\n      <td>AG-1F04</td>\n      <td>1-1-193-820</td>\n      <td>1117.0</td>\n      <td>[{'WhPerMile': 400, 'kWhRequested': 8.0, 'mile...</td>\n      <td>Thursday</td>\n      <td>True</td>\n    </tr>\n    <tr>\n      <th>4</th>\n      <td>5e23b149f9af8b5fe4b973d3</td>\n      <td>2020-01-02 14:00:01+00:00</td>\n      <td>2020-01-02 22:08:40+00:00</td>\n      <td>2020-01-02 18:17:30+00:00</td>\n      <td>13.375</td>\n      <td>1</td>\n      <td>AG-1F06</td>\n      <td>1-1-193-819</td>\n      <td>334.0</td>\n      <td>[{'WhPerMile': 400, 'kWhRequested': 16.0, 'mil...</td>\n      <td>Thursday</td>\n      <td>True</td>\n    </tr>\n  </tbody>\n</table>\n</div>"
     },
     "metadata": {},
     "output_type": "display_data"
    }
   ],
   "source": [
    "# Add column to represent if the vehicle was fully charged during the session or only a partial charge\n",
    "# If doneChargingTime is set then the vehicle is fully charged\n",
    "df['fullyCharged'] = np.where(df['doneChargingTime'].isnull(), False, True)\n",
    "\n",
    "display(df.head())"
   ],
   "metadata": {
    "collapsed": false,
    "ExecuteTime": {
     "end_time": "2024-02-07T08:58:03.673837148Z",
     "start_time": "2024-02-07T08:58:03.672560302Z"
    }
   },
   "execution_count": 90
  },
  {
   "cell_type": "code",
   "outputs": [
    {
     "data": {
      "text/plain": "id                               object\nconnectionTime      datetime64[ns, UTC]\ndisconnectTime      datetime64[ns, UTC]\ndoneChargingTime    datetime64[ns, UTC]\nkWhDelivered                    float64\nsiteID                           object\nspaceID                          object\nstationID                        object\nuserID                          float64\nuserInputs                       object\nweekday                          object\nfullyCharged                       bool\ndtype: object"
     },
     "execution_count": 91,
     "metadata": {},
     "output_type": "execute_result"
    }
   ],
   "source": [
    "# Show data types of the columns\n",
    "df.dtypes"
   ],
   "metadata": {
    "collapsed": false,
    "ExecuteTime": {
     "end_time": "2024-02-07T08:58:03.733807130Z",
     "start_time": "2024-02-07T08:58:03.672645584Z"
    }
   },
   "execution_count": 91
  },
  {
   "cell_type": "code",
   "execution_count": 92,
   "metadata": {
    "ExecuteTime": {
     "end_time": "2024-02-07T08:58:03.734186340Z",
     "start_time": "2024-02-07T08:58:03.720436419Z"
    }
   },
   "outputs": [],
   "source": [
    "# No charge time is zero when doneChargingTime is not set, else it's the difference between disconnectTime and doneChargingTime\n",
    "# For some reason we can't use pd.Timedeltas here, so we hack 0 by subtracting the connectionTime from itself\n",
    "df['NoChargingTime'] = np.where(df['doneChargingTime'].isnull(), df['connectionTime'] - df['connectionTime'], df['doneChargingTime'] - df['connectionTime'])\n",
    "df['NoChargingTimeMinutes'] = (df['NoChargingTime']).dt.total_seconds() / 60.0  # Convert seconds to minutes\n",
    "df['NoChargingTimeHours'] = ((df['NoChargingTime']).dt.total_seconds() / 60.0) / 60.0  # Convert minutes to hours\n",
    "\n",
    "# Charging time delta between doneChargingTime and connectionTime, if doneChargingTime is set, otherwise it's the difference between disconnectTime and connectionTime\n",
    "df['ChargingTime'] = np.where(df['doneChargingTime'].isnull(), df['disconnectTime'] - df['connectionTime'], df['doneChargingTime'] - df['connectionTime'])\n",
    "df['ChargingTimeMinutes'] = (df['ChargingTime']).dt.total_seconds() / 60.0  # Convert seconds to minutes\n",
    "df['ChargingTimeHours'] = ((df['ChargingTime']).dt.total_seconds() / 60.0) / 60.0  # Convert minutes to hours\n",
    "\n",
    "df['kWhPerMinute'] = df['kWhDelivered'] / df['ChargingTimeMinutes']\n",
    "\n",
    "# Create a new column 'month' to store the month information\n",
    "df['month'] = df['connectionTime'].dt.month\n",
    "\n",
    "# Create a new column 'userRegistered' to state if user is registered or not (needed for site characteristics section)\n",
    "df['userRegistered'] = np.where(df['userID'].isnull(), False, True)"
   ]
  },
  {
   "cell_type": "code",
   "outputs": [
    {
     "data": {
      "text/plain": "id                           0\nconnectionTime               0\ndisconnectTime               0\ndoneChargingTime          2630\nkWhDelivered                 0\nsiteID                       0\nspaceID                      0\nstationID                    0\nuserID                   16811\nuserInputs               16811\nweekday                      0\nfullyCharged                 0\nNoChargingTime               0\nNoChargingTimeMinutes        0\nNoChargingTimeHours          0\nChargingTime                 0\nChargingTimeMinutes          0\nChargingTimeHours            0\nkWhPerMinute                 0\nmonth                        0\nuserRegistered               0\ndtype: int64"
     },
     "execution_count": 93,
     "metadata": {},
     "output_type": "execute_result"
    }
   ],
   "source": [
    "# Show null values per column\n",
    "df.isnull().sum()"
   ],
   "metadata": {
    "collapsed": false,
    "ExecuteTime": {
     "end_time": "2024-02-07T08:58:03.734534571Z",
     "start_time": "2024-02-07T08:58:03.720563170Z"
    }
   },
   "execution_count": 93
  },
  {
   "cell_type": "markdown",
   "metadata": {},
   "source": [
    "### Flatten the Json-Object UserInput"
   ]
  },
  {
   "cell_type": "code",
   "execution_count": 94,
   "metadata": {
    "ExecuteTime": {
     "end_time": "2024-02-07T08:58:03.734795537Z",
     "start_time": "2024-02-07T08:58:03.720608045Z"
    }
   },
   "outputs": [],
   "source": [
    "# df_charging['userInputs'] = df_charging['userInputs'].str.replace(\"'\", '\"')\n",
    "# df_charging['userInputs'] = df_charging['userInputs'].str.replace('\"[', \"'[\")\n",
    "# df_charging['userInputs'] = df_charging['userInputs'].str.replace(']\"', \"]'\")\n",
    "# df_charging['userInputs'] = df_charging['userInputs'].str.replace(\"True\", \"true\")\n",
    "# df_charging['userInputs'] = df_charging['userInputs'].str.replace(\"False\", \"false\")\n",
    "\n",
    "# Mapping: Value to be replaced: replacing value\n",
    "#replacements = {\n",
    "#    \"'\": '\"', \n",
    "#    '\"[': \"'[\",\n",
    "#    ']\"': \"]'\",\n",
    "#    \"True\": \"true\",\n",
    "#    \"False\": \"false\"\n",
    "# }\n",
    "\n",
    "# shorthand to replace multiple values\n",
    "# for i, j in replacements.items():\n",
    "#    df_charging['userInputs'] = df_charging['userInputs'].str.replace(i, j)\n",
    "# Old Version\n",
    "# for i in range(len(df_charging['userInputs'])):\n",
    "#     if not pd.isna(df_charging['userInputs'].iloc[i]):\n",
    "#        df_charging.at[i, 'userInputs'] = json.loads(df_charging['userInputs'].iloc[i])\n",
    "\n",
    "# Refactored Version\n",
    "# df_charging['userInputs'] = df_charging['userInputs'].apply(lambda x: json.loads(x) if pd.notna(x) else x)"
   ]
  },
  {
   "cell_type": "code",
   "execution_count": 95,
   "metadata": {
    "ExecuteTime": {
     "end_time": "2024-02-07T08:58:03.990286393Z",
     "start_time": "2024-02-07T08:58:03.720640256Z"
    }
   },
   "outputs": [],
   "source": [
    "df['userInputs'] = df['userInputs'].str.replace(\"'\", '\"')\n",
    "df['userInputs'] = df['userInputs'].str.replace('\"[', \"'[\")\n",
    "df['userInputs'] = df['userInputs'].str.replace(']\"', \"]'\")\n",
    "df['userInputs'] = df['userInputs'].str.replace(\"True\", \"true\")\n",
    "df['userInputs'] = df['userInputs'].str.replace(\"False\", \"false\")\n",
    "\n",
    "# Refactored Version\n",
    "df['userInputs'] = df['userInputs'].apply(lambda x: json.loads(x) if pd.notna(x) else x)\n",
    "# Extract 'paymentRequired' values and save them in a new column\n",
    "df['user_paymentRequired_values'] = df['userInputs'].apply(lambda x: x[0]['paymentRequired'] if isinstance(x, list) and len(x) > 0 else None)\n",
    "df['user_userID'] = df['userInputs'].apply(lambda x: x[0]['userID'] if isinstance(x, list) and len(x) > 0 else None)\n",
    "df['user_requestedDeparture'] = df['userInputs'].apply(lambda x: x[0]['requestedDeparture'] if isinstance(x, list) and len(x) > 0 else None)\n",
    "df['user_modifiedAt'] = df['userInputs'].apply(lambda x: x[0]['modifiedAt'] if isinstance(x, list) and len(x) > 0 else None)\n",
    "df['user_minutesAvailable'] = df['userInputs'].apply(lambda x: x[0]['minutesAvailable'] if isinstance(x, list) and len(x) > 0 else None)\n",
    "df['user_milesRequested'] = df['userInputs'].apply(lambda x: x[0]['milesRequested'] if isinstance(x, list) and len(x) > 0 else None)\n",
    "df['user_kWhRequested'] = df['userInputs'].apply(lambda x: x[0]['kWhRequested'] if isinstance(x, list) and len(x) > 0 else None)\n",
    "df['user_WhPerMile'] = df['userInputs'].apply(lambda x: x[0]['WhPerMile'] if isinstance(x, list) and len(x) > 0 else None)\n",
    "\n",
    "# Drop the 'userInputs' column\n",
    "df.drop(columns=['userInputs'], inplace=True)\n",
    "\n",
    "# Drop the \"user_userID\" column, as it has the same values as the column \"userID\", therefore redundant\n",
    "df = df.drop(['user_userID'], axis=1)"
   ]
  },
  {
   "cell_type": "code",
   "execution_count": 96,
   "metadata": {
    "ExecuteTime": {
     "end_time": "2024-02-07T08:58:04.032536186Z",
     "start_time": "2024-02-07T08:58:03.990999878Z"
    }
   },
   "outputs": [],
   "source": [
    "# Add a column 'user_kWhRequestFulfilment', which shows the difference between kWh request and delivery\n",
    "df['user_kWhRequestFulfilment'] = df['kWhDelivered'] - df['user_kWhRequested']"
   ]
  },
  {
   "cell_type": "code",
   "execution_count": 97,
   "metadata": {
    "ExecuteTime": {
     "end_time": "2024-02-07T08:58:04.033236686Z",
     "start_time": "2024-02-07T08:58:04.032438801Z"
    }
   },
   "outputs": [],
   "source": [
    "# Problem detected in KPI section: connectionTime sometimes later than doneChargingTime -> negative values not possible\n",
    "# Drop rows, where charging time (in hours) has negative values\n",
    "df = df.drop(df[df['ChargingTimeHours'] < 0].index)\n",
    "\n",
    "# Problem detected in KPI section: doneChargingTime sometimes later than disconnectTime -> negative values not possible\n",
    "# Drop rows, where no charging time (in hours) has negative values\n",
    "df = df.drop(df[df['NoChargingTimeHours'] < 0].index)"
   ]
  },
  {
   "cell_type": "code",
   "execution_count": 98,
   "metadata": {
    "ExecuteTime": {
     "end_time": "2024-02-07T08:58:04.080717004Z",
     "start_time": "2024-02-07T08:58:04.032613393Z"
    }
   },
   "outputs": [],
   "source": [
    "# Sorts the values by connection time and updates the index\n",
    "df = df.sort_values('connectionTime')\n",
    "df = df.reset_index(drop=True)"
   ]
  },
  {
   "cell_type": "code",
   "execution_count": 99,
   "metadata": {
    "ExecuteTime": {
     "end_time": "2024-02-07T08:58:11.484723158Z",
     "start_time": "2024-02-07T08:58:04.080602075Z"
    }
   },
   "outputs": [
    {
     "name": "stdout",
     "output_type": "stream",
     "text": [
      "Missing entries from 2020-08-04 05:08:04+00:00 to 2020-11-18 20:08:04+00:00 (Duration: 106.66666666666667 days)\n"
     ]
    }
   ],
   "source": [
    "start_date = df['connectionTime'].min()\n",
    "end_date = df['disconnectTime'].max()\n",
    "datetime_range = pd.date_range(start=start_date, end=end_date, freq='H')\n",
    "\n",
    "missing_periods = []\n",
    "current_period = []\n",
    "\n",
    "for datetime in datetime_range:\n",
    "    no_entries_for_datetime = df[(df['connectionTime'] <= datetime) & (df['disconnectTime'] >= datetime)].empty\n",
    "\n",
    "    if no_entries_for_datetime:\n",
    "        if not current_period or datetime == current_period[-1] + pd.Timedelta(hours=1):\n",
    "            current_period.append(datetime)\n",
    "        else:\n",
    "            if len(current_period) > 7*24:\n",
    "                missing_periods.append(current_period)\n",
    "            current_period = [datetime]\n",
    "    else:\n",
    "        if current_period and len(current_period) > 7*24:\n",
    "            missing_periods.append(current_period)\n",
    "        current_period = []\n",
    "\n",
    "if current_period and len(current_period) > 7*24:\n",
    "    missing_periods.append(current_period)\n",
    "\n",
    "for period in missing_periods:\n",
    "    print(f\"Missing entries from {period[0]} to {period[-1]} (Duration: {len(period)/24} days)\")"
   ]
  },
  {
   "cell_type": "code",
   "outputs": [
    {
     "data": {
      "text/plain": "                         id            connectionTime  \\\n0  5bc90cb9f9af8b0d7fe77cd2 2018-04-25 11:08:04+00:00   \n1  5bc90cb9f9af8b0d7fe77cd3 2018-04-25 13:45:10+00:00   \n2  5bc90cb9f9af8b0d7fe77cd4 2018-04-25 13:45:50+00:00   \n3  5bc90cb9f9af8b0d7fe77cd5 2018-04-25 14:37:06+00:00   \n4  5bc90cb9f9af8b0d7fe77cd6 2018-04-25 14:40:34+00:00   \n\n             disconnectTime          doneChargingTime  kWhDelivered siteID  \\\n0 2018-04-25 13:20:10+00:00 2018-04-25 13:21:10+00:00         7.932      2   \n1 2018-04-26 00:56:16+00:00 2018-04-25 16:44:15+00:00        10.013      2   \n2 2018-04-25 23:04:45+00:00 2018-04-25 14:51:44+00:00         5.257      2   \n3 2018-04-25 23:55:34+00:00 2018-04-25 16:05:22+00:00         5.177      2   \n4 2018-04-25 23:03:12+00:00 2018-04-25 17:40:30+00:00        10.119      2   \n\n  spaceID    stationID  userID    weekday  ...  month userRegistered  \\\n0  CA-496  2-39-78-362     NaN  Wednesday  ...      4          False   \n1  CA-319   2-39-95-27     NaN  Wednesday  ...      4          False   \n2  CA-489  2-39-79-380     NaN  Wednesday  ...      4          False   \n3  CA-327  2-39-79-379     NaN  Wednesday  ...      4          False   \n4  CA-490  2-39-79-381     NaN  Wednesday  ...      4          False   \n\n   user_paymentRequired_values  user_requestedDeparture user_modifiedAt  \\\n0                         None                     None            None   \n1                         None                     None            None   \n2                         None                     None            None   \n3                         None                     None            None   \n4                         None                     None            None   \n\n   user_minutesAvailable  user_milesRequested  user_kWhRequested  \\\n0                    NaN                  NaN                NaN   \n1                    NaN                  NaN                NaN   \n2                    NaN                  NaN                NaN   \n3                    NaN                  NaN                NaN   \n4                    NaN                  NaN                NaN   \n\n   user_WhPerMile  user_kWhRequestFulfilment  \n0             NaN                        NaN  \n1             NaN                        NaN  \n2             NaN                        NaN  \n3             NaN                        NaN  \n4             NaN                        NaN  \n\n[5 rows x 28 columns]",
      "text/html": "<div>\n<style scoped>\n    .dataframe tbody tr th:only-of-type {\n        vertical-align: middle;\n    }\n\n    .dataframe tbody tr th {\n        vertical-align: top;\n    }\n\n    .dataframe thead th {\n        text-align: right;\n    }\n</style>\n<table border=\"1\" class=\"dataframe\">\n  <thead>\n    <tr style=\"text-align: right;\">\n      <th></th>\n      <th>id</th>\n      <th>connectionTime</th>\n      <th>disconnectTime</th>\n      <th>doneChargingTime</th>\n      <th>kWhDelivered</th>\n      <th>siteID</th>\n      <th>spaceID</th>\n      <th>stationID</th>\n      <th>userID</th>\n      <th>weekday</th>\n      <th>...</th>\n      <th>month</th>\n      <th>userRegistered</th>\n      <th>user_paymentRequired_values</th>\n      <th>user_requestedDeparture</th>\n      <th>user_modifiedAt</th>\n      <th>user_minutesAvailable</th>\n      <th>user_milesRequested</th>\n      <th>user_kWhRequested</th>\n      <th>user_WhPerMile</th>\n      <th>user_kWhRequestFulfilment</th>\n    </tr>\n  </thead>\n  <tbody>\n    <tr>\n      <th>0</th>\n      <td>5bc90cb9f9af8b0d7fe77cd2</td>\n      <td>2018-04-25 11:08:04+00:00</td>\n      <td>2018-04-25 13:20:10+00:00</td>\n      <td>2018-04-25 13:21:10+00:00</td>\n      <td>7.932</td>\n      <td>2</td>\n      <td>CA-496</td>\n      <td>2-39-78-362</td>\n      <td>NaN</td>\n      <td>Wednesday</td>\n      <td>...</td>\n      <td>4</td>\n      <td>False</td>\n      <td>None</td>\n      <td>None</td>\n      <td>None</td>\n      <td>NaN</td>\n      <td>NaN</td>\n      <td>NaN</td>\n      <td>NaN</td>\n      <td>NaN</td>\n    </tr>\n    <tr>\n      <th>1</th>\n      <td>5bc90cb9f9af8b0d7fe77cd3</td>\n      <td>2018-04-25 13:45:10+00:00</td>\n      <td>2018-04-26 00:56:16+00:00</td>\n      <td>2018-04-25 16:44:15+00:00</td>\n      <td>10.013</td>\n      <td>2</td>\n      <td>CA-319</td>\n      <td>2-39-95-27</td>\n      <td>NaN</td>\n      <td>Wednesday</td>\n      <td>...</td>\n      <td>4</td>\n      <td>False</td>\n      <td>None</td>\n      <td>None</td>\n      <td>None</td>\n      <td>NaN</td>\n      <td>NaN</td>\n      <td>NaN</td>\n      <td>NaN</td>\n      <td>NaN</td>\n    </tr>\n    <tr>\n      <th>2</th>\n      <td>5bc90cb9f9af8b0d7fe77cd4</td>\n      <td>2018-04-25 13:45:50+00:00</td>\n      <td>2018-04-25 23:04:45+00:00</td>\n      <td>2018-04-25 14:51:44+00:00</td>\n      <td>5.257</td>\n      <td>2</td>\n      <td>CA-489</td>\n      <td>2-39-79-380</td>\n      <td>NaN</td>\n      <td>Wednesday</td>\n      <td>...</td>\n      <td>4</td>\n      <td>False</td>\n      <td>None</td>\n      <td>None</td>\n      <td>None</td>\n      <td>NaN</td>\n      <td>NaN</td>\n      <td>NaN</td>\n      <td>NaN</td>\n      <td>NaN</td>\n    </tr>\n    <tr>\n      <th>3</th>\n      <td>5bc90cb9f9af8b0d7fe77cd5</td>\n      <td>2018-04-25 14:37:06+00:00</td>\n      <td>2018-04-25 23:55:34+00:00</td>\n      <td>2018-04-25 16:05:22+00:00</td>\n      <td>5.177</td>\n      <td>2</td>\n      <td>CA-327</td>\n      <td>2-39-79-379</td>\n      <td>NaN</td>\n      <td>Wednesday</td>\n      <td>...</td>\n      <td>4</td>\n      <td>False</td>\n      <td>None</td>\n      <td>None</td>\n      <td>None</td>\n      <td>NaN</td>\n      <td>NaN</td>\n      <td>NaN</td>\n      <td>NaN</td>\n      <td>NaN</td>\n    </tr>\n    <tr>\n      <th>4</th>\n      <td>5bc90cb9f9af8b0d7fe77cd6</td>\n      <td>2018-04-25 14:40:34+00:00</td>\n      <td>2018-04-25 23:03:12+00:00</td>\n      <td>2018-04-25 17:40:30+00:00</td>\n      <td>10.119</td>\n      <td>2</td>\n      <td>CA-490</td>\n      <td>2-39-79-381</td>\n      <td>NaN</td>\n      <td>Wednesday</td>\n      <td>...</td>\n      <td>4</td>\n      <td>False</td>\n      <td>None</td>\n      <td>None</td>\n      <td>None</td>\n      <td>NaN</td>\n      <td>NaN</td>\n      <td>NaN</td>\n      <td>NaN</td>\n      <td>NaN</td>\n    </tr>\n  </tbody>\n</table>\n<p>5 rows × 28 columns</p>\n</div>"
     },
     "metadata": {},
     "output_type": "display_data"
    },
    {
     "data": {
      "text/plain": "                            id            connectionTime  \\\n222   5bc915caf9af8b0dad3c0660 2018-04-30 15:07:49+00:00   \n581   5bc917d0f9af8b0dc677b8bb 2018-05-07 14:38:18+00:00   \n842   5bc9190ff9af8b0dc677b9c1 2018-05-11 15:17:01+00:00   \n955   5bc919c3f9af8b0dc677ba32 2018-05-14 13:50:26+00:00   \n1003  5bc919c3f9af8b0dc677ba62 2018-05-15 00:06:39+00:00   \n\n                disconnectTime          doneChargingTime  kWhDelivered siteID  \\\n222  2018-05-01 00:27:55+00:00 2018-05-01 00:27:51+00:00        47.808      2   \n581  2018-05-08 01:15:01+00:00 2018-05-08 01:14:53+00:00        27.683      2   \n842  2018-05-12 00:18:43+00:00 2018-05-11 23:05:56+00:00        17.485      2   \n955  2018-05-14 23:09:45+00:00 2018-05-14 20:43:40+00:00        11.795      2   \n1003 2018-05-15 01:13:58+00:00 2018-05-15 00:39:01+00:00         3.076      2   \n\n     spaceID    stationID  userID  weekday  ...  month userRegistered  \\\n222   CA-314   2-39-88-24    22.0   Monday  ...      4           True   \n581   CA-303  2-39-139-28    61.0   Monday  ...      5           True   \n842   CA-314   2-39-88-24    22.0   Friday  ...      5           True   \n955   CA-489  2-39-79-380    66.0   Monday  ...      5           True   \n1003  CA-303  2-39-139-28    61.0  Tuesday  ...      5           True   \n\n      user_paymentRequired_values        user_requestedDeparture  \\\n222                          True  Tue, 01 May 2018 00:17:49 GMT   \n581                          True  Mon, 07 May 2018 15:38:18 GMT   \n842                          True  Sat, 12 May 2018 00:23:01 GMT   \n955                          True  Mon, 14 May 2018 14:50:26 GMT   \n1003                         True  Tue, 15 May 2018 10:17:39 GMT   \n\n                    user_modifiedAt  user_minutesAvailable  \\\n222   Mon, 30 Apr 2018 15:08:54 GMT                  550.0   \n581   Mon, 07 May 2018 14:38:32 GMT                   60.0   \n842   Fri, 11 May 2018 15:18:23 GMT                  546.0   \n955   Mon, 14 May 2018 13:51:52 GMT                   60.0   \n1003  Tue, 15 May 2018 00:06:56 GMT                  611.0   \n\n      user_milesRequested  user_kWhRequested  user_WhPerMile  \\\n222                 170.0               59.5           350.0   \n581                  20.0                8.0           400.0   \n842                  50.0               17.5           350.0   \n955                  20.0                8.0           400.0   \n1003                 20.0                5.0           250.0   \n\n      user_kWhRequestFulfilment  \n222                     -11.692  \n581                      19.683  \n842                      -0.015  \n955                       3.795  \n1003                     -1.924  \n\n[5 rows x 28 columns]",
      "text/html": "<div>\n<style scoped>\n    .dataframe tbody tr th:only-of-type {\n        vertical-align: middle;\n    }\n\n    .dataframe tbody tr th {\n        vertical-align: top;\n    }\n\n    .dataframe thead th {\n        text-align: right;\n    }\n</style>\n<table border=\"1\" class=\"dataframe\">\n  <thead>\n    <tr style=\"text-align: right;\">\n      <th></th>\n      <th>id</th>\n      <th>connectionTime</th>\n      <th>disconnectTime</th>\n      <th>doneChargingTime</th>\n      <th>kWhDelivered</th>\n      <th>siteID</th>\n      <th>spaceID</th>\n      <th>stationID</th>\n      <th>userID</th>\n      <th>weekday</th>\n      <th>...</th>\n      <th>month</th>\n      <th>userRegistered</th>\n      <th>user_paymentRequired_values</th>\n      <th>user_requestedDeparture</th>\n      <th>user_modifiedAt</th>\n      <th>user_minutesAvailable</th>\n      <th>user_milesRequested</th>\n      <th>user_kWhRequested</th>\n      <th>user_WhPerMile</th>\n      <th>user_kWhRequestFulfilment</th>\n    </tr>\n  </thead>\n  <tbody>\n    <tr>\n      <th>222</th>\n      <td>5bc915caf9af8b0dad3c0660</td>\n      <td>2018-04-30 15:07:49+00:00</td>\n      <td>2018-05-01 00:27:55+00:00</td>\n      <td>2018-05-01 00:27:51+00:00</td>\n      <td>47.808</td>\n      <td>2</td>\n      <td>CA-314</td>\n      <td>2-39-88-24</td>\n      <td>22.0</td>\n      <td>Monday</td>\n      <td>...</td>\n      <td>4</td>\n      <td>True</td>\n      <td>True</td>\n      <td>Tue, 01 May 2018 00:17:49 GMT</td>\n      <td>Mon, 30 Apr 2018 15:08:54 GMT</td>\n      <td>550.0</td>\n      <td>170.0</td>\n      <td>59.5</td>\n      <td>350.0</td>\n      <td>-11.692</td>\n    </tr>\n    <tr>\n      <th>581</th>\n      <td>5bc917d0f9af8b0dc677b8bb</td>\n      <td>2018-05-07 14:38:18+00:00</td>\n      <td>2018-05-08 01:15:01+00:00</td>\n      <td>2018-05-08 01:14:53+00:00</td>\n      <td>27.683</td>\n      <td>2</td>\n      <td>CA-303</td>\n      <td>2-39-139-28</td>\n      <td>61.0</td>\n      <td>Monday</td>\n      <td>...</td>\n      <td>5</td>\n      <td>True</td>\n      <td>True</td>\n      <td>Mon, 07 May 2018 15:38:18 GMT</td>\n      <td>Mon, 07 May 2018 14:38:32 GMT</td>\n      <td>60.0</td>\n      <td>20.0</td>\n      <td>8.0</td>\n      <td>400.0</td>\n      <td>19.683</td>\n    </tr>\n    <tr>\n      <th>842</th>\n      <td>5bc9190ff9af8b0dc677b9c1</td>\n      <td>2018-05-11 15:17:01+00:00</td>\n      <td>2018-05-12 00:18:43+00:00</td>\n      <td>2018-05-11 23:05:56+00:00</td>\n      <td>17.485</td>\n      <td>2</td>\n      <td>CA-314</td>\n      <td>2-39-88-24</td>\n      <td>22.0</td>\n      <td>Friday</td>\n      <td>...</td>\n      <td>5</td>\n      <td>True</td>\n      <td>True</td>\n      <td>Sat, 12 May 2018 00:23:01 GMT</td>\n      <td>Fri, 11 May 2018 15:18:23 GMT</td>\n      <td>546.0</td>\n      <td>50.0</td>\n      <td>17.5</td>\n      <td>350.0</td>\n      <td>-0.015</td>\n    </tr>\n    <tr>\n      <th>955</th>\n      <td>5bc919c3f9af8b0dc677ba32</td>\n      <td>2018-05-14 13:50:26+00:00</td>\n      <td>2018-05-14 23:09:45+00:00</td>\n      <td>2018-05-14 20:43:40+00:00</td>\n      <td>11.795</td>\n      <td>2</td>\n      <td>CA-489</td>\n      <td>2-39-79-380</td>\n      <td>66.0</td>\n      <td>Monday</td>\n      <td>...</td>\n      <td>5</td>\n      <td>True</td>\n      <td>True</td>\n      <td>Mon, 14 May 2018 14:50:26 GMT</td>\n      <td>Mon, 14 May 2018 13:51:52 GMT</td>\n      <td>60.0</td>\n      <td>20.0</td>\n      <td>8.0</td>\n      <td>400.0</td>\n      <td>3.795</td>\n    </tr>\n    <tr>\n      <th>1003</th>\n      <td>5bc919c3f9af8b0dc677ba62</td>\n      <td>2018-05-15 00:06:39+00:00</td>\n      <td>2018-05-15 01:13:58+00:00</td>\n      <td>2018-05-15 00:39:01+00:00</td>\n      <td>3.076</td>\n      <td>2</td>\n      <td>CA-303</td>\n      <td>2-39-139-28</td>\n      <td>61.0</td>\n      <td>Tuesday</td>\n      <td>...</td>\n      <td>5</td>\n      <td>True</td>\n      <td>True</td>\n      <td>Tue, 15 May 2018 10:17:39 GMT</td>\n      <td>Tue, 15 May 2018 00:06:56 GMT</td>\n      <td>611.0</td>\n      <td>20.0</td>\n      <td>5.0</td>\n      <td>250.0</td>\n      <td>-1.924</td>\n    </tr>\n  </tbody>\n</table>\n<p>5 rows × 28 columns</p>\n</div>"
     },
     "metadata": {},
     "output_type": "display_data"
    },
    {
     "data": {
      "text/plain": "id                                          object\nconnectionTime                 datetime64[ns, UTC]\ndisconnectTime                 datetime64[ns, UTC]\ndoneChargingTime               datetime64[ns, UTC]\nkWhDelivered                               float64\nsiteID                                      object\nspaceID                                     object\nstationID                                   object\nuserID                                     float64\nweekday                                     object\nfullyCharged                                  bool\nNoChargingTime                     timedelta64[ns]\nNoChargingTimeMinutes                      float64\nNoChargingTimeHours                        float64\nChargingTime                       timedelta64[ns]\nChargingTimeMinutes                        float64\nChargingTimeHours                          float64\nkWhPerMinute                               float64\nmonth                                        int32\nuserRegistered                                bool\nuser_paymentRequired_values                 object\nuser_requestedDeparture                     object\nuser_modifiedAt                             object\nuser_minutesAvailable                      float64\nuser_milesRequested                        float64\nuser_kWhRequested                          float64\nuser_WhPerMile                             float64\nuser_kWhRequestFulfilment                  float64\ndtype: object"
     },
     "metadata": {},
     "output_type": "display_data"
    }
   ],
   "source": [
    "# Display first 5 rows of the dataset\n",
    "display(df.head())\n",
    "\n",
    "# Display 5 rows of dataset where the user is registered\n",
    "display(df[df['userRegistered'] == True].head())\n",
    "\n",
    "# Display data types of the columns\n",
    "display(df.dtypes)"
   ],
   "metadata": {
    "collapsed": false,
    "ExecuteTime": {
     "end_time": "2024-02-07T08:58:11.486471008Z",
     "start_time": "2024-02-07T08:58:11.484595495Z"
    }
   },
   "execution_count": 100
  },
  {
   "cell_type": "markdown",
   "source": [
    "### Clean-up datatypes"
   ],
   "metadata": {
    "collapsed": false
   }
  },
  {
   "cell_type": "code",
   "outputs": [
    {
     "data": {
      "text/plain": "id                                          object\nconnectionTime                 datetime64[ns, UTC]\ndisconnectTime                 datetime64[ns, UTC]\ndoneChargingTime               datetime64[ns, UTC]\nkWhDelivered                               float64\nsiteID                                       int32\nspaceID                                   category\nstationID                                 category\nuserID                                     float64\nweekday                                     object\nfullyCharged                                  bool\nNoChargingTime                     timedelta64[ns]\nNoChargingTimeMinutes                      float64\nNoChargingTimeHours                        float64\nChargingTime                       timedelta64[ns]\nChargingTimeMinutes                        float64\nChargingTimeHours                          float64\nkWhPerMinute                               float64\nmonth                                        int32\nuserRegistered                                bool\nuser_paymentRequired_values                   bool\nuser_requestedDeparture                     object\nuser_modifiedAt                             object\nuser_minutesAvailable                      float64\nuser_milesRequested                        float64\nuser_kWhRequested                          float64\nuser_WhPerMile                             float64\nuser_kWhRequestFulfilment                  float64\ndtype: object"
     },
     "metadata": {},
     "output_type": "display_data"
    }
   ],
   "source": [
    "df = df.astype(\n",
    "    {\n",
    "        'siteID': 'int32',\n",
    "        'spaceID': 'category',\n",
    "        'stationID': 'category',\n",
    "        'user_paymentRequired_values': 'bool',\n",
    "        'user_minutesAvailable': 'float64',\n",
    "        'user_milesRequested': 'float64',\n",
    "        'user_kWhRequested': 'float64',\n",
    "        'user_WhPerMile': 'float64'\n",
    "    }\n",
    "\n",
    ")\n",
    "\n",
    "# Display data types of the columns\n",
    "display(df.dtypes)"
   ],
   "metadata": {
    "collapsed": false,
    "ExecuteTime": {
     "end_time": "2024-02-07T08:58:11.486821113Z",
     "start_time": "2024-02-07T08:58:11.484891047Z"
    }
   },
   "execution_count": 101
  },
  {
   "cell_type": "code",
   "outputs": [
    {
     "data": {
      "text/plain": "             connectionTime            disconnectTime  \\\n0 2018-04-25 11:08:04+00:00 2018-04-25 13:20:10+00:00   \n1 2018-04-25 13:45:10+00:00 2018-04-26 00:56:16+00:00   \n2 2018-04-25 13:45:50+00:00 2018-04-25 23:04:45+00:00   \n3 2018-04-25 14:37:06+00:00 2018-04-25 23:55:34+00:00   \n4 2018-04-25 14:40:34+00:00 2018-04-25 23:03:12+00:00   \n\n           doneChargingTime  kWhDelivered  siteID spaceID    stationID  \\\n0 2018-04-25 13:21:10+00:00         7.932       2  CA-496  2-39-78-362   \n1 2018-04-25 16:44:15+00:00        10.013       2  CA-319   2-39-95-27   \n2 2018-04-25 14:51:44+00:00         5.257       2  CA-489  2-39-79-380   \n3 2018-04-25 16:05:22+00:00         5.177       2  CA-327  2-39-79-379   \n4 2018-04-25 17:40:30+00:00        10.119       2  CA-490  2-39-79-381   \n\n   userID    weekday  fullyCharged  ... kWhPerMinute  month  userRegistered  \\\n0     NaN  Wednesday          True  ...     0.059594      4           False   \n1     NaN  Wednesday          True  ...     0.055913      4           False   \n2     NaN  Wednesday          True  ...     0.079772      4           False   \n3     NaN  Wednesday          True  ...     0.058652      4           False   \n4     NaN  Wednesday          True  ...     0.056237      4           False   \n\n  user_paymentRequired_values  user_requestedDeparture  user_minutesAvailable  \\\n0                       False                     None                    NaN   \n1                       False                     None                    NaN   \n2                       False                     None                    NaN   \n3                       False                     None                    NaN   \n4                       False                     None                    NaN   \n\n   user_milesRequested  user_kWhRequested  user_WhPerMile  \\\n0                  NaN                NaN             NaN   \n1                  NaN                NaN             NaN   \n2                  NaN                NaN             NaN   \n3                  NaN                NaN             NaN   \n4                  NaN                NaN             NaN   \n\n   user_kWhRequestFulfilment  \n0                        NaN  \n1                        NaN  \n2                        NaN  \n3                        NaN  \n4                        NaN  \n\n[5 rows x 26 columns]",
      "text/html": "<div>\n<style scoped>\n    .dataframe tbody tr th:only-of-type {\n        vertical-align: middle;\n    }\n\n    .dataframe tbody tr th {\n        vertical-align: top;\n    }\n\n    .dataframe thead th {\n        text-align: right;\n    }\n</style>\n<table border=\"1\" class=\"dataframe\">\n  <thead>\n    <tr style=\"text-align: right;\">\n      <th></th>\n      <th>connectionTime</th>\n      <th>disconnectTime</th>\n      <th>doneChargingTime</th>\n      <th>kWhDelivered</th>\n      <th>siteID</th>\n      <th>spaceID</th>\n      <th>stationID</th>\n      <th>userID</th>\n      <th>weekday</th>\n      <th>fullyCharged</th>\n      <th>...</th>\n      <th>kWhPerMinute</th>\n      <th>month</th>\n      <th>userRegistered</th>\n      <th>user_paymentRequired_values</th>\n      <th>user_requestedDeparture</th>\n      <th>user_minutesAvailable</th>\n      <th>user_milesRequested</th>\n      <th>user_kWhRequested</th>\n      <th>user_WhPerMile</th>\n      <th>user_kWhRequestFulfilment</th>\n    </tr>\n  </thead>\n  <tbody>\n    <tr>\n      <th>0</th>\n      <td>2018-04-25 11:08:04+00:00</td>\n      <td>2018-04-25 13:20:10+00:00</td>\n      <td>2018-04-25 13:21:10+00:00</td>\n      <td>7.932</td>\n      <td>2</td>\n      <td>CA-496</td>\n      <td>2-39-78-362</td>\n      <td>NaN</td>\n      <td>Wednesday</td>\n      <td>True</td>\n      <td>...</td>\n      <td>0.059594</td>\n      <td>4</td>\n      <td>False</td>\n      <td>False</td>\n      <td>None</td>\n      <td>NaN</td>\n      <td>NaN</td>\n      <td>NaN</td>\n      <td>NaN</td>\n      <td>NaN</td>\n    </tr>\n    <tr>\n      <th>1</th>\n      <td>2018-04-25 13:45:10+00:00</td>\n      <td>2018-04-26 00:56:16+00:00</td>\n      <td>2018-04-25 16:44:15+00:00</td>\n      <td>10.013</td>\n      <td>2</td>\n      <td>CA-319</td>\n      <td>2-39-95-27</td>\n      <td>NaN</td>\n      <td>Wednesday</td>\n      <td>True</td>\n      <td>...</td>\n      <td>0.055913</td>\n      <td>4</td>\n      <td>False</td>\n      <td>False</td>\n      <td>None</td>\n      <td>NaN</td>\n      <td>NaN</td>\n      <td>NaN</td>\n      <td>NaN</td>\n      <td>NaN</td>\n    </tr>\n    <tr>\n      <th>2</th>\n      <td>2018-04-25 13:45:50+00:00</td>\n      <td>2018-04-25 23:04:45+00:00</td>\n      <td>2018-04-25 14:51:44+00:00</td>\n      <td>5.257</td>\n      <td>2</td>\n      <td>CA-489</td>\n      <td>2-39-79-380</td>\n      <td>NaN</td>\n      <td>Wednesday</td>\n      <td>True</td>\n      <td>...</td>\n      <td>0.079772</td>\n      <td>4</td>\n      <td>False</td>\n      <td>False</td>\n      <td>None</td>\n      <td>NaN</td>\n      <td>NaN</td>\n      <td>NaN</td>\n      <td>NaN</td>\n      <td>NaN</td>\n    </tr>\n    <tr>\n      <th>3</th>\n      <td>2018-04-25 14:37:06+00:00</td>\n      <td>2018-04-25 23:55:34+00:00</td>\n      <td>2018-04-25 16:05:22+00:00</td>\n      <td>5.177</td>\n      <td>2</td>\n      <td>CA-327</td>\n      <td>2-39-79-379</td>\n      <td>NaN</td>\n      <td>Wednesday</td>\n      <td>True</td>\n      <td>...</td>\n      <td>0.058652</td>\n      <td>4</td>\n      <td>False</td>\n      <td>False</td>\n      <td>None</td>\n      <td>NaN</td>\n      <td>NaN</td>\n      <td>NaN</td>\n      <td>NaN</td>\n      <td>NaN</td>\n    </tr>\n    <tr>\n      <th>4</th>\n      <td>2018-04-25 14:40:34+00:00</td>\n      <td>2018-04-25 23:03:12+00:00</td>\n      <td>2018-04-25 17:40:30+00:00</td>\n      <td>10.119</td>\n      <td>2</td>\n      <td>CA-490</td>\n      <td>2-39-79-381</td>\n      <td>NaN</td>\n      <td>Wednesday</td>\n      <td>True</td>\n      <td>...</td>\n      <td>0.056237</td>\n      <td>4</td>\n      <td>False</td>\n      <td>False</td>\n      <td>None</td>\n      <td>NaN</td>\n      <td>NaN</td>\n      <td>NaN</td>\n      <td>NaN</td>\n      <td>NaN</td>\n    </tr>\n  </tbody>\n</table>\n<p>5 rows × 26 columns</p>\n</div>"
     },
     "metadata": {},
     "output_type": "display_data"
    }
   ],
   "source": [
    "# Drop Columns that are not needed for the analysis\n",
    "df = df.drop(['id', 'user_modifiedAt'], axis=1)\n",
    "\n",
    "display(df.head())"
   ],
   "metadata": {
    "collapsed": false,
    "ExecuteTime": {
     "end_time": "2024-02-07T08:58:11.493569501Z",
     "start_time": "2024-02-07T08:58:11.484944268Z"
    }
   },
   "execution_count": 102
  },
  {
   "cell_type": "markdown",
   "source": [
    "### Save the modified dataset"
   ],
   "metadata": {
    "collapsed": false
   }
  },
  {
   "cell_type": "code",
   "execution_count": 103,
   "metadata": {
    "ExecuteTime": {
     "end_time": "2024-02-07T08:58:12.747542900Z",
     "start_time": "2024-02-07T08:58:11.493915248Z"
    }
   },
   "outputs": [],
   "source": [
    "# Save to pickle as we have already fixed the datatypes\n",
    "df.to_pickle('data/charging_modified.pkl')\n",
    "df.to_csv('data/charging_session_flattened_json.csv')"
   ]
  }
 ],
 "metadata": {
  "kernelspec": {
   "display_name": "Python 3 (ipykernel)",
   "language": "python",
   "name": "python3"
  },
  "language_info": {
   "codemirror_mode": {
    "name": "ipython",
    "version": 3
   },
   "file_extension": ".py",
   "mimetype": "text/x-python",
   "name": "python",
   "nbconvert_exporter": "python",
   "pygments_lexer": "ipython3",
   "version": "3.9.2rc1"
  }
 },
 "nbformat": 4,
 "nbformat_minor": 2
}
