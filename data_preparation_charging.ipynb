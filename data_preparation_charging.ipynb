{
 "cells": [
  {
   "cell_type": "code",
   "execution_count": 8,
   "metadata": {
    "ExecuteTime": {
     "end_time": "2023-11-22T20:42:18.534152900Z",
     "start_time": "2023-11-22T20:42:18.484932600Z"
    }
   },
   "outputs": [],
   "source": [
    "import pandas as pd\n",
    "import matplotlib.pyplot as plt\n",
    "import numpy as np\n",
    "import json"
   ]
  },
  {
   "cell_type": "code",
   "execution_count": 9,
   "metadata": {
    "ExecuteTime": {
     "end_time": "2023-11-22T20:42:19.140005800Z",
     "start_time": "2023-11-22T20:42:18.497615300Z"
    }
   },
   "outputs": [],
   "source": [
    "df = pd.read_csv(\"data/charging_sessions.csv\")"
   ]
  },
  {
   "cell_type": "code",
   "execution_count": 10,
   "metadata": {
    "ExecuteTime": {
     "end_time": "2023-11-22T20:42:20.406164300Z",
     "start_time": "2023-11-22T20:42:19.147977Z"
    }
   },
   "outputs": [],
   "source": [
    "# Set Datatypes\n",
    "df['connectionTime'] = pd.to_datetime(df['connectionTime'])\n",
    "df['disconnectTime'] = pd.to_datetime(df['disconnectTime'])\n",
    "df['doneChargingTime'] = pd.to_datetime(df['doneChargingTime'])\n",
    "\n",
    "df['sessionID'] = df['sessionID'].astype(str)\n",
    "df['siteID'] = df['siteID'].astype(str)\n",
    "df['spaceID'] = df['spaceID'].astype(str)\n",
    "df['stationID'] = df['stationID'].astype(str)\n",
    "#df['userID'] = df['userID'].astype(str) # For site characteristics: better use if datatype is float64"
   ]
  },
  {
   "cell_type": "code",
   "execution_count": 11,
   "metadata": {
    "ExecuteTime": {
     "end_time": "2023-11-22T20:42:20.483091100Z",
     "start_time": "2023-11-22T20:42:20.408163Z"
    }
   },
   "outputs": [],
   "source": [
    "# Rename first column, contains an index\n",
    "#df = df.rename(columns={df.columns[0]: 'Index'})\n",
    "#df = df.set_index('Index')"
   ]
  },
  {
   "cell_type": "code",
   "execution_count": 12,
   "metadata": {
    "ExecuteTime": {
     "end_time": "2023-11-22T20:42:20.507594500Z",
     "start_time": "2023-11-22T20:42:20.484093300Z"
    }
   },
   "outputs": [],
   "source": [
    "# Session ID is a composite value of stationID and connectionTime, and therefor redundant\n",
    "# Timezone contains only one value, and can therefor be considered meta-data\n",
    "# First column cannot be used as the index because of several mistakes (e.g. \"index\" 1 would occur 9 times)\n",
    "# First column makes no sense otherwise\n",
    "#df[df[df.columns[0]] != df.index] # Shows the differences between actual index and supposed index\n",
    "#df[df[df.columns[0]] == 1] # Shows, how \"index\" 1 occurs 9 times\n",
    "df = df.drop(['sessionID', 'timezone', df.columns[0]], axis=1)"
   ]
  },
  {
   "cell_type": "code",
   "execution_count": 13,
   "metadata": {
    "ExecuteTime": {
     "end_time": "2023-11-22T20:42:20.533221900Z",
     "start_time": "2023-11-22T20:42:20.513597800Z"
    }
   },
   "outputs": [],
   "source": [
    "df['NoChargingTime'] = df['disconnectTime'] - df['doneChargingTime']\n",
    "df['NoChargingTimeMinutes'] = (df['NoChargingTime']).dt.total_seconds() / 60.0  # Convert seconds to minutes\n",
    "df['NoChargingTimeHours'] = ((df['NoChargingTime']).dt.total_seconds() / 60.0) / 60.0  # Convert minutes to hours\n",
    "\n",
    "df['ChargingTime'] = df['doneChargingTime'] - df['connectionTime']\n",
    "df['ChargingTimeMinutes'] = (df['ChargingTime']).dt.total_seconds() / 60.0  # Convert seconds to minutes\n",
    "df['ChargingTimeHours'] = ((df['ChargingTime']).dt.total_seconds() / 60.0) / 60.0  # Convert minutes to hours\n",
    "\n",
    "df['kWhPerMinute'] = df['kWhDelivered'] / df['ChargingTimeMinutes']\n",
    "\n",
    "# Create a new column 'month' to store the month information\n",
    "df['month'] = df['connectionTime'].dt.month\n",
    "\n",
    "# Create a new column 'userRegistered' to state if user is registered or not (needed for site characteristics section)\n",
    "df['userRegistered'] = np.where(df['userID'].isnull(), 'unregistered', 'registered')"
   ]
  },
  {
   "cell_type": "markdown",
   "metadata": {},
   "source": [
    "### Flatten the Json-Object UserInput"
   ]
  },
  {
   "cell_type": "code",
   "execution_count": 14,
   "metadata": {
    "ExecuteTime": {
     "end_time": "2023-11-22T20:42:20.543359700Z",
     "start_time": "2023-11-22T20:42:20.535216900Z"
    }
   },
   "outputs": [],
   "source": [
    "# df_charging['userInputs'] = df_charging['userInputs'].str.replace(\"'\", '\"')\n",
    "# df_charging['userInputs'] = df_charging['userInputs'].str.replace('\"[', \"'[\")\n",
    "# df_charging['userInputs'] = df_charging['userInputs'].str.replace(']\"', \"]'\")\n",
    "# df_charging['userInputs'] = df_charging['userInputs'].str.replace(\"True\", \"true\")\n",
    "# df_charging['userInputs'] = df_charging['userInputs'].str.replace(\"False\", \"false\")\n",
    "\n",
    "# Mapping: Value to be replaced: replacing value\n",
    "#replacements = {\n",
    "#    \"'\": '\"', \n",
    "#    '\"[': \"'[\",\n",
    "#    ']\"': \"]'\",\n",
    "#    \"True\": \"true\",\n",
    "#    \"False\": \"false\"\n",
    "# }\n",
    "\n",
    "# shorthand to replace multiple values\n",
    "# for i, j in replacements.items():\n",
    "#    df_charging['userInputs'] = df_charging['userInputs'].str.replace(i, j)\n",
    "# Old Version\n",
    "# for i in range(len(df_charging['userInputs'])):\n",
    "#     if not pd.isna(df_charging['userInputs'].iloc[i]):\n",
    "#        df_charging.at[i, 'userInputs'] = json.loads(df_charging['userInputs'].iloc[i])\n",
    "\n",
    "# Refactored Version\n",
    "# df_charging['userInputs'] = df_charging['userInputs'].apply(lambda x: json.loads(x) if pd.notna(x) else x)"
   ]
  },
  {
   "cell_type": "code",
   "execution_count": 15,
   "metadata": {
    "ExecuteTime": {
     "end_time": "2023-11-22T20:42:21.326211100Z",
     "start_time": "2023-11-22T20:42:20.554351200Z"
    }
   },
   "outputs": [],
   "source": [
    "df['userInputs'] = df['userInputs'].str.replace(\"'\", '\"')\n",
    "df['userInputs'] = df['userInputs'].str.replace('\"[', \"'[\")\n",
    "df['userInputs'] = df['userInputs'].str.replace(']\"', \"]'\")\n",
    "df['userInputs'] = df['userInputs'].str.replace(\"True\", \"true\")\n",
    "df['userInputs'] = df['userInputs'].str.replace(\"False\", \"false\")\n",
    "\n",
    "# Old Version\n",
    "# for i in range(len(df['userInputs'])):\n",
    "#     if not pd.isna(df['userInputs'].iloc[i]):\n",
    "#        df.at[i, 'userInputs'] = json.loads(df['userInputs'].iloc[i])\n",
    "\n",
    "# Refactored Version\n",
    "df['userInputs'] = df['userInputs'].apply(lambda x: json.loads(x) if pd.notna(x) else x)\n",
    "# Extract 'paymentRequired' values and save them in a new column\n",
    "df['user_paymentRequired_values'] = df['userInputs'].apply(lambda x: x[0]['paymentRequired'] if isinstance(x, list) and len(x) > 0 else None)\n",
    "df['user_userID'] = df['userInputs'].apply(lambda x: x[0]['userID'] if isinstance(x, list) and len(x) > 0 else None)\n",
    "df['user_requestedDeparture'] = df['userInputs'].apply(lambda x: x[0]['requestedDeparture'] if isinstance(x, list) and len(x) > 0 else None)\n",
    "df['user_modifiedAt'] = df['userInputs'].apply(lambda x: x[0]['modifiedAt'] if isinstance(x, list) and len(x) > 0 else None)\n",
    "df['user_minutesAvailable'] = df['userInputs'].apply(lambda x: x[0]['minutesAvailable'] if isinstance(x, list) and len(x) > 0 else None)\n",
    "df['user_milesRequested'] = df['userInputs'].apply(lambda x: x[0]['milesRequested'] if isinstance(x, list) and len(x) > 0 else None)\n",
    "df['user_kWhRequested'] = df['userInputs'].apply(lambda x: x[0]['kWhRequested'] if isinstance(x, list) and len(x) > 0 else None)\n",
    "df['user_WhPerMile'] = df['userInputs'].apply(lambda x: x[0]['WhPerMile'] if isinstance(x, list) and len(x) > 0 else None)\n",
    "\n",
    "# Drop the 'userInputs' column\n",
    "df.drop(columns=['userInputs'], inplace=True)\n",
    "\n",
    "# Check if user_userID and userID are the same (result: they are)\n",
    "#df['user_userID'] = df['user_userID'].astype(str)\n",
    "#df[df['userID'] != df['user_userID']]\n",
    "\n",
    "# Drop the \"user_userID\" column, as it has the same values as the column \"userID\", therefore redundant\n",
    "df = df.drop(['user_userID'], axis=1)"
   ]
  },
  {
   "cell_type": "code",
   "execution_count": 16,
   "metadata": {
    "ExecuteTime": {
     "end_time": "2023-11-22T20:42:21.442455300Z",
     "start_time": "2023-11-22T20:42:21.327214Z"
    }
   },
   "outputs": [],
   "source": [
    "# Add a column 'user_kWhRequestFulfilment', which shows the difference between kWh request and delivery\n",
    "df['user_kWhRequestFulfilment'] = df['kWhDelivered'] - df['user_kWhRequested']"
   ]
  },
  {
   "cell_type": "code",
   "execution_count": 17,
   "metadata": {},
   "outputs": [],
   "source": [
    "# Problem detected in KPI section: connectionTime sometimes later than doneChargingTime -> negative values not possible\n",
    "# Drop rows, where charging time (in hours) has negative values\n",
    "df = df.drop(df[df['ChargingTimeHours'] < 0].index)\n",
    "\n",
    "# Problem detected in KPI section: doneChargingTime sometimes later than disconnectTime -> negative values not possible\n",
    "# Drop rows, where no charging time (in hours) has negative values\n",
    "df = df.drop(df[df['NoChargingTimeHours'] < 0].index)"
   ]
  },
  {
   "cell_type": "code",
   "execution_count": 19,
   "metadata": {},
   "outputs": [],
   "source": [
    "# Sorts the values by connection time and updates the index\n",
    "df = df.sort_values('connectionTime')\n",
    "df = df.reset_index(drop=True)"
   ]
  },
  {
   "cell_type": "code",
   "execution_count": 20,
   "metadata": {},
   "outputs": [],
   "source": [
    "df.to_pickle('data/charging_modified.pkl')"
   ]
  }
 ],
 "metadata": {
  "kernelspec": {
   "display_name": "Python 3 (ipykernel)",
   "language": "python",
   "name": "python3"
  },
  "language_info": {
   "codemirror_mode": {
    "name": "ipython",
    "version": 3
   },
   "file_extension": ".py",
   "mimetype": "text/x-python",
   "name": "python",
   "nbconvert_exporter": "python",
   "pygments_lexer": "ipython3",
   "version": "3.11.5"
  }
 },
 "nbformat": 4,
 "nbformat_minor": 2
}
