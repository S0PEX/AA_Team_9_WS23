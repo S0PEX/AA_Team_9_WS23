{
 "cells": [
  {
   "cell_type": "code",
   "execution_count": 37,
   "metadata": {
    "ExecuteTime": {
     "end_time": "2023-11-22T20:03:23.329818100Z",
     "start_time": "2023-11-22T20:03:23.287416100Z"
    }
   },
   "outputs": [],
   "source": [
    "import pandas as pd\n",
    "import matplotlib.pyplot as plt\n",
    "import json"
   ]
  },
  {
   "cell_type": "code",
   "execution_count": 38,
   "metadata": {
    "ExecuteTime": {
     "end_time": "2023-11-22T20:03:23.954261700Z",
     "start_time": "2023-11-22T20:03:23.297259100Z"
    }
   },
   "outputs": [],
   "source": [
    "df = pd.read_csv(\"data/charging_sessions.csv\")"
   ]
  },
  {
   "cell_type": "code",
   "execution_count": 39,
   "metadata": {
    "ExecuteTime": {
     "end_time": "2023-11-22T20:03:26.190176200Z",
     "start_time": "2023-11-22T20:03:23.959257100Z"
    }
   },
   "outputs": [],
   "source": [
    "# Set Datatypes\n",
    "df['connectionTime'] = pd.to_datetime(df['connectionTime'])\n",
    "df['disconnectTime'] = pd.to_datetime(df['disconnectTime'])\n",
    "df['doneChargingTime'] = pd.to_datetime(df['doneChargingTime'])\n",
    "\n",
    "df['sessionID'] = df['sessionID'].astype(str)\n",
    "df['siteID'] = df['siteID'].astype(str)\n",
    "df['spaceID'] = df['spaceID'].astype(str)\n",
    "df['stationID'] = df['stationID'].astype(str)\n",
    "df['userID'] = df['userID'].astype(str)"
   ]
  },
  {
   "cell_type": "code",
   "execution_count": 40,
   "metadata": {
    "ExecuteTime": {
     "end_time": "2023-11-22T20:03:26.190176200Z",
     "start_time": "2023-11-22T20:03:26.177019300Z"
    }
   },
   "outputs": [],
   "source": [
    "# Rename first column, contains an index\n",
    "df = df.rename(columns={df.columns[0]: 'Index'})\n",
    "df = df.set_index('Index')"
   ]
  },
  {
   "cell_type": "code",
   "execution_count": 41,
   "metadata": {
    "ExecuteTime": {
     "end_time": "2023-11-22T20:03:26.191177100Z",
     "start_time": "2023-11-22T20:03:26.178020500Z"
    }
   },
   "outputs": [],
   "source": [
    "# Session ID is a composite value of stationID and connectionTime, and therefor redundant\n",
    "# Timezone contains only one value, and can therefor be considered meta-data\n",
    "df = df.drop(['sessionID', 'timezone'], axis=1)"
   ]
  },
  {
   "cell_type": "code",
   "execution_count": 42,
   "metadata": {
    "ExecuteTime": {
     "end_time": "2023-11-22T20:03:26.191177100Z",
     "start_time": "2023-11-22T20:03:26.178020500Z"
    }
   },
   "outputs": [],
   "source": [
    "df['NoChargingTime'] = df['disconnectTime'] - df['doneChargingTime']\n",
    "df['NoChargingTimeMinutes'] = (df['NoChargingTime']).dt.total_seconds() / 60.0  # Convert seconds to minutes\n",
    "\n",
    "df['ChargingTime'] = df['doneChargingTime'] - df['connectionTime']\n",
    "df['ChargingTimeMinutes'] = (df['ChargingTime']).dt.total_seconds() / 60.0  # Convert seconds to minutes\n",
    "\n",
    "df['kWhPerMinute'] = df['kWhDelivered'] / df['ChargingTimeMinutes']\n",
    "\n",
    "# Create a new column 'month' to store the month information\n",
    "df['month'] = df['connectionTime'].dt.month"
   ]
  },
  {
   "cell_type": "markdown",
   "source": [
    "### Flatten the Json-Object UserInput"
   ],
   "metadata": {
    "collapsed": false
   }
  },
  {
   "cell_type": "code",
   "execution_count": 43,
   "outputs": [],
   "source": [
    "# df_charging['userInputs'] = df_charging['userInputs'].str.replace(\"'\", '\"')\n",
    "# df_charging['userInputs'] = df_charging['userInputs'].str.replace('\"[', \"'[\")\n",
    "# df_charging['userInputs'] = df_charging['userInputs'].str.replace(']\"', \"]'\")\n",
    "# df_charging['userInputs'] = df_charging['userInputs'].str.replace(\"True\", \"true\")\n",
    "# df_charging['userInputs'] = df_charging['userInputs'].str.replace(\"False\", \"false\")\n",
    "\n",
    "# Mapping: Value to be replaced: replacing value\n",
    "#replacements = {\n",
    "#    \"'\": '\"', \n",
    "#    '\"[': \"'[\",\n",
    "#    ']\"': \"]'\",\n",
    "#    \"True\": \"true\",\n",
    "#    \"False\": \"false\"\n",
    "# }\n",
    "\n",
    "# shorthand to replace multiple values\n",
    "# for i, j in replacements.items():\n",
    "#    df_charging['userInputs'] = df_charging['userInputs'].str.replace(i, j)\n",
    "# Old Version\n",
    "# for i in range(len(df_charging['userInputs'])):\n",
    "#     if not pd.isna(df_charging['userInputs'].iloc[i]):\n",
    "#        df_charging.at[i, 'userInputs'] = json.loads(df_charging['userInputs'].iloc[i])\n",
    "\n",
    "# Refactored Version\n",
    "# df_charging['userInputs'] = df_charging['userInputs'].apply(lambda x: json.loads(x) if pd.notna(x) else x)"
   ],
   "metadata": {
    "collapsed": false,
    "ExecuteTime": {
     "end_time": "2023-11-22T20:03:26.210187300Z",
     "start_time": "2023-11-22T20:03:26.183020600Z"
    }
   }
  },
  {
   "cell_type": "code",
   "execution_count": 44,
   "outputs": [
    {
     "name": "stdout",
     "output_type": "stream",
     "text": [
      "                             id            connectionTime  \\\n",
      "Index                                                       \n",
      "0      5e23b149f9af8b5fe4b973cf 2020-01-02 13:08:54+00:00   \n",
      "1      5e23b149f9af8b5fe4b973d0 2020-01-02 13:36:50+00:00   \n",
      "2      5e23b149f9af8b5fe4b973d1 2020-01-02 13:56:35+00:00   \n",
      "3      5e23b149f9af8b5fe4b973d2 2020-01-02 13:59:58+00:00   \n",
      "4      5e23b149f9af8b5fe4b973d3 2020-01-02 14:00:01+00:00   \n",
      "...                         ...                       ...   \n",
      "10083  5d574ad2f9af8b4c10c03652 2019-07-31 18:08:04+00:00   \n",
      "10084  5d574ad2f9af8b4c10c03653 2019-07-31 18:40:41+00:00   \n",
      "10085  5d574ad2f9af8b4c10c03654 2019-07-31 19:04:40+00:00   \n",
      "10086  5d574ad2f9af8b4c10c03655 2019-07-31 19:19:47+00:00   \n",
      "10087  5d574ad2f9af8b4c10c03656 2019-07-31 19:21:47+00:00   \n",
      "\n",
      "                 disconnectTime          doneChargingTime  kWhDelivered  \\\n",
      "Index                                                                     \n",
      "0     2020-01-02 19:11:15+00:00 2020-01-02 17:31:35+00:00        25.016   \n",
      "1     2020-01-02 22:38:21+00:00 2020-01-02 20:18:05+00:00        33.097   \n",
      "2     2020-01-03 00:39:22+00:00 2020-01-02 16:35:06+00:00         6.521   \n",
      "3     2020-01-02 16:38:39+00:00 2020-01-02 15:18:45+00:00         2.355   \n",
      "4     2020-01-02 22:08:40+00:00 2020-01-02 18:17:30+00:00        13.375   \n",
      "...                         ...                       ...           ...   \n",
      "10083 2019-07-31 23:29:18+00:00 2019-07-31 23:30:18+00:00        28.787   \n",
      "10084 2019-08-01 00:59:42+00:00 2019-07-31 21:44:23+00:00         7.787   \n",
      "10085 2019-07-31 22:44:22+00:00 2019-07-31 22:45:21+00:00        11.274   \n",
      "10086 2019-08-01 00:34:51+00:00 2019-07-31 21:25:30+00:00        11.589   \n",
      "10087 2019-07-31 22:00:04+00:00 2019-07-31 20:51:34+00:00         0.897   \n",
      "\n",
      "      siteID  spaceID    stationID  userID  \\\n",
      "Index                                        \n",
      "0          1  AG-3F30  1-1-179-810   194.0   \n",
      "1          1  AG-1F01  1-1-193-825  4275.0   \n",
      "2          1  AG-1F03  1-1-193-829   344.0   \n",
      "3          1  AG-1F04  1-1-193-820  1117.0   \n",
      "4          1  AG-1F06  1-1-193-819   334.0   \n",
      "...      ...      ...          ...     ...   \n",
      "10083      1  AG-3F27  1-1-179-809   393.0   \n",
      "10084      1  AG-3F30  1-1-179-810   220.0   \n",
      "10085      1  AG-4F51  1-1-191-795  1974.0   \n",
      "10086      1  AG-4F43  1-1-191-778   942.0   \n",
      "10087      1  AG-1F09  1-1-178-817     nan   \n",
      "\n",
      "                                              userInputs  ... kWhPerMinute  \\\n",
      "Index                                                     ...                \n",
      "0      [{'WhPerMile': 250, 'kWhRequested': 25.0, 'mil...  ...     0.095233   \n",
      "1      [{'WhPerMile': 280, 'kWhRequested': 70.0, 'mil...  ...     0.082485   \n",
      "2      [{'WhPerMile': 400, 'kWhRequested': 8.0, 'mile...  ...     0.041138   \n",
      "3      [{'WhPerMile': 400, 'kWhRequested': 8.0, 'mile...  ...     0.029892   \n",
      "4      [{'WhPerMile': 400, 'kWhRequested': 16.0, 'mil...  ...     0.051945   \n",
      "...                                                  ...  ...          ...   \n",
      "10083  [{'WhPerMile': 240, 'kWhRequested': 31.2, 'mil...  ...     0.089336   \n",
      "10084  [{'WhPerMile': 333, 'kWhRequested': 6.66, 'mil...  ...     0.042390   \n",
      "10085  [{'WhPerMile': 333, 'kWhRequested': 19.98, 'mi...  ...     0.051087   \n",
      "10086  [{'WhPerMile': 275, 'kWhRequested': 22.0, 'mil...  ...     0.092183   \n",
      "10087                                                NaN  ...     0.009991   \n",
      "\n",
      "       month user_paymentRequired_values  user_userID  \\\n",
      "Index                                                   \n",
      "0          1                        True        194.0   \n",
      "1          1                        True       4275.0   \n",
      "2          1                        True        344.0   \n",
      "3          1                        True       1117.0   \n",
      "4          1                        True        334.0   \n",
      "...      ...                         ...          ...   \n",
      "10083      7                        True        393.0   \n",
      "10084      7                        True        220.0   \n",
      "10085      7                        True       1974.0   \n",
      "10086      7                        True        942.0   \n",
      "10087      7                        None          NaN   \n",
      "\n",
      "             user_requestedDeparture                user_modifiedAt  \\\n",
      "Index                                                                 \n",
      "0      Thu, 02 Jan 2020 20:51:54 GMT  Thu, 02 Jan 2020 13:09:39 GMT   \n",
      "1      Thu, 02 Jan 2020 23:31:50 GMT  Thu, 02 Jan 2020 13:37:11 GMT   \n",
      "2      Thu, 02 Jan 2020 14:56:35 GMT  Thu, 02 Jan 2020 13:57:17 GMT   \n",
      "3      Thu, 02 Jan 2020 15:04:58 GMT  Thu, 02 Jan 2020 14:00:03 GMT   \n",
      "4      Thu, 02 Jan 2020 22:24:01 GMT  Thu, 02 Jan 2020 14:00:13 GMT   \n",
      "...                              ...                            ...   \n",
      "10083  Thu, 01 Aug 2019 00:03:04 GMT  Wed, 31 Jul 2019 18:08:23 GMT   \n",
      "10084  Thu, 01 Aug 2019 02:15:41 GMT  Wed, 31 Jul 2019 18:41:02 GMT   \n",
      "10085  Wed, 31 Jul 2019 22:08:40 GMT  Wed, 31 Jul 2019 19:04:57 GMT   \n",
      "10086  Wed, 31 Jul 2019 20:19:47 GMT  Wed, 31 Jul 2019 19:20:10 GMT   \n",
      "10087                           None                           None   \n",
      "\n",
      "      user_minutesAvailable  user_milesRequested user_kWhRequested  \\\n",
      "Index                                                                \n",
      "0                     463.0                100.0             25.00   \n",
      "1                     595.0                250.0             70.00   \n",
      "2                      60.0                 20.0              8.00   \n",
      "3                      65.0                 20.0              8.00   \n",
      "4                     504.0                 40.0             16.00   \n",
      "...                     ...                  ...               ...   \n",
      "10083                 355.0                130.0             31.20   \n",
      "10084                 455.0                 20.0              6.66   \n",
      "10085                 184.0                 60.0             19.98   \n",
      "10086                  60.0                 80.0             22.00   \n",
      "10087                   NaN                  NaN               NaN   \n",
      "\n",
      "      user_WhPerMile  \n",
      "Index                 \n",
      "0              250.0  \n",
      "1              280.0  \n",
      "2              400.0  \n",
      "3              400.0  \n",
      "4              400.0  \n",
      "...              ...  \n",
      "10083          240.0  \n",
      "10084          333.0  \n",
      "10085          333.0  \n",
      "10086          275.0  \n",
      "10087            NaN  \n",
      "\n",
      "[66450 rows x 24 columns]\n"
     ]
    }
   ],
   "source": [
    "df['userInputs'] = df['userInputs'].str.replace(\"'\", '\"')\n",
    "df['userInputs'] = df['userInputs'].str.replace('\"[', \"'[\")\n",
    "df['userInputs'] = df['userInputs'].str.replace(']\"', \"]'\")\n",
    "df['userInputs'] = df['userInputs'].str.replace(\"True\", \"true\")\n",
    "df['userInputs'] = df['userInputs'].str.replace(\"False\", \"false\")\n",
    "\n",
    "# Old Version\n",
    "# for i in range(len(df['userInputs'])):\n",
    "#     if not pd.isna(df['userInputs'].iloc[i]):\n",
    "#        df.at[i, 'userInputs'] = json.loads(df['userInputs'].iloc[i])\n",
    "\n",
    "# Refactored Version\n",
    "df['userInputs'] = df['userInputs'].apply(lambda x: json.loads(x) if pd.notna(x) else x)\n",
    "# Extract 'paymentRequired' values and save them in a new column\n",
    "df['user_paymentRequired_values'] = df['userInputs'].apply(lambda x: x[0]['paymentRequired'] if isinstance(x, list) and len(x) > 0 else None)\n",
    "df['user_userID'] = df['userInputs'].apply(lambda x: x[0]['userID'] if isinstance(x, list) and len(x) > 0 else None)\n",
    "df['user_requestedDeparture'] = df['userInputs'].apply(lambda x: x[0]['requestedDeparture'] if isinstance(x, list) and len(x) > 0 else None)\n",
    "df['user_modifiedAt'] = df['userInputs'].apply(lambda x: x[0]['modifiedAt'] if isinstance(x, list) and len(x) > 0 else None)\n",
    "df['user_minutesAvailable'] = df['userInputs'].apply(lambda x: x[0]['minutesAvailable'] if isinstance(x, list) and len(x) > 0 else None)\n",
    "df['user_milesRequested'] = df['userInputs'].apply(lambda x: x[0]['milesRequested'] if isinstance(x, list) and len(x) > 0 else None)\n",
    "df['user_kWhRequested'] = df['userInputs'].apply(lambda x: x[0]['kWhRequested'] if isinstance(x, list) and len(x) > 0 else None)\n",
    "df['user_WhPerMile'] = df['userInputs'].apply(lambda x: x[0]['WhPerMile'] if isinstance(x, list) and len(x) > 0 else None)\n",
    "\n",
    "# Display the DataFrame\n",
    "print(df)"
   ],
   "metadata": {
    "collapsed": false,
    "ExecuteTime": {
     "end_time": "2023-11-22T20:03:27.603686900Z",
     "start_time": "2023-11-22T20:03:26.211187600Z"
    }
   }
  },
  {
   "cell_type": "code",
   "execution_count": 45,
   "metadata": {
    "ExecuteTime": {
     "end_time": "2023-11-22T20:03:27.960013900Z",
     "start_time": "2023-11-22T20:03:27.604688700Z"
    }
   },
   "outputs": [],
   "source": [
    "df.to_pickle('data/charging_modified.pkl')"
   ]
  }
 ],
 "metadata": {
  "kernelspec": {
   "display_name": "base",
   "language": "python",
   "name": "python3"
  },
  "language_info": {
   "codemirror_mode": {
    "name": "ipython",
    "version": 3
   },
   "file_extension": ".py",
   "mimetype": "text/x-python",
   "name": "python",
   "nbconvert_exporter": "python",
   "pygments_lexer": "ipython3",
   "version": "3.11.5"
  }
 },
 "nbformat": 4,
 "nbformat_minor": 2
}
