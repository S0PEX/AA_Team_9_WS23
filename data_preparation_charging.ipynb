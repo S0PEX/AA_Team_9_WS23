{
 "cells": [
  {
   "cell_type": "code",
   "execution_count": 29,
   "metadata": {
    "ExecuteTime": {
     "end_time": "2024-02-06T16:26:43.588933130Z",
     "start_time": "2024-02-06T16:26:43.549842573Z"
    }
   },
   "outputs": [],
   "source": [
    "import pandas as pd\n",
    "import matplotlib.pyplot as plt\n",
    "import numpy as np\n",
    "import json"
   ]
  },
  {
   "cell_type": "code",
   "execution_count": 30,
   "metadata": {
    "ExecuteTime": {
     "end_time": "2024-02-06T16:26:43.907206707Z",
     "start_time": "2024-02-06T16:26:43.589069059Z"
    }
   },
   "outputs": [
    {
     "data": {
      "text/plain": "   Unnamed: 0                        id             connectionTime  \\\n0           0  5e23b149f9af8b5fe4b973cf  2020-01-02 13:08:54+00:00   \n1           1  5e23b149f9af8b5fe4b973d0  2020-01-02 13:36:50+00:00   \n2           2  5e23b149f9af8b5fe4b973d1  2020-01-02 13:56:35+00:00   \n3           3  5e23b149f9af8b5fe4b973d2  2020-01-02 13:59:58+00:00   \n4           4  5e23b149f9af8b5fe4b973d3  2020-01-02 14:00:01+00:00   \n\n              disconnectTime           doneChargingTime  kWhDelivered  \\\n0  2020-01-02 19:11:15+00:00  2020-01-02 17:31:35+00:00        25.016   \n1  2020-01-02 22:38:21+00:00  2020-01-02 20:18:05+00:00        33.097   \n2  2020-01-03 00:39:22+00:00  2020-01-02 16:35:06+00:00         6.521   \n3  2020-01-02 16:38:39+00:00  2020-01-02 15:18:45+00:00         2.355   \n4  2020-01-02 22:08:40+00:00  2020-01-02 18:17:30+00:00        13.375   \n\n                                sessionID  siteID  spaceID    stationID  \\\n0  1_1_179_810_2020-01-02 13:08:53.870034       1  AG-3F30  1-1-179-810   \n1  1_1_193_825_2020-01-02 13:36:49.599853       1  AG-1F01  1-1-193-825   \n2  1_1_193_829_2020-01-02 13:56:35.214993       1  AG-1F03  1-1-193-829   \n3  1_1_193_820_2020-01-02 13:59:58.309319       1  AG-1F04  1-1-193-820   \n4  1_1_193_819_2020-01-02 14:00:00.779967       1  AG-1F06  1-1-193-819   \n\n              timezone  userID  \\\n0  America/Los_Angeles   194.0   \n1  America/Los_Angeles  4275.0   \n2  America/Los_Angeles   344.0   \n3  America/Los_Angeles  1117.0   \n4  America/Los_Angeles   334.0   \n\n                                          userInputs  \n0  [{'WhPerMile': 250, 'kWhRequested': 25.0, 'mil...  \n1  [{'WhPerMile': 280, 'kWhRequested': 70.0, 'mil...  \n2  [{'WhPerMile': 400, 'kWhRequested': 8.0, 'mile...  \n3  [{'WhPerMile': 400, 'kWhRequested': 8.0, 'mile...  \n4  [{'WhPerMile': 400, 'kWhRequested': 16.0, 'mil...  ",
      "text/html": "<div>\n<style scoped>\n    .dataframe tbody tr th:only-of-type {\n        vertical-align: middle;\n    }\n\n    .dataframe tbody tr th {\n        vertical-align: top;\n    }\n\n    .dataframe thead th {\n        text-align: right;\n    }\n</style>\n<table border=\"1\" class=\"dataframe\">\n  <thead>\n    <tr style=\"text-align: right;\">\n      <th></th>\n      <th>Unnamed: 0</th>\n      <th>id</th>\n      <th>connectionTime</th>\n      <th>disconnectTime</th>\n      <th>doneChargingTime</th>\n      <th>kWhDelivered</th>\n      <th>sessionID</th>\n      <th>siteID</th>\n      <th>spaceID</th>\n      <th>stationID</th>\n      <th>timezone</th>\n      <th>userID</th>\n      <th>userInputs</th>\n    </tr>\n  </thead>\n  <tbody>\n    <tr>\n      <th>0</th>\n      <td>0</td>\n      <td>5e23b149f9af8b5fe4b973cf</td>\n      <td>2020-01-02 13:08:54+00:00</td>\n      <td>2020-01-02 19:11:15+00:00</td>\n      <td>2020-01-02 17:31:35+00:00</td>\n      <td>25.016</td>\n      <td>1_1_179_810_2020-01-02 13:08:53.870034</td>\n      <td>1</td>\n      <td>AG-3F30</td>\n      <td>1-1-179-810</td>\n      <td>America/Los_Angeles</td>\n      <td>194.0</td>\n      <td>[{'WhPerMile': 250, 'kWhRequested': 25.0, 'mil...</td>\n    </tr>\n    <tr>\n      <th>1</th>\n      <td>1</td>\n      <td>5e23b149f9af8b5fe4b973d0</td>\n      <td>2020-01-02 13:36:50+00:00</td>\n      <td>2020-01-02 22:38:21+00:00</td>\n      <td>2020-01-02 20:18:05+00:00</td>\n      <td>33.097</td>\n      <td>1_1_193_825_2020-01-02 13:36:49.599853</td>\n      <td>1</td>\n      <td>AG-1F01</td>\n      <td>1-1-193-825</td>\n      <td>America/Los_Angeles</td>\n      <td>4275.0</td>\n      <td>[{'WhPerMile': 280, 'kWhRequested': 70.0, 'mil...</td>\n    </tr>\n    <tr>\n      <th>2</th>\n      <td>2</td>\n      <td>5e23b149f9af8b5fe4b973d1</td>\n      <td>2020-01-02 13:56:35+00:00</td>\n      <td>2020-01-03 00:39:22+00:00</td>\n      <td>2020-01-02 16:35:06+00:00</td>\n      <td>6.521</td>\n      <td>1_1_193_829_2020-01-02 13:56:35.214993</td>\n      <td>1</td>\n      <td>AG-1F03</td>\n      <td>1-1-193-829</td>\n      <td>America/Los_Angeles</td>\n      <td>344.0</td>\n      <td>[{'WhPerMile': 400, 'kWhRequested': 8.0, 'mile...</td>\n    </tr>\n    <tr>\n      <th>3</th>\n      <td>3</td>\n      <td>5e23b149f9af8b5fe4b973d2</td>\n      <td>2020-01-02 13:59:58+00:00</td>\n      <td>2020-01-02 16:38:39+00:00</td>\n      <td>2020-01-02 15:18:45+00:00</td>\n      <td>2.355</td>\n      <td>1_1_193_820_2020-01-02 13:59:58.309319</td>\n      <td>1</td>\n      <td>AG-1F04</td>\n      <td>1-1-193-820</td>\n      <td>America/Los_Angeles</td>\n      <td>1117.0</td>\n      <td>[{'WhPerMile': 400, 'kWhRequested': 8.0, 'mile...</td>\n    </tr>\n    <tr>\n      <th>4</th>\n      <td>4</td>\n      <td>5e23b149f9af8b5fe4b973d3</td>\n      <td>2020-01-02 14:00:01+00:00</td>\n      <td>2020-01-02 22:08:40+00:00</td>\n      <td>2020-01-02 18:17:30+00:00</td>\n      <td>13.375</td>\n      <td>1_1_193_819_2020-01-02 14:00:00.779967</td>\n      <td>1</td>\n      <td>AG-1F06</td>\n      <td>1-1-193-819</td>\n      <td>America/Los_Angeles</td>\n      <td>334.0</td>\n      <td>[{'WhPerMile': 400, 'kWhRequested': 16.0, 'mil...</td>\n    </tr>\n  </tbody>\n</table>\n</div>"
     },
     "execution_count": 30,
     "metadata": {},
     "output_type": "execute_result"
    }
   ],
   "source": [
    "df = pd.read_csv(\"data/charging_sessions.csv\")\n",
    "df.head()"
   ]
  },
  {
   "cell_type": "code",
   "execution_count": 31,
   "metadata": {
    "ExecuteTime": {
     "end_time": "2024-02-06T16:26:44.303764498Z",
     "start_time": "2024-02-06T16:26:43.886754029Z"
    }
   },
   "outputs": [],
   "source": [
    "# Set Datatypes\n",
    "df['connectionTime'] = pd.to_datetime(df['connectionTime'])\n",
    "df['disconnectTime'] = pd.to_datetime(df['disconnectTime'])\n",
    "df['doneChargingTime'] = pd.to_datetime(df['doneChargingTime'])\n",
    "\n",
    "df['sessionID'] = df['sessionID'].astype(str)\n",
    "df['siteID'] = df['siteID'].astype(str)\n",
    "df['spaceID'] = df['spaceID'].astype(str)\n",
    "df['stationID'] = df['stationID'].astype(str)\n",
    "#df['userID'] = df['userID'].astype(str) # For site characteristics: better use if datatype is float64"
   ]
  },
  {
   "cell_type": "code",
   "execution_count": 32,
   "metadata": {
    "ExecuteTime": {
     "end_time": "2024-02-06T16:26:44.311498297Z",
     "start_time": "2024-02-06T16:26:44.292720982Z"
    }
   },
   "outputs": [],
   "source": [
    "start_date = '2018-04-25'\n",
    "end_date = '2021-01-01'\n",
    "\n",
    "df = df[(df['connectionTime'] >= start_date) & (df['disconnectTime'] <= end_date)]\n",
    "df['weekday'] = df['connectionTime'].dt.day_name()"
   ]
  },
  {
   "cell_type": "code",
   "execution_count": 33,
   "metadata": {
    "ExecuteTime": {
     "end_time": "2024-02-06T16:26:44.359075659Z",
     "start_time": "2024-02-06T16:26:44.312028578Z"
    }
   },
   "outputs": [],
   "source": [
    "# Rename first column, contains an index\n",
    "#df = df.rename(columns={df.columns[0]: 'Index'})\n",
    "#df = df.set_index('Index')"
   ]
  },
  {
   "cell_type": "code",
   "execution_count": 34,
   "metadata": {
    "ExecuteTime": {
     "end_time": "2024-02-06T16:26:44.359655635Z",
     "start_time": "2024-02-06T16:26:44.358936584Z"
    }
   },
   "outputs": [],
   "source": [
    "# Session ID is a composite value of stationID and connectionTime, and therefor redundant\n",
    "# Timezone contains only one value, and can therefor be considered meta-data\n",
    "# First column cannot be used as the index because of several mistakes (e.g. \"index\" 1 would occur 9 times)\n",
    "# First column makes no sense otherwise\n",
    "#df[df[df.columns[0]] != df.index] # Shows the differences between actual index and supposed index\n",
    "#df[df[df.columns[0]] == 1] # Shows, how \"index\" 1 occurs 9 times\n",
    "df = df.drop(['sessionID', 'timezone', df.columns[0]], axis=1)"
   ]
  },
  {
   "cell_type": "code",
   "execution_count": 35,
   "metadata": {
    "ExecuteTime": {
     "end_time": "2024-02-06T16:26:44.360004319Z",
     "start_time": "2024-02-06T16:26:44.359068786Z"
    }
   },
   "outputs": [],
   "source": [
    "df['NoChargingTime'] = df['disconnectTime'] - df['doneChargingTime']\n",
    "df['NoChargingTimeMinutes'] = (df['NoChargingTime']).dt.total_seconds() / 60.0  # Convert seconds to minutes\n",
    "df['NoChargingTimeHours'] = ((df['NoChargingTime']).dt.total_seconds() / 60.0) / 60.0  # Convert minutes to hours\n",
    "\n",
    "df['ChargingTime'] = df['doneChargingTime'] - df['connectionTime']\n",
    "df['ChargingTimeMinutes'] = (df['ChargingTime']).dt.total_seconds() / 60.0  # Convert seconds to minutes\n",
    "df['ChargingTimeHours'] = ((df['ChargingTime']).dt.total_seconds() / 60.0) / 60.0  # Convert minutes to hours\n",
    "\n",
    "df['kWhPerMinute'] = df['kWhDelivered'] / df['ChargingTimeMinutes']\n",
    "\n",
    "# Create a new column 'month' to store the month information\n",
    "df['month'] = df['connectionTime'].dt.month\n",
    "\n",
    "# Create a new column 'userRegistered' to state if user is registered or not (needed for site characteristics section)\n",
    "df['userRegistered'] = np.where(df['userID'].isnull(), 'unregistered', 'registered')"
   ]
  },
  {
   "cell_type": "markdown",
   "metadata": {},
   "source": [
    "### Flatten the Json-Object UserInput"
   ]
  },
  {
   "cell_type": "code",
   "execution_count": 36,
   "metadata": {
    "ExecuteTime": {
     "end_time": "2024-02-06T16:26:44.360606397Z",
     "start_time": "2024-02-06T16:26:44.359111738Z"
    }
   },
   "outputs": [],
   "source": [
    "# df_charging['userInputs'] = df_charging['userInputs'].str.replace(\"'\", '\"')\n",
    "# df_charging['userInputs'] = df_charging['userInputs'].str.replace('\"[', \"'[\")\n",
    "# df_charging['userInputs'] = df_charging['userInputs'].str.replace(']\"', \"]'\")\n",
    "# df_charging['userInputs'] = df_charging['userInputs'].str.replace(\"True\", \"true\")\n",
    "# df_charging['userInputs'] = df_charging['userInputs'].str.replace(\"False\", \"false\")\n",
    "\n",
    "# Mapping: Value to be replaced: replacing value\n",
    "#replacements = {\n",
    "#    \"'\": '\"', \n",
    "#    '\"[': \"'[\",\n",
    "#    ']\"': \"]'\",\n",
    "#    \"True\": \"true\",\n",
    "#    \"False\": \"false\"\n",
    "# }\n",
    "\n",
    "# shorthand to replace multiple values\n",
    "# for i, j in replacements.items():\n",
    "#    df_charging['userInputs'] = df_charging['userInputs'].str.replace(i, j)\n",
    "# Old Version\n",
    "# for i in range(len(df_charging['userInputs'])):\n",
    "#     if not pd.isna(df_charging['userInputs'].iloc[i]):\n",
    "#        df_charging.at[i, 'userInputs'] = json.loads(df_charging['userInputs'].iloc[i])\n",
    "\n",
    "# Refactored Version\n",
    "# df_charging['userInputs'] = df_charging['userInputs'].apply(lambda x: json.loads(x) if pd.notna(x) else x)"
   ]
  },
  {
   "cell_type": "code",
   "execution_count": 37,
   "metadata": {
    "ExecuteTime": {
     "end_time": "2024-02-06T16:26:44.656990550Z",
     "start_time": "2024-02-06T16:26:44.359143899Z"
    }
   },
   "outputs": [],
   "source": [
    "df['userInputs'] = df['userInputs'].str.replace(\"'\", '\"')\n",
    "df['userInputs'] = df['userInputs'].str.replace('\"[', \"'[\")\n",
    "df['userInputs'] = df['userInputs'].str.replace(']\"', \"]'\")\n",
    "df['userInputs'] = df['userInputs'].str.replace(\"True\", \"true\")\n",
    "df['userInputs'] = df['userInputs'].str.replace(\"False\", \"false\")\n",
    "\n",
    "# Old Version\n",
    "# for i in range(len(df['userInputs'])):\n",
    "#     if not pd.isna(df['userInputs'].iloc[i]):\n",
    "#        df.at[i, 'userInputs'] = json.loads(df['userInputs'].iloc[i])\n",
    "\n",
    "# Refactored Version\n",
    "df['userInputs'] = df['userInputs'].apply(lambda x: json.loads(x) if pd.notna(x) else x)\n",
    "# Extract 'paymentRequired' values and save them in a new column\n",
    "df['user_paymentRequired_values'] = df['userInputs'].apply(lambda x: x[0]['paymentRequired'] if isinstance(x, list) and len(x) > 0 else None)\n",
    "df['user_userID'] = df['userInputs'].apply(lambda x: x[0]['userID'] if isinstance(x, list) and len(x) > 0 else None)\n",
    "df['user_requestedDeparture'] = df['userInputs'].apply(lambda x: x[0]['requestedDeparture'] if isinstance(x, list) and len(x) > 0 else None)\n",
    "df['user_modifiedAt'] = df['userInputs'].apply(lambda x: x[0]['modifiedAt'] if isinstance(x, list) and len(x) > 0 else None)\n",
    "df['user_minutesAvailable'] = df['userInputs'].apply(lambda x: x[0]['minutesAvailable'] if isinstance(x, list) and len(x) > 0 else None)\n",
    "df['user_milesRequested'] = df['userInputs'].apply(lambda x: x[0]['milesRequested'] if isinstance(x, list) and len(x) > 0 else None)\n",
    "df['user_kWhRequested'] = df['userInputs'].apply(lambda x: x[0]['kWhRequested'] if isinstance(x, list) and len(x) > 0 else None)\n",
    "df['user_WhPerMile'] = df['userInputs'].apply(lambda x: x[0]['WhPerMile'] if isinstance(x, list) and len(x) > 0 else None)\n",
    "\n",
    "# Drop the 'userInputs' column\n",
    "df.drop(columns=['userInputs'], inplace=True)\n",
    "\n",
    "# Check if user_userID and userID are the same (result: they are)\n",
    "#df['user_userID'] = df['user_userID'].astype(str)\n",
    "#df[df['userID'] != df['user_userID']]\n",
    "\n",
    "# Drop the \"user_userID\" column, as it has the same values as the column \"userID\", therefore redundant\n",
    "df = df.drop(['user_userID'], axis=1)"
   ]
  },
  {
   "cell_type": "code",
   "execution_count": 38,
   "metadata": {
    "ExecuteTime": {
     "end_time": "2024-02-06T16:26:44.659114238Z",
     "start_time": "2024-02-06T16:26:44.657777791Z"
    }
   },
   "outputs": [],
   "source": [
    "# Add a column 'user_kWhRequestFulfilment', which shows the difference between kWh request and delivery\n",
    "df['user_kWhRequestFulfilment'] = df['kWhDelivered'] - df['user_kWhRequested']"
   ]
  },
  {
   "cell_type": "code",
   "execution_count": 39,
   "metadata": {
    "ExecuteTime": {
     "end_time": "2024-02-06T16:26:44.693827373Z",
     "start_time": "2024-02-06T16:26:44.659817729Z"
    }
   },
   "outputs": [],
   "source": [
    "# Problem detected in KPI section: connectionTime sometimes later than doneChargingTime -> negative values not possible\n",
    "# Drop rows, where charging time (in hours) has negative values\n",
    "df = df.drop(df[df['ChargingTimeHours'] < 0].index)\n",
    "\n",
    "# Problem detected in KPI section: doneChargingTime sometimes later than disconnectTime -> negative values not possible\n",
    "# Drop rows, where no charging time (in hours) has negative values\n",
    "df = df.drop(df[df['NoChargingTimeHours'] < 0].index)"
   ]
  },
  {
   "cell_type": "code",
   "execution_count": 40,
   "metadata": {
    "ExecuteTime": {
     "end_time": "2024-02-06T16:26:44.742870178Z",
     "start_time": "2024-02-06T16:26:44.694802822Z"
    }
   },
   "outputs": [],
   "source": [
    "# Sorts the values by connection time and updates the index\n",
    "df = df.sort_values('connectionTime')\n",
    "df = df.reset_index(drop=True)"
   ]
  },
  {
   "cell_type": "code",
   "outputs": [
    {
     "data": {
      "text/plain": "                         id            connectionTime  \\\n0  5bc90cb9f9af8b0d7fe77cd3 2018-04-25 13:45:10+00:00   \n1  5bc90cb9f9af8b0d7fe77cd4 2018-04-25 13:45:50+00:00   \n2  5bc90cb9f9af8b0d7fe77cd5 2018-04-25 14:37:06+00:00   \n3  5bc90cb9f9af8b0d7fe77cd6 2018-04-25 14:40:34+00:00   \n4  5bc90cb9f9af8b0d7fe77cd7 2018-04-25 14:43:50+00:00   \n\n             disconnectTime          doneChargingTime  kWhDelivered siteID  \\\n0 2018-04-26 00:56:16+00:00 2018-04-25 16:44:15+00:00        10.013      2   \n1 2018-04-25 23:04:45+00:00 2018-04-25 14:51:44+00:00         5.257      2   \n2 2018-04-25 23:55:34+00:00 2018-04-25 16:05:22+00:00         5.177      2   \n3 2018-04-25 23:03:12+00:00 2018-04-25 17:40:30+00:00        10.119      2   \n4 2018-04-26 01:17:30+00:00 2018-04-25 16:18:28+00:00         7.910      2   \n\n  spaceID    stationID  userID    weekday  ... month  userRegistered  \\\n0  CA-319   2-39-95-27     NaN  Wednesday  ...     4    unregistered   \n1  CA-489  2-39-79-380     NaN  Wednesday  ...     4    unregistered   \n2  CA-327  2-39-79-379     NaN  Wednesday  ...     4    unregistered   \n3  CA-490  2-39-79-381     NaN  Wednesday  ...     4    unregistered   \n4  CA-303  2-39-139-28     NaN  Wednesday  ...     4    unregistered   \n\n   user_paymentRequired_values user_requestedDeparture  user_modifiedAt  \\\n0                         None                    None             None   \n1                         None                    None             None   \n2                         None                    None             None   \n3                         None                    None             None   \n4                         None                    None             None   \n\n   user_minutesAvailable  user_milesRequested  user_kWhRequested  \\\n0                    NaN                  NaN                NaN   \n1                    NaN                  NaN                NaN   \n2                    NaN                  NaN                NaN   \n3                    NaN                  NaN                NaN   \n4                    NaN                  NaN                NaN   \n\n  user_WhPerMile user_kWhRequestFulfilment  \n0            NaN                       NaN  \n1            NaN                       NaN  \n2            NaN                       NaN  \n3            NaN                       NaN  \n4            NaN                       NaN  \n\n[5 rows x 27 columns]",
      "text/html": "<div>\n<style scoped>\n    .dataframe tbody tr th:only-of-type {\n        vertical-align: middle;\n    }\n\n    .dataframe tbody tr th {\n        vertical-align: top;\n    }\n\n    .dataframe thead th {\n        text-align: right;\n    }\n</style>\n<table border=\"1\" class=\"dataframe\">\n  <thead>\n    <tr style=\"text-align: right;\">\n      <th></th>\n      <th>id</th>\n      <th>connectionTime</th>\n      <th>disconnectTime</th>\n      <th>doneChargingTime</th>\n      <th>kWhDelivered</th>\n      <th>siteID</th>\n      <th>spaceID</th>\n      <th>stationID</th>\n      <th>userID</th>\n      <th>weekday</th>\n      <th>...</th>\n      <th>month</th>\n      <th>userRegistered</th>\n      <th>user_paymentRequired_values</th>\n      <th>user_requestedDeparture</th>\n      <th>user_modifiedAt</th>\n      <th>user_minutesAvailable</th>\n      <th>user_milesRequested</th>\n      <th>user_kWhRequested</th>\n      <th>user_WhPerMile</th>\n      <th>user_kWhRequestFulfilment</th>\n    </tr>\n  </thead>\n  <tbody>\n    <tr>\n      <th>0</th>\n      <td>5bc90cb9f9af8b0d7fe77cd3</td>\n      <td>2018-04-25 13:45:10+00:00</td>\n      <td>2018-04-26 00:56:16+00:00</td>\n      <td>2018-04-25 16:44:15+00:00</td>\n      <td>10.013</td>\n      <td>2</td>\n      <td>CA-319</td>\n      <td>2-39-95-27</td>\n      <td>NaN</td>\n      <td>Wednesday</td>\n      <td>...</td>\n      <td>4</td>\n      <td>unregistered</td>\n      <td>None</td>\n      <td>None</td>\n      <td>None</td>\n      <td>NaN</td>\n      <td>NaN</td>\n      <td>NaN</td>\n      <td>NaN</td>\n      <td>NaN</td>\n    </tr>\n    <tr>\n      <th>1</th>\n      <td>5bc90cb9f9af8b0d7fe77cd4</td>\n      <td>2018-04-25 13:45:50+00:00</td>\n      <td>2018-04-25 23:04:45+00:00</td>\n      <td>2018-04-25 14:51:44+00:00</td>\n      <td>5.257</td>\n      <td>2</td>\n      <td>CA-489</td>\n      <td>2-39-79-380</td>\n      <td>NaN</td>\n      <td>Wednesday</td>\n      <td>...</td>\n      <td>4</td>\n      <td>unregistered</td>\n      <td>None</td>\n      <td>None</td>\n      <td>None</td>\n      <td>NaN</td>\n      <td>NaN</td>\n      <td>NaN</td>\n      <td>NaN</td>\n      <td>NaN</td>\n    </tr>\n    <tr>\n      <th>2</th>\n      <td>5bc90cb9f9af8b0d7fe77cd5</td>\n      <td>2018-04-25 14:37:06+00:00</td>\n      <td>2018-04-25 23:55:34+00:00</td>\n      <td>2018-04-25 16:05:22+00:00</td>\n      <td>5.177</td>\n      <td>2</td>\n      <td>CA-327</td>\n      <td>2-39-79-379</td>\n      <td>NaN</td>\n      <td>Wednesday</td>\n      <td>...</td>\n      <td>4</td>\n      <td>unregistered</td>\n      <td>None</td>\n      <td>None</td>\n      <td>None</td>\n      <td>NaN</td>\n      <td>NaN</td>\n      <td>NaN</td>\n      <td>NaN</td>\n      <td>NaN</td>\n    </tr>\n    <tr>\n      <th>3</th>\n      <td>5bc90cb9f9af8b0d7fe77cd6</td>\n      <td>2018-04-25 14:40:34+00:00</td>\n      <td>2018-04-25 23:03:12+00:00</td>\n      <td>2018-04-25 17:40:30+00:00</td>\n      <td>10.119</td>\n      <td>2</td>\n      <td>CA-490</td>\n      <td>2-39-79-381</td>\n      <td>NaN</td>\n      <td>Wednesday</td>\n      <td>...</td>\n      <td>4</td>\n      <td>unregistered</td>\n      <td>None</td>\n      <td>None</td>\n      <td>None</td>\n      <td>NaN</td>\n      <td>NaN</td>\n      <td>NaN</td>\n      <td>NaN</td>\n      <td>NaN</td>\n    </tr>\n    <tr>\n      <th>4</th>\n      <td>5bc90cb9f9af8b0d7fe77cd7</td>\n      <td>2018-04-25 14:43:50+00:00</td>\n      <td>2018-04-26 01:17:30+00:00</td>\n      <td>2018-04-25 16:18:28+00:00</td>\n      <td>7.910</td>\n      <td>2</td>\n      <td>CA-303</td>\n      <td>2-39-139-28</td>\n      <td>NaN</td>\n      <td>Wednesday</td>\n      <td>...</td>\n      <td>4</td>\n      <td>unregistered</td>\n      <td>None</td>\n      <td>None</td>\n      <td>None</td>\n      <td>NaN</td>\n      <td>NaN</td>\n      <td>NaN</td>\n      <td>NaN</td>\n      <td>NaN</td>\n    </tr>\n  </tbody>\n</table>\n<p>5 rows × 27 columns</p>\n</div>"
     },
     "execution_count": 41,
     "metadata": {},
     "output_type": "execute_result"
    }
   ],
   "source": [
    "df.head()"
   ],
   "metadata": {
    "collapsed": false,
    "ExecuteTime": {
     "end_time": "2024-02-06T16:26:44.743552759Z",
     "start_time": "2024-02-06T16:26:44.742810033Z"
    }
   },
   "execution_count": 41
  },
  {
   "cell_type": "code",
   "execution_count": 42,
   "metadata": {
    "ExecuteTime": {
     "end_time": "2024-02-06T16:26:46.005982607Z",
     "start_time": "2024-02-06T16:26:44.742928990Z"
    }
   },
   "outputs": [],
   "source": [
    "\n",
    "df.to_pickle('data/charging_modified.pkl')\n",
    "df.to_csv('data/charging_session_flattened_json.csv')"
   ]
  }
 ],
 "metadata": {
  "kernelspec": {
   "display_name": "Python 3 (ipykernel)",
   "language": "python",
   "name": "python3"
  },
  "language_info": {
   "codemirror_mode": {
    "name": "ipython",
    "version": 3
   },
   "file_extension": ".py",
   "mimetype": "text/x-python",
   "name": "python",
   "nbconvert_exporter": "python",
   "pygments_lexer": "ipython3",
   "version": "3.9.2rc1"
  }
 },
 "nbformat": 4,
 "nbformat_minor": 2
}
