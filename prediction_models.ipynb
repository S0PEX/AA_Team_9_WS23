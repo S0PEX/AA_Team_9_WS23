{
 "cells": [
  {
   "cell_type": "markdown",
   "id": "4666d241-90a4-404b-91af-fc282125e11d",
   "metadata": {},
   "source": [
    "# Utilization Prediction: Prediction of hourly utilization of the two sites"
   ]
  },
  {
   "cell_type": "markdown",
   "id": "6f645e26-6b9e-427b-ac6b-65d07935421f",
   "metadata": {},
   "source": [
    "## Import libraries"
   ]
  },
  {
   "cell_type": "code",
   "execution_count": 1,
   "id": "cc6bba7b-e95d-4f60-ada0-eb8c76dc972a",
   "metadata": {},
   "outputs": [],
   "source": [
    "import numpy as np\n",
    "import matplotlib.pyplot as plt\n",
    "import pandas as pd\n",
    "\n",
    "import os\n",
    "os.environ[\"KERAS_BACKEND\"] = \"torch\"\n",
    "\n",
    "import keras\n",
    "from keras import Sequential\n",
    "from keras.layers import Dense\n",
    "\n",
    "import warnings\n",
    "warnings.filterwarnings(\"ignore\")\n",
    "\n",
    "from sklearn.model_selection import train_test_split\n",
    "from sklearn.preprocessing import StandardScaler\n",
    "\n",
    "%matplotlib inline"
   ]
  },
  {
   "cell_type": "markdown",
   "id": "bfa77ae0-e0f7-449a-ae5d-34e6ba603e1e",
   "metadata": {},
   "source": [
    "## Load and prepare data"
   ]
  },
  {
   "cell_type": "code",
   "execution_count": 2,
   "id": "9c2431fa-4a60-4913-a7fe-229115b2997b",
   "metadata": {
    "scrolled": true
   },
   "outputs": [
    {
     "data": {
      "text/html": [
       "<div>\n",
       "<style scoped>\n",
       "    .dataframe tbody tr th:only-of-type {\n",
       "        vertical-align: middle;\n",
       "    }\n",
       "\n",
       "    .dataframe tbody tr th {\n",
       "        vertical-align: top;\n",
       "    }\n",
       "\n",
       "    .dataframe thead th {\n",
       "        text-align: right;\n",
       "    }\n",
       "</style>\n",
       "<table border=\"1\" class=\"dataframe\">\n",
       "  <thead>\n",
       "    <tr style=\"text-align: right;\">\n",
       "      <th></th>\n",
       "      <th>id</th>\n",
       "      <th>connectionTime</th>\n",
       "      <th>disconnectTime</th>\n",
       "      <th>kWhDelivered</th>\n",
       "      <th>userID</th>\n",
       "      <th>ChargingTimeMinutes</th>\n",
       "      <th>month</th>\n",
       "      <th>user_requestedDeparture</th>\n",
       "      <th>user_minutesAvailable</th>\n",
       "      <th>user_milesRequested</th>\n",
       "      <th>user_WhPerMile</th>\n",
       "      <th>siteID_1</th>\n",
       "      <th>siteID_2</th>\n",
       "    </tr>\n",
       "  </thead>\n",
       "  <tbody>\n",
       "    <tr>\n",
       "      <th>0</th>\n",
       "      <td>5e23b149f9af8b5fe4b973cf</td>\n",
       "      <td>2020-01-02 13:08:54+00:00</td>\n",
       "      <td>2020-01-02 19:11:15+00:00</td>\n",
       "      <td>25.016</td>\n",
       "      <td>194.0</td>\n",
       "      <td>262.683333</td>\n",
       "      <td>1</td>\n",
       "      <td>Thu, 02 Jan 2020 20:51:54 GMT</td>\n",
       "      <td>463.0</td>\n",
       "      <td>100.0</td>\n",
       "      <td>250.0</td>\n",
       "      <td>1</td>\n",
       "      <td>0</td>\n",
       "    </tr>\n",
       "    <tr>\n",
       "      <th>1</th>\n",
       "      <td>5e23b149f9af8b5fe4b973d0</td>\n",
       "      <td>2020-01-02 13:36:50+00:00</td>\n",
       "      <td>2020-01-02 22:38:21+00:00</td>\n",
       "      <td>33.097</td>\n",
       "      <td>4275.0</td>\n",
       "      <td>401.250000</td>\n",
       "      <td>1</td>\n",
       "      <td>Thu, 02 Jan 2020 23:31:50 GMT</td>\n",
       "      <td>595.0</td>\n",
       "      <td>250.0</td>\n",
       "      <td>280.0</td>\n",
       "      <td>1</td>\n",
       "      <td>0</td>\n",
       "    </tr>\n",
       "    <tr>\n",
       "      <th>2</th>\n",
       "      <td>5e23b149f9af8b5fe4b973d1</td>\n",
       "      <td>2020-01-02 13:56:35+00:00</td>\n",
       "      <td>2020-01-03 00:39:22+00:00</td>\n",
       "      <td>6.521</td>\n",
       "      <td>344.0</td>\n",
       "      <td>158.516667</td>\n",
       "      <td>1</td>\n",
       "      <td>Thu, 02 Jan 2020 14:56:35 GMT</td>\n",
       "      <td>60.0</td>\n",
       "      <td>20.0</td>\n",
       "      <td>400.0</td>\n",
       "      <td>1</td>\n",
       "      <td>0</td>\n",
       "    </tr>\n",
       "    <tr>\n",
       "      <th>3</th>\n",
       "      <td>5e23b149f9af8b5fe4b973d2</td>\n",
       "      <td>2020-01-02 13:59:58+00:00</td>\n",
       "      <td>2020-01-02 16:38:39+00:00</td>\n",
       "      <td>2.355</td>\n",
       "      <td>1117.0</td>\n",
       "      <td>78.783333</td>\n",
       "      <td>1</td>\n",
       "      <td>Thu, 02 Jan 2020 15:04:58 GMT</td>\n",
       "      <td>65.0</td>\n",
       "      <td>20.0</td>\n",
       "      <td>400.0</td>\n",
       "      <td>1</td>\n",
       "      <td>0</td>\n",
       "    </tr>\n",
       "    <tr>\n",
       "      <th>4</th>\n",
       "      <td>5e23b149f9af8b5fe4b973d3</td>\n",
       "      <td>2020-01-02 14:00:01+00:00</td>\n",
       "      <td>2020-01-02 22:08:40+00:00</td>\n",
       "      <td>13.375</td>\n",
       "      <td>334.0</td>\n",
       "      <td>257.483333</td>\n",
       "      <td>1</td>\n",
       "      <td>Thu, 02 Jan 2020 22:24:01 GMT</td>\n",
       "      <td>504.0</td>\n",
       "      <td>40.0</td>\n",
       "      <td>400.0</td>\n",
       "      <td>1</td>\n",
       "      <td>0</td>\n",
       "    </tr>\n",
       "  </tbody>\n",
       "</table>\n",
       "</div>"
      ],
      "text/plain": [
       "                         id            connectionTime  \\\n",
       "0  5e23b149f9af8b5fe4b973cf 2020-01-02 13:08:54+00:00   \n",
       "1  5e23b149f9af8b5fe4b973d0 2020-01-02 13:36:50+00:00   \n",
       "2  5e23b149f9af8b5fe4b973d1 2020-01-02 13:56:35+00:00   \n",
       "3  5e23b149f9af8b5fe4b973d2 2020-01-02 13:59:58+00:00   \n",
       "4  5e23b149f9af8b5fe4b973d3 2020-01-02 14:00:01+00:00   \n",
       "\n",
       "             disconnectTime  kWhDelivered  userID  ChargingTimeMinutes  month  \\\n",
       "0 2020-01-02 19:11:15+00:00        25.016   194.0           262.683333      1   \n",
       "1 2020-01-02 22:38:21+00:00        33.097  4275.0           401.250000      1   \n",
       "2 2020-01-03 00:39:22+00:00         6.521   344.0           158.516667      1   \n",
       "3 2020-01-02 16:38:39+00:00         2.355  1117.0            78.783333      1   \n",
       "4 2020-01-02 22:08:40+00:00        13.375   334.0           257.483333      1   \n",
       "\n",
       "         user_requestedDeparture  user_minutesAvailable  user_milesRequested  \\\n",
       "0  Thu, 02 Jan 2020 20:51:54 GMT                  463.0                100.0   \n",
       "1  Thu, 02 Jan 2020 23:31:50 GMT                  595.0                250.0   \n",
       "2  Thu, 02 Jan 2020 14:56:35 GMT                   60.0                 20.0   \n",
       "3  Thu, 02 Jan 2020 15:04:58 GMT                   65.0                 20.0   \n",
       "4  Thu, 02 Jan 2020 22:24:01 GMT                  504.0                 40.0   \n",
       "\n",
       "   user_WhPerMile  siteID_1  siteID_2  \n",
       "0           250.0         1         0  \n",
       "1           280.0         1         0  \n",
       "2           400.0         1         0  \n",
       "3           400.0         1         0  \n",
       "4           400.0         1         0  "
      ]
     },
     "execution_count": 2,
     "metadata": {},
     "output_type": "execute_result"
    }
   ],
   "source": [
    "# Load data\n",
    "charging_data = pd.read_pickle(\"data/charging_modified.pkl\")\n",
    "weather_data = pd.read_csv(\"data/weather_modified.csv\")\n",
    "\n",
    "# TODO: more filtering of features\n",
    "# drop not important columns in weather data\n",
    "weather_data.drop(columns = [\"city\", \"cloud_cover_description\", \"pressure\", \"felt_temperature\"], inplace = True)\n",
    "weather_data[\"timestamp\"] = pd.to_datetime(weather_data[\"timestamp\"], utc = True).dt.floor(freq = \"H\")\n",
    "\n",
    "# drop not important columns in charging data\n",
    "charging_data.drop(columns = [\"kWhPerMinute\", \"NoChargingTime\", \"user_kWhRequested\", \"user_modifiedAt\", \"doneChargingTime\", \"NoChargingTimeMinutes\", \"spaceID\", \"stationID\", \n",
    "                              \"user_userID\", \"ChargingTime\", \"user_paymentRequired_values\"], inplace = True)\n",
    "\n",
    "# Delete rows with null values\n",
    "charging_data = charging_data.dropna()\n",
    "\n",
    "# delete duplicate row index\n",
    "charging_data.reset_index(drop = True, inplace = True)\n",
    "\n",
    "charging_data.astype({\n",
    "    \"siteID\": \"category\",\n",
    "    \"kWhDelivered\": \"int64\",\n",
    "    \"ChargingTimeMinutes\": \"int64\",\n",
    "    \"user_minutesAvailable\": \"int64\",\n",
    "    \"user_milesRequested\": \"int64\",\n",
    "    \"user_WhPerMile\": \"int64\"\n",
    "})\n",
    "\n",
    "weather_data.astype({\n",
    "    \"temperature\": \"float\",\n",
    "    \"cloud_cover\": \"float\",\n",
    "    \"windspeed\": \"float\",\n",
    "    \"precipitation\": \"float\"\n",
    "})\n",
    "\n",
    "# check user_paymentRequired_values again?\n",
    "\n",
    "# create dummy variables for user_paymentRequired_values column\n",
    "charging_data = pd.get_dummies(charging_data, columns = [\"siteID\"], dtype = \"int64\")\n",
    "charging_data.head()"
   ]
  },
  {
   "cell_type": "markdown",
   "id": "cbb6b6fc-2a43-4ea0-a567-00b9b8152cb7",
   "metadata": {},
   "source": [
    "## Create feature vector X and labels Y"
   ]
  },
  {
   "cell_type": "code",
   "execution_count": 3,
   "id": "1b555087-c2cc-4428-873d-0021d2874db2",
   "metadata": {},
   "outputs": [],
   "source": [
    "# split time interval between connectionTime and disconnectTime in minutes for every hour\n",
    "def split_time_interval(index, start_date, end_date):\n",
    "    indices = pd.DatetimeIndex([start_date])\n",
    "    indices = indices.append(pd.date_range(start_date.ceil(freq = \"H\"), end_date.floor(freq = \"H\"), freq = \"H\"))\n",
    "    indices = indices.append(pd.DatetimeIndex([end_date]))\n",
    "\n",
    "    time_list = list(map(lambda x : 60 if x == 0 else x, indices.minute))\n",
    "    time_list[0] = 60 - time_list[0]\n",
    "    \n",
    "    return list((time_list, indices))\n",
    "\n",
    "\n",
    "# creates table with session id, charging time in minutes per hour and timestamps\n",
    "def create_minute_table(id, minute_array):\n",
    "    return list(zip([id] * len(minute_array[0]), minute_array[0], minute_array[1]))"
   ]
  },
  {
   "cell_type": "code",
   "execution_count": 4,
   "id": "f9efb282-57ef-4d71-a522-ca1e457c4e3b",
   "metadata": {},
   "outputs": [],
   "source": [
    "# concat single minute lists to one big list with lists of tuples containing id, charging times in minutes per hour and timestamps\n",
    "temp = []\n",
    "\n",
    "for index in charging_data.index :\n",
    "    charging_times = split_time_interval(charging_data.index[index], charging_data.loc[index, \"connectionTime\"], charging_data.loc[index, \"disconnectTime\"])\n",
    "    temp.append(create_minute_table(charging_data.loc[index, \"id\"], charging_times))\n",
    "\n",
    "# parse list of lists of triples into list of three lists: ids, charging time in minutes per hour and timestamps\n",
    "ids, charging_times, timestamps = map(list, zip(*[tuple for list in temp for tuple in list]))\n",
    "\n",
    "# create data.frame with three columns: session id, charging time and starting timestamp in minutes for every hour\n",
    "charging_time_per_hour = pd.DataFrame(\n",
    "                            {\"id\": ids,\n",
    "                             \"charging_time_per_hour\": charging_times,\n",
    "                             \"timestamp\": timestamps})\n",
    "charging_time_per_hour.loc[:, \"timestamp\"] = charging_time_per_hour.loc[:, \"timestamp\"].dt.floor(freq = \"H\")"
   ]
  },
  {
   "cell_type": "markdown",
   "id": "b8640b94-ef28-41f2-a105-36edbd6b4a95",
   "metadata": {},
   "source": [
    "### Labels Y:"
   ]
  },
  {
   "cell_type": "code",
   "execution_count": 5,
   "id": "e1bf647a-414a-48aa-b070-06845429cbe8",
   "metadata": {},
   "outputs": [
    {
     "data": {
      "text/plain": [
       "array([0.02      , 0.02      , 0.02      , 0.02      , 0.02      ,\n",
       "       0.02      , 0.02      , 0.02      , 0.029     , 0.00733333,\n",
       "       0.02      , 0.02      , 0.02      , 0.02      , 0.02      ,\n",
       "       0.02      , 0.02      , 0.02      , 0.02      ])"
      ]
     },
     "execution_count": 5,
     "metadata": {},
     "output_type": "execute_result"
    }
   ],
   "source": [
    "# roughly 50 EV charging stations per site * 60 minutes\n",
    "maximum_utilization = 50 * 60\n",
    "\n",
    "Y = list(map(lambda x : x / maximum_utilization, charging_time_per_hour.groupby(\"timestamp\").sum().loc[:, \"charging_time_per_hour\"]))\n",
    "Y = np.array(list(map(lambda x: 1.0 if x > 1.0 else x, Y)))\n",
    "Y[1:20]"
   ]
  },
  {
   "cell_type": "markdown",
   "id": "9dd9e6b9-f476-40d2-b240-a15283292132",
   "metadata": {},
   "source": [
    "### Feature Vector X:"
   ]
  },
  {
   "cell_type": "code",
   "execution_count": 6,
   "id": "b29bf4d8-c7c7-4212-8035-9c45acf8d083",
   "metadata": {},
   "outputs": [
    {
     "data": {
      "text/html": [
       "<div>\n",
       "<style scoped>\n",
       "    .dataframe tbody tr th:only-of-type {\n",
       "        vertical-align: middle;\n",
       "    }\n",
       "\n",
       "    .dataframe tbody tr th {\n",
       "        vertical-align: top;\n",
       "    }\n",
       "\n",
       "    .dataframe thead th {\n",
       "        text-align: right;\n",
       "    }\n",
       "</style>\n",
       "<table border=\"1\" class=\"dataframe\">\n",
       "  <thead>\n",
       "    <tr style=\"text-align: right;\">\n",
       "      <th></th>\n",
       "      <th>ChargingTimeMinutes</th>\n",
       "      <th>user_minutesAvailable</th>\n",
       "    </tr>\n",
       "  </thead>\n",
       "  <tbody>\n",
       "    <tr>\n",
       "      <th>0</th>\n",
       "      <td>560.033333</td>\n",
       "      <td>550.0</td>\n",
       "    </tr>\n",
       "    <tr>\n",
       "      <th>2</th>\n",
       "      <td>560.033333</td>\n",
       "      <td>550.0</td>\n",
       "    </tr>\n",
       "    <tr>\n",
       "      <th>3</th>\n",
       "      <td>560.033333</td>\n",
       "      <td>550.0</td>\n",
       "    </tr>\n",
       "    <tr>\n",
       "      <th>6</th>\n",
       "      <td>560.033333</td>\n",
       "      <td>550.0</td>\n",
       "    </tr>\n",
       "    <tr>\n",
       "      <th>8</th>\n",
       "      <td>560.033333</td>\n",
       "      <td>550.0</td>\n",
       "    </tr>\n",
       "    <tr>\n",
       "      <th>...</th>\n",
       "      <td>...</td>\n",
       "      <td>...</td>\n",
       "    </tr>\n",
       "    <tr>\n",
       "      <th>22173</th>\n",
       "      <td>542.716667</td>\n",
       "      <td>692.0</td>\n",
       "    </tr>\n",
       "    <tr>\n",
       "      <th>22174</th>\n",
       "      <td>542.716667</td>\n",
       "      <td>692.0</td>\n",
       "    </tr>\n",
       "    <tr>\n",
       "      <th>22175</th>\n",
       "      <td>542.716667</td>\n",
       "      <td>692.0</td>\n",
       "    </tr>\n",
       "    <tr>\n",
       "      <th>22176</th>\n",
       "      <td>542.716667</td>\n",
       "      <td>692.0</td>\n",
       "    </tr>\n",
       "    <tr>\n",
       "      <th>22177</th>\n",
       "      <td>1085.433333</td>\n",
       "      <td>1384.0</td>\n",
       "    </tr>\n",
       "  </tbody>\n",
       "</table>\n",
       "<p>20262 rows × 2 columns</p>\n",
       "</div>"
      ],
      "text/plain": [
       "       ChargingTimeMinutes  user_minutesAvailable\n",
       "0               560.033333                  550.0\n",
       "2               560.033333                  550.0\n",
       "3               560.033333                  550.0\n",
       "6               560.033333                  550.0\n",
       "8               560.033333                  550.0\n",
       "...                    ...                    ...\n",
       "22173           542.716667                  692.0\n",
       "22174           542.716667                  692.0\n",
       "22175           542.716667                  692.0\n",
       "22176           542.716667                  692.0\n",
       "22177          1085.433333                 1384.0\n",
       "\n",
       "[20262 rows x 2 columns]"
      ]
     },
     "execution_count": 6,
     "metadata": {},
     "output_type": "execute_result"
    }
   ],
   "source": [
    "# join charge time per hour with the rest of the charging data\n",
    "X = charging_data.merge(charging_time_per_hour, how = \"outer\", on = \"id\").drop([\"connectionTime\", \"disconnectTime\", \"user_requestedDeparture\", \"id\", \"userID\", \"charging_time_per_hour\", \"month\"], axis = 1)\n",
    "\n",
    "# group columns by timestamps\n",
    "X = X.groupby(\"timestamp\").agg({\"kWhDelivered\": \"sum\",\n",
    "                                     \"ChargingTimeMinutes\": \"sum\",\n",
    "                                     \"user_minutesAvailable\": \"sum\",\n",
    "                                     \"user_milesRequested\": \"sum\",\n",
    "                                     \"user_WhPerMile\": \"mean\"\n",
    "                               })\n",
    "\n",
    "# extract months from timestamp\n",
    "X[\"month\"] = list(map(lambda x: x.month, X.index))\n",
    "\n",
    "# add weather data to feature vector\n",
    "# TODO: find way to fix timestamp issue\n",
    "X = X.merge(weather_data, how = \"left\", on = \"timestamp\").drop_duplicates(\"timestamp\").drop(columns = [\"timestamp\"]).fillna(0).iloc[:, 1:3]\n",
    "X"
   ]
  },
  {
   "cell_type": "markdown",
   "id": "61f48bf0-c897-4527-9611-5c320a1a6fe0",
   "metadata": {},
   "source": [
    "## Cross-validation: split data in training and test set"
   ]
  },
  {
   "cell_type": "code",
   "execution_count": 7,
   "id": "bb93bd16-0ef0-429f-99f3-8e321e0d3d2d",
   "metadata": {},
   "outputs": [
    {
     "data": {
      "text/plain": [
       "numpy.ndarray"
      ]
     },
     "execution_count": 7,
     "metadata": {},
     "output_type": "execute_result"
    }
   ],
   "source": [
    "# Split data into training set and testing set nad normalize\n",
    "scaler = StandardScaler()\n",
    "X_train, X_test, Y_train, Y_test = train_test_split(X, Y, test_size= 0.3, random_state = 30)\n",
    "\n",
    "X_train = scaler.fit_transform(X_train)\n",
    "X_test = scaler.transform(X_test)\n",
    "type(Y_train)"
   ]
  },
  {
   "cell_type": "markdown",
   "id": "498b781d-be0c-4508-bca3-98bafba00e19",
   "metadata": {},
   "source": [
    "## Prediction model 1: Neural Network"
   ]
  },
  {
   "cell_type": "code",
   "execution_count": 8,
   "id": "bffdbc28-bb8f-4796-bffa-233873de78ef",
   "metadata": {},
   "outputs": [],
   "source": [
    "# Build the neural network\n",
    "network = Sequential()\n",
    "\n",
    "# Add layers\n",
    "network.add(Dense(input_shape = (2,), units = 15, activation = \"relu\"))\n",
    "network.add(Dense(units = 15, activation = \"relu\"))\n",
    "network.add(Dense(units = 1, activation = \"sigmoid\"))"
   ]
  },
  {
   "cell_type": "code",
   "execution_count": 9,
   "id": "c6320d30-e2a6-428a-baea-6f3d49f9ff7d",
   "metadata": {},
   "outputs": [],
   "source": [
    "# Compiling the neural network\n",
    "network.compile(optimizer = \"adam\", \n",
    "                   loss = \"mean_squared_error\", \n",
    "                   metrics = [\"mean_squared_error\"])"
   ]
  },
  {
   "cell_type": "code",
   "execution_count": 10,
   "id": "57f59e22-ab85-4da0-9035-66331a770a02",
   "metadata": {},
   "outputs": [
    {
     "data": {
      "text/html": [
       "<pre style=\"white-space:pre;overflow-x:auto;line-height:normal;font-family:Menlo,'DejaVu Sans Mono',consolas,'Courier New',monospace\"><span style=\"font-weight: bold\">Model: \"sequential\"</span>\n",
       "</pre>\n"
      ],
      "text/plain": [
       "\u001b[1mModel: \"sequential\"\u001b[0m\n"
      ]
     },
     "metadata": {},
     "output_type": "display_data"
    },
    {
     "data": {
      "text/html": [
       "<pre style=\"white-space:pre;overflow-x:auto;line-height:normal;font-family:Menlo,'DejaVu Sans Mono',consolas,'Courier New',monospace\">┏━━━━━━━━━━━━━━━━━━━━━━━━━━━━━━━━━━━━┳━━━━━━━━━━━━━━━━━━━━━━━━━━━━━━━┳━━━━━━━━━━━━━┓\n",
       "┃<span style=\"font-weight: bold\"> Layer (type)                       </span>┃<span style=\"font-weight: bold\"> Output Shape                  </span>┃<span style=\"font-weight: bold\">     Param # </span>┃\n",
       "┡━━━━━━━━━━━━━━━━━━━━━━━━━━━━━━━━━━━━╇━━━━━━━━━━━━━━━━━━━━━━━━━━━━━━━╇━━━━━━━━━━━━━┩\n",
       "│ dense (<span style=\"color: #0087ff; text-decoration-color: #0087ff\">Dense</span>)                      │ (<span style=\"color: #00d7ff; text-decoration-color: #00d7ff\">None</span>, <span style=\"color: #00af00; text-decoration-color: #00af00\">15</span>)                    │          <span style=\"color: #00af00; text-decoration-color: #00af00\">45</span> │\n",
       "├────────────────────────────────────┼───────────────────────────────┼─────────────┤\n",
       "│ dense_1 (<span style=\"color: #0087ff; text-decoration-color: #0087ff\">Dense</span>)                    │ (<span style=\"color: #00d7ff; text-decoration-color: #00d7ff\">None</span>, <span style=\"color: #00af00; text-decoration-color: #00af00\">15</span>)                    │         <span style=\"color: #00af00; text-decoration-color: #00af00\">240</span> │\n",
       "├────────────────────────────────────┼───────────────────────────────┼─────────────┤\n",
       "│ dense_2 (<span style=\"color: #0087ff; text-decoration-color: #0087ff\">Dense</span>)                    │ (<span style=\"color: #00d7ff; text-decoration-color: #00d7ff\">None</span>, <span style=\"color: #00af00; text-decoration-color: #00af00\">1</span>)                     │          <span style=\"color: #00af00; text-decoration-color: #00af00\">16</span> │\n",
       "└────────────────────────────────────┴───────────────────────────────┴─────────────┘\n",
       "</pre>\n"
      ],
      "text/plain": [
       "┏━━━━━━━━━━━━━━━━━━━━━━━━━━━━━━━━━━━━┳━━━━━━━━━━━━━━━━━━━━━━━━━━━━━━━┳━━━━━━━━━━━━━┓\n",
       "┃\u001b[1m \u001b[0m\u001b[1mLayer (type)                      \u001b[0m\u001b[1m \u001b[0m┃\u001b[1m \u001b[0m\u001b[1mOutput Shape                 \u001b[0m\u001b[1m \u001b[0m┃\u001b[1m \u001b[0m\u001b[1m    Param #\u001b[0m\u001b[1m \u001b[0m┃\n",
       "┡━━━━━━━━━━━━━━━━━━━━━━━━━━━━━━━━━━━━╇━━━━━━━━━━━━━━━━━━━━━━━━━━━━━━━╇━━━━━━━━━━━━━┩\n",
       "│ dense (\u001b[38;5;33mDense\u001b[0m)                      │ (\u001b[38;5;45mNone\u001b[0m, \u001b[38;5;34m15\u001b[0m)                    │          \u001b[38;5;34m45\u001b[0m │\n",
       "├────────────────────────────────────┼───────────────────────────────┼─────────────┤\n",
       "│ dense_1 (\u001b[38;5;33mDense\u001b[0m)                    │ (\u001b[38;5;45mNone\u001b[0m, \u001b[38;5;34m15\u001b[0m)                    │         \u001b[38;5;34m240\u001b[0m │\n",
       "├────────────────────────────────────┼───────────────────────────────┼─────────────┤\n",
       "│ dense_2 (\u001b[38;5;33mDense\u001b[0m)                    │ (\u001b[38;5;45mNone\u001b[0m, \u001b[38;5;34m1\u001b[0m)                     │          \u001b[38;5;34m16\u001b[0m │\n",
       "└────────────────────────────────────┴───────────────────────────────┴─────────────┘\n"
      ]
     },
     "metadata": {},
     "output_type": "display_data"
    },
    {
     "data": {
      "text/html": [
       "<pre style=\"white-space:pre;overflow-x:auto;line-height:normal;font-family:Menlo,'DejaVu Sans Mono',consolas,'Courier New',monospace\"><span style=\"font-weight: bold\"> Total params: </span><span style=\"color: #00af00; text-decoration-color: #00af00\">301</span> (1.18 KB)\n",
       "</pre>\n"
      ],
      "text/plain": [
       "\u001b[1m Total params: \u001b[0m\u001b[38;5;34m301\u001b[0m (1.18 KB)\n"
      ]
     },
     "metadata": {},
     "output_type": "display_data"
    },
    {
     "data": {
      "text/html": [
       "<pre style=\"white-space:pre;overflow-x:auto;line-height:normal;font-family:Menlo,'DejaVu Sans Mono',consolas,'Courier New',monospace\"><span style=\"font-weight: bold\"> Trainable params: </span><span style=\"color: #00af00; text-decoration-color: #00af00\">301</span> (1.18 KB)\n",
       "</pre>\n"
      ],
      "text/plain": [
       "\u001b[1m Trainable params: \u001b[0m\u001b[38;5;34m301\u001b[0m (1.18 KB)\n"
      ]
     },
     "metadata": {},
     "output_type": "display_data"
    },
    {
     "data": {
      "text/html": [
       "<pre style=\"white-space:pre;overflow-x:auto;line-height:normal;font-family:Menlo,'DejaVu Sans Mono',consolas,'Courier New',monospace\"><span style=\"font-weight: bold\"> Non-trainable params: </span><span style=\"color: #00af00; text-decoration-color: #00af00\">0</span> (0.00 B)\n",
       "</pre>\n"
      ],
      "text/plain": [
       "\u001b[1m Non-trainable params: \u001b[0m\u001b[38;5;34m0\u001b[0m (0.00 B)\n"
      ]
     },
     "metadata": {},
     "output_type": "display_data"
    }
   ],
   "source": [
    "network.summary()"
   ]
  },
  {
   "cell_type": "code",
   "execution_count": 11,
   "id": "dbee9ed4-fad9-4c0a-aa6c-9261dfb49f67",
   "metadata": {},
   "outputs": [
    {
     "name": "stdout",
     "output_type": "stream",
     "text": [
      "Epoch 1/100\n",
      "\u001b[1m284/284\u001b[0m \u001b[32m━━━━━━━━━━━━━━━━━━━━\u001b[0m\u001b[37m\u001b[0m \u001b[1m1s\u001b[0m 4ms/step - loss: 0.0956 - mean_squared_error: 0.0956\n",
      "Epoch 2/100\n",
      "\u001b[1m284/284\u001b[0m \u001b[32m━━━━━━━━━━━━━━━━━━━━\u001b[0m\u001b[37m\u001b[0m \u001b[1m1s\u001b[0m 4ms/step - loss: 0.0047 - mean_squared_error: 0.0047\n",
      "Epoch 3/100\n",
      "\u001b[1m284/284\u001b[0m \u001b[32m━━━━━━━━━━━━━━━━━━━━\u001b[0m\u001b[37m\u001b[0m \u001b[1m1s\u001b[0m 4ms/step - loss: 0.0039 - mean_squared_error: 0.0039\n",
      "Epoch 4/100\n",
      "\u001b[1m284/284\u001b[0m \u001b[32m━━━━━━━━━━━━━━━━━━━━\u001b[0m\u001b[37m\u001b[0m \u001b[1m1s\u001b[0m 4ms/step - loss: 0.0032 - mean_squared_error: 0.0032\n",
      "Epoch 5/100\n",
      "\u001b[1m284/284\u001b[0m \u001b[32m━━━━━━━━━━━━━━━━━━━━\u001b[0m\u001b[37m\u001b[0m \u001b[1m1s\u001b[0m 4ms/step - loss: 0.0033 - mean_squared_error: 0.0033\n",
      "Epoch 6/100\n",
      "\u001b[1m284/284\u001b[0m \u001b[32m━━━━━━━━━━━━━━━━━━━━\u001b[0m\u001b[37m\u001b[0m \u001b[1m1s\u001b[0m 4ms/step - loss: 0.0029 - mean_squared_error: 0.0029\n",
      "Epoch 7/100\n",
      "\u001b[1m284/284\u001b[0m \u001b[32m━━━━━━━━━━━━━━━━━━━━\u001b[0m\u001b[37m\u001b[0m \u001b[1m1s\u001b[0m 4ms/step - loss: 0.0030 - mean_squared_error: 0.0030\n",
      "Epoch 8/100\n",
      "\u001b[1m284/284\u001b[0m \u001b[32m━━━━━━━━━━━━━━━━━━━━\u001b[0m\u001b[37m\u001b[0m \u001b[1m1s\u001b[0m 4ms/step - loss: 0.0029 - mean_squared_error: 0.0029\n",
      "Epoch 9/100\n",
      "\u001b[1m284/284\u001b[0m \u001b[32m━━━━━━━━━━━━━━━━━━━━\u001b[0m\u001b[37m\u001b[0m \u001b[1m1s\u001b[0m 4ms/step - loss: 0.0029 - mean_squared_error: 0.0029\n",
      "Epoch 10/100\n",
      "\u001b[1m284/284\u001b[0m \u001b[32m━━━━━━━━━━━━━━━━━━━━\u001b[0m\u001b[37m\u001b[0m \u001b[1m1s\u001b[0m 4ms/step - loss: 0.0028 - mean_squared_error: 0.0028\n",
      "Epoch 11/100\n",
      "\u001b[1m284/284\u001b[0m \u001b[32m━━━━━━━━━━━━━━━━━━━━\u001b[0m\u001b[37m\u001b[0m \u001b[1m1s\u001b[0m 4ms/step - loss: 0.0029 - mean_squared_error: 0.0029\n",
      "Epoch 12/100\n",
      "\u001b[1m284/284\u001b[0m \u001b[32m━━━━━━━━━━━━━━━━━━━━\u001b[0m\u001b[37m\u001b[0m \u001b[1m1s\u001b[0m 4ms/step - loss: 0.0029 - mean_squared_error: 0.0029\n",
      "Epoch 13/100\n",
      "\u001b[1m284/284\u001b[0m \u001b[32m━━━━━━━━━━━━━━━━━━━━\u001b[0m\u001b[37m\u001b[0m \u001b[1m1s\u001b[0m 5ms/step - loss: 0.0026 - mean_squared_error: 0.0026\n",
      "Epoch 14/100\n",
      "\u001b[1m284/284\u001b[0m \u001b[32m━━━━━━━━━━━━━━━━━━━━\u001b[0m\u001b[37m\u001b[0m \u001b[1m1s\u001b[0m 4ms/step - loss: 0.0029 - mean_squared_error: 0.0029\n",
      "Epoch 15/100\n",
      "\u001b[1m284/284\u001b[0m \u001b[32m━━━━━━━━━━━━━━━━━━━━\u001b[0m\u001b[37m\u001b[0m \u001b[1m1s\u001b[0m 4ms/step - loss: 0.0027 - mean_squared_error: 0.0027\n",
      "Epoch 16/100\n",
      "\u001b[1m284/284\u001b[0m \u001b[32m━━━━━━━━━━━━━━━━━━━━\u001b[0m\u001b[37m\u001b[0m \u001b[1m1s\u001b[0m 4ms/step - loss: 0.0027 - mean_squared_error: 0.0027\n",
      "Epoch 17/100\n",
      "\u001b[1m284/284\u001b[0m \u001b[32m━━━━━━━━━━━━━━━━━━━━\u001b[0m\u001b[37m\u001b[0m \u001b[1m1s\u001b[0m 4ms/step - loss: 0.0027 - mean_squared_error: 0.0027\n",
      "Epoch 18/100\n",
      "\u001b[1m284/284\u001b[0m \u001b[32m━━━━━━━━━━━━━━━━━━━━\u001b[0m\u001b[37m\u001b[0m \u001b[1m1s\u001b[0m 4ms/step - loss: 0.0028 - mean_squared_error: 0.0028\n",
      "Epoch 19/100\n",
      "\u001b[1m284/284\u001b[0m \u001b[32m━━━━━━━━━━━━━━━━━━━━\u001b[0m\u001b[37m\u001b[0m \u001b[1m1s\u001b[0m 4ms/step - loss: 0.0029 - mean_squared_error: 0.0029\n",
      "Epoch 20/100\n",
      "\u001b[1m284/284\u001b[0m \u001b[32m━━━━━━━━━━━━━━━━━━━━\u001b[0m\u001b[37m\u001b[0m \u001b[1m1s\u001b[0m 4ms/step - loss: 0.0028 - mean_squared_error: 0.0028\n",
      "Epoch 21/100\n",
      "\u001b[1m284/284\u001b[0m \u001b[32m━━━━━━━━━━━━━━━━━━━━\u001b[0m\u001b[37m\u001b[0m \u001b[1m1s\u001b[0m 4ms/step - loss: 0.0027 - mean_squared_error: 0.0027\n",
      "Epoch 22/100\n",
      "\u001b[1m284/284\u001b[0m \u001b[32m━━━━━━━━━━━━━━━━━━━━\u001b[0m\u001b[37m\u001b[0m \u001b[1m1s\u001b[0m 4ms/step - loss: 0.0027 - mean_squared_error: 0.0027\n",
      "Epoch 23/100\n",
      "\u001b[1m284/284\u001b[0m \u001b[32m━━━━━━━━━━━━━━━━━━━━\u001b[0m\u001b[37m\u001b[0m \u001b[1m1s\u001b[0m 4ms/step - loss: 0.0029 - mean_squared_error: 0.0029\n",
      "Epoch 24/100\n",
      "\u001b[1m284/284\u001b[0m \u001b[32m━━━━━━━━━━━━━━━━━━━━\u001b[0m\u001b[37m\u001b[0m \u001b[1m1s\u001b[0m 4ms/step - loss: 0.0027 - mean_squared_error: 0.0027\n",
      "Epoch 25/100\n",
      "\u001b[1m284/284\u001b[0m \u001b[32m━━━━━━━━━━━━━━━━━━━━\u001b[0m\u001b[37m\u001b[0m \u001b[1m1s\u001b[0m 4ms/step - loss: 0.0028 - mean_squared_error: 0.0028\n",
      "Epoch 26/100\n",
      "\u001b[1m284/284\u001b[0m \u001b[32m━━━━━━━━━━━━━━━━━━━━\u001b[0m\u001b[37m\u001b[0m \u001b[1m1s\u001b[0m 4ms/step - loss: 0.0029 - mean_squared_error: 0.0029\n",
      "Epoch 27/100\n",
      "\u001b[1m284/284\u001b[0m \u001b[32m━━━━━━━━━━━━━━━━━━━━\u001b[0m\u001b[37m\u001b[0m \u001b[1m1s\u001b[0m 4ms/step - loss: 0.0026 - mean_squared_error: 0.0026\n",
      "Epoch 28/100\n",
      "\u001b[1m284/284\u001b[0m \u001b[32m━━━━━━━━━━━━━━━━━━━━\u001b[0m\u001b[37m\u001b[0m \u001b[1m1s\u001b[0m 4ms/step - loss: 0.0027 - mean_squared_error: 0.0027\n",
      "Epoch 29/100\n",
      "\u001b[1m284/284\u001b[0m \u001b[32m━━━━━━━━━━━━━━━━━━━━\u001b[0m\u001b[37m\u001b[0m \u001b[1m1s\u001b[0m 4ms/step - loss: 0.0028 - mean_squared_error: 0.0028\n",
      "Epoch 30/100\n",
      "\u001b[1m284/284\u001b[0m \u001b[32m━━━━━━━━━━━━━━━━━━━━\u001b[0m\u001b[37m\u001b[0m \u001b[1m1s\u001b[0m 4ms/step - loss: 0.0027 - mean_squared_error: 0.0027\n",
      "Epoch 31/100\n",
      "\u001b[1m284/284\u001b[0m \u001b[32m━━━━━━━━━━━━━━━━━━━━\u001b[0m\u001b[37m\u001b[0m \u001b[1m1s\u001b[0m 4ms/step - loss: 0.0027 - mean_squared_error: 0.0027\n",
      "Epoch 32/100\n",
      "\u001b[1m284/284\u001b[0m \u001b[32m━━━━━━━━━━━━━━━━━━━━\u001b[0m\u001b[37m\u001b[0m \u001b[1m1s\u001b[0m 4ms/step - loss: 0.0026 - mean_squared_error: 0.0026\n",
      "Epoch 33/100\n",
      "\u001b[1m284/284\u001b[0m \u001b[32m━━━━━━━━━━━━━━━━━━━━\u001b[0m\u001b[37m\u001b[0m \u001b[1m1s\u001b[0m 4ms/step - loss: 0.0029 - mean_squared_error: 0.0029\n",
      "Epoch 34/100\n",
      "\u001b[1m284/284\u001b[0m \u001b[32m━━━━━━━━━━━━━━━━━━━━\u001b[0m\u001b[37m\u001b[0m \u001b[1m1s\u001b[0m 4ms/step - loss: 0.0028 - mean_squared_error: 0.0028\n",
      "Epoch 35/100\n",
      "\u001b[1m284/284\u001b[0m \u001b[32m━━━━━━━━━━━━━━━━━━━━\u001b[0m\u001b[37m\u001b[0m \u001b[1m1s\u001b[0m 4ms/step - loss: 0.0028 - mean_squared_error: 0.0028\n",
      "Epoch 36/100\n",
      "\u001b[1m284/284\u001b[0m \u001b[32m━━━━━━━━━━━━━━━━━━━━\u001b[0m\u001b[37m\u001b[0m \u001b[1m1s\u001b[0m 4ms/step - loss: 0.0028 - mean_squared_error: 0.0028\n",
      "Epoch 37/100\n",
      "\u001b[1m284/284\u001b[0m \u001b[32m━━━━━━━━━━━━━━━━━━━━\u001b[0m\u001b[37m\u001b[0m \u001b[1m1s\u001b[0m 4ms/step - loss: 0.0028 - mean_squared_error: 0.0028\n",
      "Epoch 38/100\n",
      "\u001b[1m284/284\u001b[0m \u001b[32m━━━━━━━━━━━━━━━━━━━━\u001b[0m\u001b[37m\u001b[0m \u001b[1m1s\u001b[0m 4ms/step - loss: 0.0028 - mean_squared_error: 0.0028\n",
      "Epoch 39/100\n",
      "\u001b[1m284/284\u001b[0m \u001b[32m━━━━━━━━━━━━━━━━━━━━\u001b[0m\u001b[37m\u001b[0m \u001b[1m1s\u001b[0m 4ms/step - loss: 0.0028 - mean_squared_error: 0.0028\n",
      "Epoch 40/100\n",
      "\u001b[1m284/284\u001b[0m \u001b[32m━━━━━━━━━━━━━━━━━━━━\u001b[0m\u001b[37m\u001b[0m \u001b[1m1s\u001b[0m 4ms/step - loss: 0.0026 - mean_squared_error: 0.0026\n",
      "Epoch 41/100\n",
      "\u001b[1m284/284\u001b[0m \u001b[32m━━━━━━━━━━━━━━━━━━━━\u001b[0m\u001b[37m\u001b[0m \u001b[1m1s\u001b[0m 4ms/step - loss: 0.0028 - mean_squared_error: 0.0028\n",
      "Epoch 42/100\n",
      "\u001b[1m284/284\u001b[0m \u001b[32m━━━━━━━━━━━━━━━━━━━━\u001b[0m\u001b[37m\u001b[0m \u001b[1m1s\u001b[0m 4ms/step - loss: 0.0027 - mean_squared_error: 0.0027\n",
      "Epoch 43/100\n",
      "\u001b[1m284/284\u001b[0m \u001b[32m━━━━━━━━━━━━━━━━━━━━\u001b[0m\u001b[37m\u001b[0m \u001b[1m1s\u001b[0m 4ms/step - loss: 0.0027 - mean_squared_error: 0.0027\n",
      "Epoch 44/100\n",
      "\u001b[1m284/284\u001b[0m \u001b[32m━━━━━━━━━━━━━━━━━━━━\u001b[0m\u001b[37m\u001b[0m \u001b[1m1s\u001b[0m 4ms/step - loss: 0.0026 - mean_squared_error: 0.0026\n",
      "Epoch 45/100\n",
      "\u001b[1m284/284\u001b[0m \u001b[32m━━━━━━━━━━━━━━━━━━━━\u001b[0m\u001b[37m\u001b[0m \u001b[1m1s\u001b[0m 4ms/step - loss: 0.0026 - mean_squared_error: 0.0026\n",
      "Epoch 46/100\n",
      "\u001b[1m284/284\u001b[0m \u001b[32m━━━━━━━━━━━━━━━━━━━━\u001b[0m\u001b[37m\u001b[0m \u001b[1m1s\u001b[0m 4ms/step - loss: 0.0027 - mean_squared_error: 0.0027\n",
      "Epoch 47/100\n",
      "\u001b[1m284/284\u001b[0m \u001b[32m━━━━━━━━━━━━━━━━━━━━\u001b[0m\u001b[37m\u001b[0m \u001b[1m1s\u001b[0m 4ms/step - loss: 0.0026 - mean_squared_error: 0.0026\n",
      "Epoch 48/100\n",
      "\u001b[1m284/284\u001b[0m \u001b[32m━━━━━━━━━━━━━━━━━━━━\u001b[0m\u001b[37m\u001b[0m \u001b[1m1s\u001b[0m 4ms/step - loss: 0.0027 - mean_squared_error: 0.0027\n",
      "Epoch 49/100\n",
      "\u001b[1m284/284\u001b[0m \u001b[32m━━━━━━━━━━━━━━━━━━━━\u001b[0m\u001b[37m\u001b[0m \u001b[1m1s\u001b[0m 4ms/step - loss: 0.0027 - mean_squared_error: 0.0027\n",
      "Epoch 50/100\n",
      "\u001b[1m284/284\u001b[0m \u001b[32m━━━━━━━━━━━━━━━━━━━━\u001b[0m\u001b[37m\u001b[0m \u001b[1m1s\u001b[0m 4ms/step - loss: 0.0027 - mean_squared_error: 0.0027\n",
      "Epoch 51/100\n",
      "\u001b[1m284/284\u001b[0m \u001b[32m━━━━━━━━━━━━━━━━━━━━\u001b[0m\u001b[37m\u001b[0m \u001b[1m1s\u001b[0m 4ms/step - loss: 0.0026 - mean_squared_error: 0.0026\n",
      "Epoch 52/100\n",
      "\u001b[1m284/284\u001b[0m \u001b[32m━━━━━━━━━━━━━━━━━━━━\u001b[0m\u001b[37m\u001b[0m \u001b[1m1s\u001b[0m 4ms/step - loss: 0.0027 - mean_squared_error: 0.0027\n",
      "Epoch 53/100\n",
      "\u001b[1m284/284\u001b[0m \u001b[32m━━━━━━━━━━━━━━━━━━━━\u001b[0m\u001b[37m\u001b[0m \u001b[1m1s\u001b[0m 4ms/step - loss: 0.0026 - mean_squared_error: 0.0026\n",
      "Epoch 54/100\n",
      "\u001b[1m284/284\u001b[0m \u001b[32m━━━━━━━━━━━━━━━━━━━━\u001b[0m\u001b[37m\u001b[0m \u001b[1m1s\u001b[0m 4ms/step - loss: 0.0027 - mean_squared_error: 0.0027\n",
      "Epoch 55/100\n",
      "\u001b[1m284/284\u001b[0m \u001b[32m━━━━━━━━━━━━━━━━━━━━\u001b[0m\u001b[37m\u001b[0m \u001b[1m1s\u001b[0m 4ms/step - loss: 0.0026 - mean_squared_error: 0.0026\n",
      "Epoch 56/100\n",
      "\u001b[1m284/284\u001b[0m \u001b[32m━━━━━━━━━━━━━━━━━━━━\u001b[0m\u001b[37m\u001b[0m \u001b[1m1s\u001b[0m 4ms/step - loss: 0.0028 - mean_squared_error: 0.0028\n",
      "Epoch 57/100\n",
      "\u001b[1m284/284\u001b[0m \u001b[32m━━━━━━━━━━━━━━━━━━━━\u001b[0m\u001b[37m\u001b[0m \u001b[1m1s\u001b[0m 4ms/step - loss: 0.0027 - mean_squared_error: 0.0027\n",
      "Epoch 58/100\n",
      "\u001b[1m284/284\u001b[0m \u001b[32m━━━━━━━━━━━━━━━━━━━━\u001b[0m\u001b[37m\u001b[0m \u001b[1m1s\u001b[0m 4ms/step - loss: 0.0028 - mean_squared_error: 0.0028\n",
      "Epoch 59/100\n",
      "\u001b[1m284/284\u001b[0m \u001b[32m━━━━━━━━━━━━━━━━━━━━\u001b[0m\u001b[37m\u001b[0m \u001b[1m1s\u001b[0m 4ms/step - loss: 0.0026 - mean_squared_error: 0.0026\n",
      "Epoch 60/100\n",
      "\u001b[1m284/284\u001b[0m \u001b[32m━━━━━━━━━━━━━━━━━━━━\u001b[0m\u001b[37m\u001b[0m \u001b[1m1s\u001b[0m 4ms/step - loss: 0.0027 - mean_squared_error: 0.0027\n",
      "Epoch 61/100\n",
      "\u001b[1m284/284\u001b[0m \u001b[32m━━━━━━━━━━━━━━━━━━━━\u001b[0m\u001b[37m\u001b[0m \u001b[1m1s\u001b[0m 4ms/step - loss: 0.0027 - mean_squared_error: 0.0027\n",
      "Epoch 62/100\n",
      "\u001b[1m284/284\u001b[0m \u001b[32m━━━━━━━━━━━━━━━━━━━━\u001b[0m\u001b[37m\u001b[0m \u001b[1m1s\u001b[0m 4ms/step - loss: 0.0027 - mean_squared_error: 0.0027\n",
      "Epoch 63/100\n",
      "\u001b[1m284/284\u001b[0m \u001b[32m━━━━━━━━━━━━━━━━━━━━\u001b[0m\u001b[37m\u001b[0m \u001b[1m1s\u001b[0m 4ms/step - loss: 0.0026 - mean_squared_error: 0.0026\n",
      "Epoch 64/100\n",
      "\u001b[1m284/284\u001b[0m \u001b[32m━━━━━━━━━━━━━━━━━━━━\u001b[0m\u001b[37m\u001b[0m \u001b[1m1s\u001b[0m 4ms/step - loss: 0.0027 - mean_squared_error: 0.0027\n",
      "Epoch 65/100\n",
      "\u001b[1m284/284\u001b[0m \u001b[32m━━━━━━━━━━━━━━━━━━━━\u001b[0m\u001b[37m\u001b[0m \u001b[1m1s\u001b[0m 4ms/step - loss: 0.0026 - mean_squared_error: 0.0026\n",
      "Epoch 66/100\n",
      "\u001b[1m284/284\u001b[0m \u001b[32m━━━━━━━━━━━━━━━━━━━━\u001b[0m\u001b[37m\u001b[0m \u001b[1m1s\u001b[0m 4ms/step - loss: 0.0028 - mean_squared_error: 0.0028\n",
      "Epoch 67/100\n",
      "\u001b[1m284/284\u001b[0m \u001b[32m━━━━━━━━━━━━━━━━━━━━\u001b[0m\u001b[37m\u001b[0m \u001b[1m1s\u001b[0m 4ms/step - loss: 0.0026 - mean_squared_error: 0.0026\n",
      "Epoch 68/100\n",
      "\u001b[1m284/284\u001b[0m \u001b[32m━━━━━━━━━━━━━━━━━━━━\u001b[0m\u001b[37m\u001b[0m \u001b[1m1s\u001b[0m 4ms/step - loss: 0.0027 - mean_squared_error: 0.0027\n",
      "Epoch 69/100\n",
      "\u001b[1m284/284\u001b[0m \u001b[32m━━━━━━━━━━━━━━━━━━━━\u001b[0m\u001b[37m\u001b[0m \u001b[1m1s\u001b[0m 4ms/step - loss: 0.0025 - mean_squared_error: 0.0025\n",
      "Epoch 70/100\n",
      "\u001b[1m284/284\u001b[0m \u001b[32m━━━━━━━━━━━━━━━━━━━━\u001b[0m\u001b[37m\u001b[0m \u001b[1m1s\u001b[0m 4ms/step - loss: 0.0026 - mean_squared_error: 0.0026\n",
      "Epoch 71/100\n",
      "\u001b[1m284/284\u001b[0m \u001b[32m━━━━━━━━━━━━━━━━━━━━\u001b[0m\u001b[37m\u001b[0m \u001b[1m1s\u001b[0m 4ms/step - loss: 0.0027 - mean_squared_error: 0.0027\n",
      "Epoch 72/100\n",
      "\u001b[1m284/284\u001b[0m \u001b[32m━━━━━━━━━━━━━━━━━━━━\u001b[0m\u001b[37m\u001b[0m \u001b[1m1s\u001b[0m 4ms/step - loss: 0.0028 - mean_squared_error: 0.0028\n",
      "Epoch 73/100\n",
      "\u001b[1m284/284\u001b[0m \u001b[32m━━━━━━━━━━━━━━━━━━━━\u001b[0m\u001b[37m\u001b[0m \u001b[1m1s\u001b[0m 4ms/step - loss: 0.0027 - mean_squared_error: 0.0027\n",
      "Epoch 74/100\n",
      "\u001b[1m284/284\u001b[0m \u001b[32m━━━━━━━━━━━━━━━━━━━━\u001b[0m\u001b[37m\u001b[0m \u001b[1m1s\u001b[0m 4ms/step - loss: 0.0027 - mean_squared_error: 0.0027\n",
      "Epoch 75/100\n",
      "\u001b[1m284/284\u001b[0m \u001b[32m━━━━━━━━━━━━━━━━━━━━\u001b[0m\u001b[37m\u001b[0m \u001b[1m1s\u001b[0m 4ms/step - loss: 0.0027 - mean_squared_error: 0.0027\n",
      "Epoch 76/100\n",
      "\u001b[1m284/284\u001b[0m \u001b[32m━━━━━━━━━━━━━━━━━━━━\u001b[0m\u001b[37m\u001b[0m \u001b[1m1s\u001b[0m 4ms/step - loss: 0.0027 - mean_squared_error: 0.0027\n",
      "Epoch 77/100\n",
      "\u001b[1m284/284\u001b[0m \u001b[32m━━━━━━━━━━━━━━━━━━━━\u001b[0m\u001b[37m\u001b[0m \u001b[1m1s\u001b[0m 4ms/step - loss: 0.0027 - mean_squared_error: 0.0027\n",
      "Epoch 78/100\n",
      "\u001b[1m284/284\u001b[0m \u001b[32m━━━━━━━━━━━━━━━━━━━━\u001b[0m\u001b[37m\u001b[0m \u001b[1m1s\u001b[0m 4ms/step - loss: 0.0027 - mean_squared_error: 0.0027\n",
      "Epoch 79/100\n",
      "\u001b[1m284/284\u001b[0m \u001b[32m━━━━━━━━━━━━━━━━━━━━\u001b[0m\u001b[37m\u001b[0m \u001b[1m1s\u001b[0m 4ms/step - loss: 0.0027 - mean_squared_error: 0.0027\n",
      "Epoch 80/100\n",
      "\u001b[1m284/284\u001b[0m \u001b[32m━━━━━━━━━━━━━━━━━━━━\u001b[0m\u001b[37m\u001b[0m \u001b[1m1s\u001b[0m 4ms/step - loss: 0.0027 - mean_squared_error: 0.0027\n",
      "Epoch 81/100\n",
      "\u001b[1m284/284\u001b[0m \u001b[32m━━━━━━━━━━━━━━━━━━━━\u001b[0m\u001b[37m\u001b[0m \u001b[1m1s\u001b[0m 4ms/step - loss: 0.0026 - mean_squared_error: 0.0026\n",
      "Epoch 82/100\n",
      "\u001b[1m284/284\u001b[0m \u001b[32m━━━━━━━━━━━━━━━━━━━━\u001b[0m\u001b[37m\u001b[0m \u001b[1m1s\u001b[0m 4ms/step - loss: 0.0027 - mean_squared_error: 0.0027\n",
      "Epoch 83/100\n",
      "\u001b[1m284/284\u001b[0m \u001b[32m━━━━━━━━━━━━━━━━━━━━\u001b[0m\u001b[37m\u001b[0m \u001b[1m1s\u001b[0m 4ms/step - loss: 0.0026 - mean_squared_error: 0.0026\n",
      "Epoch 84/100\n",
      "\u001b[1m284/284\u001b[0m \u001b[32m━━━━━━━━━━━━━━━━━━━━\u001b[0m\u001b[37m\u001b[0m \u001b[1m1s\u001b[0m 4ms/step - loss: 0.0027 - mean_squared_error: 0.0027\n",
      "Epoch 85/100\n",
      "\u001b[1m284/284\u001b[0m \u001b[32m━━━━━━━━━━━━━━━━━━━━\u001b[0m\u001b[37m\u001b[0m \u001b[1m1s\u001b[0m 4ms/step - loss: 0.0027 - mean_squared_error: 0.0027\n",
      "Epoch 86/100\n",
      "\u001b[1m284/284\u001b[0m \u001b[32m━━━━━━━━━━━━━━━━━━━━\u001b[0m\u001b[37m\u001b[0m \u001b[1m1s\u001b[0m 4ms/step - loss: 0.0026 - mean_squared_error: 0.0026\n",
      "Epoch 87/100\n",
      "\u001b[1m284/284\u001b[0m \u001b[32m━━━━━━━━━━━━━━━━━━━━\u001b[0m\u001b[37m\u001b[0m \u001b[1m1s\u001b[0m 4ms/step - loss: 0.0027 - mean_squared_error: 0.0027\n",
      "Epoch 88/100\n",
      "\u001b[1m284/284\u001b[0m \u001b[32m━━━━━━━━━━━━━━━━━━━━\u001b[0m\u001b[37m\u001b[0m \u001b[1m1s\u001b[0m 4ms/step - loss: 0.0028 - mean_squared_error: 0.0028\n",
      "Epoch 89/100\n",
      "\u001b[1m284/284\u001b[0m \u001b[32m━━━━━━━━━━━━━━━━━━━━\u001b[0m\u001b[37m\u001b[0m \u001b[1m1s\u001b[0m 4ms/step - loss: 0.0027 - mean_squared_error: 0.0027\n",
      "Epoch 90/100\n",
      "\u001b[1m284/284\u001b[0m \u001b[32m━━━━━━━━━━━━━━━━━━━━\u001b[0m\u001b[37m\u001b[0m \u001b[1m1s\u001b[0m 4ms/step - loss: 0.0027 - mean_squared_error: 0.0027\n",
      "Epoch 91/100\n",
      "\u001b[1m284/284\u001b[0m \u001b[32m━━━━━━━━━━━━━━━━━━━━\u001b[0m\u001b[37m\u001b[0m \u001b[1m1s\u001b[0m 4ms/step - loss: 0.0028 - mean_squared_error: 0.0028\n",
      "Epoch 92/100\n",
      "\u001b[1m284/284\u001b[0m \u001b[32m━━━━━━━━━━━━━━━━━━━━\u001b[0m\u001b[37m\u001b[0m \u001b[1m1s\u001b[0m 4ms/step - loss: 0.0027 - mean_squared_error: 0.0027\n",
      "Epoch 93/100\n",
      "\u001b[1m284/284\u001b[0m \u001b[32m━━━━━━━━━━━━━━━━━━━━\u001b[0m\u001b[37m\u001b[0m \u001b[1m1s\u001b[0m 4ms/step - loss: 0.0027 - mean_squared_error: 0.0027\n",
      "Epoch 94/100\n",
      "\u001b[1m284/284\u001b[0m \u001b[32m━━━━━━━━━━━━━━━━━━━━\u001b[0m\u001b[37m\u001b[0m \u001b[1m1s\u001b[0m 4ms/step - loss: 0.0027 - mean_squared_error: 0.0027\n",
      "Epoch 95/100\n",
      "\u001b[1m284/284\u001b[0m \u001b[32m━━━━━━━━━━━━━━━━━━━━\u001b[0m\u001b[37m\u001b[0m \u001b[1m1s\u001b[0m 4ms/step - loss: 0.0026 - mean_squared_error: 0.0026\n",
      "Epoch 96/100\n",
      "\u001b[1m284/284\u001b[0m \u001b[32m━━━━━━━━━━━━━━━━━━━━\u001b[0m\u001b[37m\u001b[0m \u001b[1m1s\u001b[0m 4ms/step - loss: 0.0027 - mean_squared_error: 0.0027\n",
      "Epoch 97/100\n",
      "\u001b[1m284/284\u001b[0m \u001b[32m━━━━━━━━━━━━━━━━━━━━\u001b[0m\u001b[37m\u001b[0m \u001b[1m1s\u001b[0m 4ms/step - loss: 0.0026 - mean_squared_error: 0.0026\n",
      "Epoch 98/100\n",
      "\u001b[1m284/284\u001b[0m \u001b[32m━━━━━━━━━━━━━━━━━━━━\u001b[0m\u001b[37m\u001b[0m \u001b[1m1s\u001b[0m 4ms/step - loss: 0.0027 - mean_squared_error: 0.0027\n",
      "Epoch 99/100\n",
      "\u001b[1m284/284\u001b[0m \u001b[32m━━━━━━━━━━━━━━━━━━━━\u001b[0m\u001b[37m\u001b[0m \u001b[1m1s\u001b[0m 4ms/step - loss: 0.0028 - mean_squared_error: 0.0028\n",
      "Epoch 100/100\n",
      "\u001b[1m284/284\u001b[0m \u001b[32m━━━━━━━━━━━━━━━━━━━━\u001b[0m\u001b[37m\u001b[0m \u001b[1m1s\u001b[0m 4ms/step - loss: 0.0027 - mean_squared_error: 0.0027\n"
     ]
    },
    {
     "data": {
      "text/plain": [
       "<keras.src.callbacks.history.History at 0x1d89a8aa080>"
      ]
     },
     "execution_count": 11,
     "metadata": {},
     "output_type": "execute_result"
    }
   ],
   "source": [
    "# Fitting the Neural Network\n",
    "network.fit(X_train, Y_train, batch_size=50, epochs=100)"
   ]
  },
  {
   "cell_type": "code",
   "execution_count": 12,
   "id": "a1111e58-8634-497b-9743-7e315178e3e7",
   "metadata": {},
   "outputs": [
    {
     "name": "stdout",
     "output_type": "stream",
     "text": [
      "\u001b[1m190/190\u001b[0m \u001b[32m━━━━━━━━━━━━━━━━━━━━\u001b[0m\u001b[37m\u001b[0m \u001b[1m0s\u001b[0m 1ms/step\n",
      "\u001b[1m190/190\u001b[0m \u001b[32m━━━━━━━━━━━━━━━━━━━━\u001b[0m\u001b[37m\u001b[0m \u001b[1m0s\u001b[0m 1ms/step\n",
      "\u001b[1m190/190\u001b[0m \u001b[32m━━━━━━━━━━━━━━━━━━━━\u001b[0m\u001b[37m\u001b[0m \u001b[1m0s\u001b[0m 1ms/step\n",
      "0.002697558347476888\n",
      "0.028930429960104295\n",
      "0.0013353192003421727\n"
     ]
    }
   ],
   "source": [
    "from sklearn.metrics import mean_squared_error\n",
    "from sklearn.metrics import mean_absolute_error\n",
    "from sklearn.metrics import mean_squared_log_error\n",
    "\n",
    "mean_squared_error = mean_squared_error(Y_test, network.predict(X_test))\n",
    "mean_absolute_error = mean_absolute_error(Y_test, network.predict(X_test))\n",
    "mean_squared_log_error = mean_squared_log_error(Y_test, network.predict(X_test))\n",
    "print(mean_squared_error)\n",
    "print(mean_absolute_error)\n",
    "print(mean_squared_log_error)"
   ]
  },
  {
   "cell_type": "code",
   "execution_count": null,
   "id": "066bf07a-ed5a-44ec-8bad-e0b4261e13cf",
   "metadata": {},
   "outputs": [],
   "source": []
  }
 ],
 "metadata": {
  "kernelspec": {
   "display_name": "Python 3 (ipykernel)",
   "language": "python",
   "name": "python3"
  },
  "language_info": {
   "codemirror_mode": {
    "name": "ipython",
    "version": 3
   },
   "file_extension": ".py",
   "mimetype": "text/x-python",
   "name": "python",
   "nbconvert_exporter": "python",
   "pygments_lexer": "ipython3",
   "version": "3.10.13"
  }
 },
 "nbformat": 4,
 "nbformat_minor": 5
}
