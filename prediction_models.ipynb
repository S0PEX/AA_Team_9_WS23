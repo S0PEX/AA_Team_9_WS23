{
 "cells": [
  {
   "cell_type": "markdown",
   "id": "4666d241-90a4-404b-91af-fc282125e11d",
   "metadata": {},
   "source": [
    "# Utilization Prediction: Prediction of hourly utilization of the two sites"
   ]
  },
  {
   "cell_type": "markdown",
   "id": "6f645e26-6b9e-427b-ac6b-65d07935421f",
   "metadata": {},
   "source": [
    "## Import libraries"
   ]
  },
  {
   "cell_type": "code",
   "execution_count": 1,
   "id": "cc6bba7b-e95d-4f60-ada0-eb8c76dc972a",
   "metadata": {},
   "outputs": [],
   "source": [
    "import numpy as np\n",
    "import matplotlib.pyplot as plt\n",
    "import pandas as pd\n",
    "\n",
    "import os\n",
    "os.environ[\"KERAS_BACKEND\"] = \"torch\"\n",
    "\n",
    "import keras\n",
    "from keras import Sequential\n",
    "from keras.layers import Dense, Dropout\n",
    "\n",
    "import warnings\n",
    "warnings.filterwarnings(\"ignore\")\n",
    "\n",
    "from sklearn.model_selection import train_test_split\n",
    "from sklearn.preprocessing import StandardScaler\n",
    "\n",
    "%matplotlib inline"
   ]
  },
  {
   "cell_type": "markdown",
   "id": "bfa77ae0-e0f7-449a-ae5d-34e6ba603e1e",
   "metadata": {},
   "source": [
    "## Load and prepare data"
   ]
  },
  {
   "cell_type": "code",
   "execution_count": 2,
   "id": "9c2431fa-4a60-4913-a7fe-229115b2997b",
   "metadata": {
    "scrolled": true
   },
   "outputs": [
    {
     "data": {
      "text/html": [
       "<div>\n",
       "<style scoped>\n",
       "    .dataframe tbody tr th:only-of-type {\n",
       "        vertical-align: middle;\n",
       "    }\n",
       "\n",
       "    .dataframe tbody tr th {\n",
       "        vertical-align: top;\n",
       "    }\n",
       "\n",
       "    .dataframe thead th {\n",
       "        text-align: right;\n",
       "    }\n",
       "</style>\n",
       "<table border=\"1\" class=\"dataframe\">\n",
       "  <thead>\n",
       "    <tr style=\"text-align: right;\">\n",
       "      <th></th>\n",
       "      <th>connectionTime</th>\n",
       "      <th>doneChargingTime</th>\n",
       "      <th>kWhDelivered</th>\n",
       "      <th>siteID</th>\n",
       "      <th>kWhPerMinute</th>\n",
       "      <th>user_WhPerMile</th>\n",
       "      <th>id</th>\n",
       "    </tr>\n",
       "  </thead>\n",
       "  <tbody>\n",
       "    <tr>\n",
       "      <th>0</th>\n",
       "      <td>2018-04-30 15:07:49+00:00</td>\n",
       "      <td>2018-05-01 00:27:51+00:00</td>\n",
       "      <td>47.808</td>\n",
       "      <td>2</td>\n",
       "      <td>0.085366</td>\n",
       "      <td>350.0</td>\n",
       "      <td>0</td>\n",
       "    </tr>\n",
       "    <tr>\n",
       "      <th>1</th>\n",
       "      <td>2018-05-07 14:38:18+00:00</td>\n",
       "      <td>2018-05-08 01:14:53+00:00</td>\n",
       "      <td>27.683</td>\n",
       "      <td>2</td>\n",
       "      <td>0.043487</td>\n",
       "      <td>400.0</td>\n",
       "      <td>1</td>\n",
       "    </tr>\n",
       "    <tr>\n",
       "      <th>2</th>\n",
       "      <td>2018-05-11 15:17:01+00:00</td>\n",
       "      <td>2018-05-11 23:05:56+00:00</td>\n",
       "      <td>17.485</td>\n",
       "      <td>2</td>\n",
       "      <td>0.037288</td>\n",
       "      <td>350.0</td>\n",
       "      <td>2</td>\n",
       "    </tr>\n",
       "    <tr>\n",
       "      <th>3</th>\n",
       "      <td>2018-05-14 13:50:26+00:00</td>\n",
       "      <td>2018-05-14 20:43:40+00:00</td>\n",
       "      <td>11.795</td>\n",
       "      <td>2</td>\n",
       "      <td>0.028543</td>\n",
       "      <td>400.0</td>\n",
       "      <td>3</td>\n",
       "    </tr>\n",
       "    <tr>\n",
       "      <th>4</th>\n",
       "      <td>2018-05-15 00:06:39+00:00</td>\n",
       "      <td>2018-05-15 00:39:01+00:00</td>\n",
       "      <td>3.076</td>\n",
       "      <td>2</td>\n",
       "      <td>0.095036</td>\n",
       "      <td>250.0</td>\n",
       "      <td>4</td>\n",
       "    </tr>\n",
       "    <tr>\n",
       "      <th>...</th>\n",
       "      <td>...</td>\n",
       "      <td>...</td>\n",
       "      <td>...</td>\n",
       "      <td>...</td>\n",
       "      <td>...</td>\n",
       "      <td>...</td>\n",
       "      <td>...</td>\n",
       "    </tr>\n",
       "    <tr>\n",
       "      <th>31665</th>\n",
       "      <td>2019-12-20 13:52:05+00:00</td>\n",
       "      <td>2019-12-20 17:42:07+00:00</td>\n",
       "      <td>11.190</td>\n",
       "      <td>1</td>\n",
       "      <td>0.048645</td>\n",
       "      <td>600.0</td>\n",
       "      <td>31665</td>\n",
       "    </tr>\n",
       "    <tr>\n",
       "      <th>31666</th>\n",
       "      <td>2019-12-20 14:24:31+00:00</td>\n",
       "      <td>2019-12-20 16:44:51+00:00</td>\n",
       "      <td>13.371</td>\n",
       "      <td>1</td>\n",
       "      <td>0.095280</td>\n",
       "      <td>400.0</td>\n",
       "      <td>31666</td>\n",
       "    </tr>\n",
       "    <tr>\n",
       "      <th>31667</th>\n",
       "      <td>2019-12-20 15:15:33+00:00</td>\n",
       "      <td>2019-12-20 22:53:22+00:00</td>\n",
       "      <td>36.269</td>\n",
       "      <td>1</td>\n",
       "      <td>0.079222</td>\n",
       "      <td>333.0</td>\n",
       "      <td>31667</td>\n",
       "    </tr>\n",
       "    <tr>\n",
       "      <th>31668</th>\n",
       "      <td>2019-12-20 15:43:42+00:00</td>\n",
       "      <td>2019-12-20 17:29:05+00:00</td>\n",
       "      <td>5.054</td>\n",
       "      <td>1</td>\n",
       "      <td>0.047958</td>\n",
       "      <td>333.0</td>\n",
       "      <td>31668</td>\n",
       "    </tr>\n",
       "    <tr>\n",
       "      <th>31669</th>\n",
       "      <td>2019-12-20 16:15:12+00:00</td>\n",
       "      <td>2019-12-20 22:55:13+00:00</td>\n",
       "      <td>41.836</td>\n",
       "      <td>1</td>\n",
       "      <td>0.104586</td>\n",
       "      <td>250.0</td>\n",
       "      <td>31669</td>\n",
       "    </tr>\n",
       "  </tbody>\n",
       "</table>\n",
       "<p>31670 rows × 7 columns</p>\n",
       "</div>"
      ],
      "text/plain": [
       "                 connectionTime          doneChargingTime  kWhDelivered  \\\n",
       "0     2018-04-30 15:07:49+00:00 2018-05-01 00:27:51+00:00        47.808   \n",
       "1     2018-05-07 14:38:18+00:00 2018-05-08 01:14:53+00:00        27.683   \n",
       "2     2018-05-11 15:17:01+00:00 2018-05-11 23:05:56+00:00        17.485   \n",
       "3     2018-05-14 13:50:26+00:00 2018-05-14 20:43:40+00:00        11.795   \n",
       "4     2018-05-15 00:06:39+00:00 2018-05-15 00:39:01+00:00         3.076   \n",
       "...                         ...                       ...           ...   \n",
       "31665 2019-12-20 13:52:05+00:00 2019-12-20 17:42:07+00:00        11.190   \n",
       "31666 2019-12-20 14:24:31+00:00 2019-12-20 16:44:51+00:00        13.371   \n",
       "31667 2019-12-20 15:15:33+00:00 2019-12-20 22:53:22+00:00        36.269   \n",
       "31668 2019-12-20 15:43:42+00:00 2019-12-20 17:29:05+00:00         5.054   \n",
       "31669 2019-12-20 16:15:12+00:00 2019-12-20 22:55:13+00:00        41.836   \n",
       "\n",
       "       siteID  kWhPerMinute  user_WhPerMile     id  \n",
       "0           2      0.085366           350.0      0  \n",
       "1           2      0.043487           400.0      1  \n",
       "2           2      0.037288           350.0      2  \n",
       "3           2      0.028543           400.0      3  \n",
       "4           2      0.095036           250.0      4  \n",
       "...       ...           ...             ...    ...  \n",
       "31665       1      0.048645           600.0  31665  \n",
       "31666       1      0.095280           400.0  31666  \n",
       "31667       1      0.079222           333.0  31667  \n",
       "31668       1      0.047958           333.0  31668  \n",
       "31669       1      0.104586           250.0  31669  \n",
       "\n",
       "[31670 rows x 7 columns]"
      ]
     },
     "execution_count": 2,
     "metadata": {},
     "output_type": "execute_result"
    }
   ],
   "source": [
    "# Load data\n",
    "charging_data = pd.read_pickle(\"data/charging_modified.pkl\")\n",
    "\n",
    "# Drop not important columns in charging data\n",
    "charging_data.drop(columns = [\"NoChargingTime\", \"NoChargingTimeMinutes\", \"userRegistered\", \"spaceID\", \"stationID\", \"ChargingTime\", \n",
    "                              \"user_paymentRequired_values\", \"user_requestedDeparture\", \"userID\", \"ChargingTimeMinutes\", \"user_kWhRequestFulfilment\", \n",
    "                              \"fullyCharged\", \"user_kWhRequested\", \"user_milesRequested\", \"user_minutesAvailable\", \"month\", \"weekday\", \n",
    "                              \"NoChargingTimeHours\", \"ChargingTimeHours\", \"disconnectTime\"], inplace = True)\n",
    "\n",
    "# Delete rows with null values\n",
    "charging_data = charging_data.dropna()\n",
    "\n",
    "charging_data = charging_data.astype({\n",
    "    \"siteID\": \"int64\"\n",
    "})\n",
    "\n",
    "charging_data  = charging_data[:31670]\n",
    "\n",
    "# Delete duplicate row index\n",
    "charging_data.reset_index(drop = True, inplace = True)\n",
    "charging_data.loc[:, \"id\"] = charging_data.index\n",
    "charging_data"
   ]
  },
  {
   "cell_type": "markdown",
   "id": "cbb6b6fc-2a43-4ea0-a567-00b9b8152cb7",
   "metadata": {},
   "source": [
    "## Create feature vector X and labels Y"
   ]
  },
  {
   "cell_type": "code",
   "execution_count": 3,
   "id": "1b555087-c2cc-4428-873d-0021d2874db2",
   "metadata": {},
   "outputs": [],
   "source": [
    "# Split time interval between connectionTime and doneChargingTime in minutes for every hour\n",
    "def split_time_interval(index, start_date, end_date):\n",
    "    indices = pd.DatetimeIndex([start_date])\n",
    "    indices = indices.append(pd.date_range(start_date.ceil(freq = \"H\"), end_date.floor(freq = \"H\"), freq = \"H\"))\n",
    "    indices = indices.append(pd.DatetimeIndex([end_date]))\n",
    "\n",
    "    time_list = list(map(lambda x : 60 if x == 0 else x, indices.minute))\n",
    "    time_list[0] = 60 - time_list[0]\n",
    "    \n",
    "    return list((time_list, indices))\n",
    "\n",
    "\n",
    "# Create table with session id, charging time in minutes per hour, timestamps and siteID\n",
    "def create_minute_table(id, minute_array, siteID):\n",
    "    return list(zip([id] * len(minute_array[0]), minute_array[0], minute_array[1], [siteID] * len(minute_array[0])))\n",
    "\n",
    "# Group entries by timestamp\n",
    "def group_by_timestamp(X):\n",
    "    X = X.groupby(\"timestamp\").agg({ \"siteID\": \"mean\", \"kWhDemandPerHour\": \"sum\"})\n",
    "    return X"
   ]
  },
  {
   "cell_type": "code",
   "execution_count": null,
   "id": "f9efb282-57ef-4d71-a522-ca1e457c4e3b",
   "metadata": {},
   "outputs": [],
   "source": [
    "# Concat single minute lists to one big list with lists of tuples containing id, charging times in minutes per, timestamps and siteID\n",
    "temp = []\n",
    "\n",
    "for index in charging_data.index :\n",
    "    charging_times = split_time_interval(charging_data.index[index], \n",
    "                                         charging_data.loc[index, \"connectionTime\"], \n",
    "                                         charging_data.loc[index, \"doneChargingTime\"])\n",
    "    temp.append(create_minute_table(charging_data.loc[index, \"id\"], charging_times, charging_data.loc[index, \"siteID\"]))\n",
    "    \n",
    "charging_data.drop(\"siteID\", inplace = True, axis = 1)\n",
    "\n",
    "# Parse list of lists into four lists: ids, charging time in minutes per hour, timestamps and siteIDs\n",
    "ids, charging_times, timestamps, siteIDs = map(list, zip(*[tuple for list in temp for tuple in list]))\n",
    "\n",
    "# Create data.frame with four columns: session id, charging time, starting timestamp in minutes for every hour and siteID\n",
    "charging_time_per_hour = pd.DataFrame(\n",
    "                            {\"id\": ids,\n",
    "                             \"charging_time_per_hour\": charging_times,\n",
    "                             \"timestamp\": timestamps,\n",
    "                             \"siteID\": siteIDs})\n",
    "\n",
    "charging_time_per_hour.loc[:, \"timestamp\"] = charging_time_per_hour.loc[:, \"timestamp\"].dt.floor(freq = \"H\")"
   ]
  },
  {
   "cell_type": "markdown",
   "id": "b8640b94-ef28-41f2-a105-36edbd6b4a95",
   "metadata": {},
   "source": [
    "### Labels Y:"
   ]
  },
  {
   "cell_type": "code",
   "execution_count": null,
   "id": "52a472e9-daf1-4e72-b523-5356c7dbfee1",
   "metadata": {},
   "outputs": [],
   "source": [
    "# Join charge time per hour with the rest of the charging data\n",
    "temp = charging_time_per_hour.merge(charging_data, how = \"left\", on = \"id\").drop([\"connectionTime\", \"id\"], axis = 1)\n",
    "\n",
    "# Create column for delivered kWh per hour interval\n",
    "temp[\"kWhDemandPerHour\"] = temp[\"charging_time_per_hour\"] * temp[\"kWhPerMinute\"]\n",
    "\n",
    "# Divide data set into two sets: one for each site\n",
    "temp1 = temp.loc[temp[\"siteID\"] == 1]\n",
    "temp2 = temp.loc[temp[\"siteID\"] == 2]\n",
    "\n",
    "# Group entries by timestamp\n",
    "temp1 = group_by_timestamp(temp1)\n",
    "temp2 = group_by_timestamp(temp2)\n",
    "\n",
    "# Combine the sets together into one\n",
    "temp = pd.concat([temp1, temp2], axis = 0)\n",
    "\n",
    "temp[\"timestamp\"] = temp.index\n",
    "temp.reset_index(drop = True, inplace = True)"
   ]
  },
  {
   "cell_type": "code",
   "execution_count": null,
   "id": "c87e2e36-288b-4f94-9e56-ec0f3b759b4f",
   "metadata": {},
   "outputs": [],
   "source": [
    "# Define labels Y\n",
    "Y = temp[[\"kWhDemandPerHour\", \"timestamp\", \"siteID\"]]\n",
    "Y"
   ]
  },
  {
   "cell_type": "markdown",
   "id": "9dd9e6b9-f476-40d2-b240-a15283292132",
   "metadata": {},
   "source": [
    "### Feature Vector X:"
   ]
  },
  {
   "cell_type": "code",
   "execution_count": null,
   "id": "b09359af-e040-454e-a128-469c9e3c4398",
   "metadata": {},
   "outputs": [],
   "source": [
    "def encode_to_cyclic(data, col, max_val):\n",
    "    data[col + '_sin'] = np.sin(2 * np.pi * data[col]/max_val)\n",
    "    data[col + '_cos'] = np.cos(2 * np.pi * data[col]/max_val)\n",
    "    return data\n",
    "\n",
    "def expand_datetime_to_columns(data, col):\n",
    "    data[col + 'Month'] = data[col].dt.month\n",
    "    data[col + 'Day'] = data[col].dt.day\n",
    "    data[col + 'Hour'] = data[col].dt.hour\n",
    "    return data\n",
    "\n",
    "X = temp.drop([\"kWhDemandPerHour\"],  axis = 1)\n",
    "\n",
    "# Split connection into year, month, day, hour\n",
    "X = expand_datetime_to_columns(X, 'timestamp')\n",
    "\n",
    "# Encode the time components to cyclic\n",
    "X = encode_to_cyclic(X, 'timestampMonth', 12)\n",
    "\n",
    "X = encode_to_cyclic(X, 'timestampDay', 31)\n",
    "\n",
    "X = encode_to_cyclic(X, 'timestampHour', 24)\n",
    "\n",
    "X.drop(['timestampMonth', 'timestampDay', 'timestampHour'], axis = 1, inplace = True)\n",
    "\n",
    "# Add weekday, month and hour as categorical variable\n",
    "#X[\"weekday\"] = X[\"timestamp\"].dt.day_name()\n",
    "#X[\"month\"] = X[\"timestamp\"].dt.month_name()\n",
    "#X[\"hour\"] = X[\"timestamp\"].dt.hour\n",
    "\n",
    "X = X.fillna(0)\n",
    "\n",
    "# Create dummies for categorical variables\n",
    "X = X.astype({\n",
    "    \"siteID\": \"int64\"\n",
    "})\n",
    "\n",
    "X = pd.get_dummies(X, columns = [\"siteID\"])\n",
    "#X = pd.get_dummies(X, columns = [\"siteID\", \"weekday\", \"month\", \"hour\"])\n",
    "\n",
    "# Sort values after siteID and timestamp in ascending order\n",
    "X.sort_values([\"siteID_2\", \"timestamp\"])\n",
    "X"
   ]
  },
  {
   "cell_type": "markdown",
   "id": "61f48bf0-c897-4527-9611-5c320a1a6fe0",
   "metadata": {},
   "source": [
    "## Cross-validation: split data in training and test set"
   ]
  },
  {
   "cell_type": "code",
   "execution_count": null,
   "id": "bb93bd16-0ef0-429f-99f3-8e321e0d3d2d",
   "metadata": {},
   "outputs": [],
   "source": [
    "# Split data into training set and testing set and normalize\n",
    "scaler = StandardScaler()\n",
    "X_train, X_test, Y_train, Y_test = train_test_split(X, Y, test_size= 0.3, random_state = 30)\n",
    "\n",
    "X_train_scaled = scaler.fit_transform(X_train.drop(\"timestamp\", axis = 1))\n",
    "X_test_scaled = scaler.transform(X_test.drop(\"timestamp\", axis = 1))\n",
    "\n",
    "# Create X sets for testing performance for each site\n",
    "X_test_site1 = X_test[X_test[\"siteID_1\"] == True].sort_values([\"timestamp\"])\n",
    "X_test_site2 = X_test[X_test[\"siteID_2\"] == True].sort_values([\"timestamp\"])\n",
    "\n",
    "# Create Y sets for testing performance for each site\n",
    "Y_test_site1 = Y_test[Y_test[\"siteID\"] == 1.0].sort_values(\"timestamp\").drop(\"timestamp\", axis = 1).loc[:, \"kWhDemandPerHour\"]\n",
    "Y_test_site2 = Y_test[Y_test[\"siteID\"] == 2.0].sort_values(\"timestamp\").drop(\"timestamp\", axis = 1).loc[:, \"kWhDemandPerHour\"]\n",
    "\n",
    "# Extract kWhDemandPerHour as labels\n",
    "Y_train = Y_train.loc[:, \"kWhDemandPerHour\"]\n",
    "Y_test = Y_test.loc[:, \"kWhDemandPerHour\"]"
   ]
  },
  {
   "cell_type": "markdown",
   "id": "498b781d-be0c-4508-bca3-98bafba00e19",
   "metadata": {},
   "source": [
    "## Prediction model 1: Neural Network"
   ]
  },
  {
   "cell_type": "code",
   "execution_count": null,
   "id": "bffdbc28-bb8f-4796-bffa-233873de78ef",
   "metadata": {},
   "outputs": [],
   "source": [
    "# Build the neural network\n",
    "network = Sequential()\n",
    "\n",
    "# Add layers\n",
    "network.add(Dense(input_shape = (45,), units = 21, activation = \"relu\"))\n",
    "network.add(Dense(units = 21, activation = \"relu\"))\n",
    "network.add(Dense(units = 1, activation = \"relu\"))"
   ]
  },
  {
   "cell_type": "code",
   "execution_count": null,
   "id": "c6320d30-e2a6-428a-baea-6f3d49f9ff7d",
   "metadata": {},
   "outputs": [],
   "source": [
    "# Compile the neural network\n",
    "network.compile(optimizer = \"adam\", \n",
    "                   loss = \"mean_squared_error\", \n",
    "                   metrics = [\"mean_squared_error\"])\n",
    "network.summary()"
   ]
  },
  {
   "cell_type": "code",
   "execution_count": null,
   "id": "dbee9ed4-fad9-4c0a-aa6c-9261dfb49f67",
   "metadata": {},
   "outputs": [],
   "source": [
    "# Fit the Neural Network\n",
    "network.fit(X_train_scaled, Y_train, batch_size=50, epochs=200)"
   ]
  },
  {
   "cell_type": "markdown",
   "id": "cd677d25-f515-44d5-ba4d-539473643bbb",
   "metadata": {},
   "source": [
    "### Performance evaluation"
   ]
  },
  {
   "cell_type": "code",
   "execution_count": null,
   "id": "a1111e58-8634-497b-9743-7e315178e3e7",
   "metadata": {},
   "outputs": [],
   "source": [
    "from sklearn.metrics import mean_squared_error\n",
    "from sklearn.metrics import mean_absolute_error\n",
    "from sklearn.metrics import mean_squared_log_error\n",
    "from sklearn.metrics import r2_score\n",
    "\n",
    "# Evaluate performance\n",
    "mse_nn  = mean_squared_error(Y_test, network.predict(X_test_scaled))\n",
    "mae_nn  = mean_absolute_error(Y_test, network.predict(X_test_scaled))\n",
    "msle_nn = mean_squared_log_error(Y_test, network.predict(X_test_scaled))\n",
    "print(\"Mean squared error: \" + str(mse_nn))\n",
    "print(\"Mean absolute error: \" + str(mae_nn))\n",
    "print(\"Mean squared log error: \" + str(msle_nn))"
   ]
  },
  {
   "cell_type": "markdown",
   "id": "33b8ca17-2bd1-4662-906e-be601d3e00bc",
   "metadata": {},
   "source": [
    "### Performance Visualization"
   ]
  },
  {
   "cell_type": "code",
   "execution_count": null,
   "id": "b012a793-9cd2-43d1-8635-4ed1ffc49718",
   "metadata": {},
   "outputs": [],
   "source": [
    "predictions_site1 = network.predict(scaler.transform(X_test_site1.drop(\"timestamp\", axis = 1)))[:, 0]\n",
    "timestamps = X_test_site1[\"timestamp\"].sort_values()\n",
    "\n",
    "# Visualization of the predicted value and the observed value over time for site 1\n",
    "plt.figure(figsize = (25,6))\n",
    "\n",
    "plt.plot(timestamps, predictions_site1, c = \"blue\", label = \"predicted values\")\n",
    "plt.plot(timestamps, Y_test_site1, c = \"red\", label = \"observed values\")\n",
    "\n",
    "plt.xlabel(\"Time\")\n",
    "plt.ylabel(\"kWh demand\")\n",
    "plt.title(\"Predicted and observed kWh demand per hour for site 1 (Neural Network)\")\n",
    "plt.legend()\n",
    "\n",
    "plt.show()"
   ]
  },
  {
   "cell_type": "code",
   "execution_count": null,
   "id": "881d71ce-48dd-4500-a763-634f28ddcac8",
   "metadata": {},
   "outputs": [],
   "source": [
    "# Visualization of the predicted value and the observed value over 48 hours for site 1 (to visualize it better)\n",
    "plt.figure(figsize = (15,6))\n",
    "\n",
    "plt.plot(timestamps.iloc[0:48], predictions_site1[0:48], c = \"blue\", label = \"predicted values\")\n",
    "plt.plot(timestamps.iloc[0:48], Y_test_site1[0:48], c = \"red\", label = \"observed values\")\n",
    "\n",
    "plt.xlabel(\"Time\")\n",
    "plt.ylabel(\"kWh demand\")\n",
    "plt.title(\"Predicted and observed kWh demand per hour for site 1 over 2 days (Neural Network)\")\n",
    "plt.legend()\n",
    "\n",
    "plt.show()"
   ]
  },
  {
   "cell_type": "code",
   "execution_count": null,
   "id": "6e952952-010b-48aa-9d05-3b7b79b54e27",
   "metadata": {},
   "outputs": [],
   "source": [
    "predictions_site2 = network.predict(scaler.transform(X_test_site2.drop(\"timestamp\", axis = 1)))[:, 0]\n",
    "timestamps = X_test_site2[\"timestamp\"].sort_values()\n",
    "\n",
    "# Visualization of the predicted value and the observed value over time for site 2\n",
    "plt.figure(figsize = (25,6))\n",
    "\n",
    "plt.plot(timestamps, predictions_site2, c = \"blue\", label = \"predicted values\")\n",
    "plt.plot(timestamps, Y_test_site2, c = \"red\", label = \"observed values\")\n",
    "\n",
    "plt.xlabel(\"Time\")\n",
    "plt.ylabel(\"kWh demand\")\n",
    "plt.title(\"Predicted and observed kWh demand per hour for site 2 (Neural Network)\")\n",
    "plt.legend()\n",
    "\n",
    "plt.show()"
   ]
  },
  {
   "cell_type": "code",
   "execution_count": null,
   "id": "b5c67321-3af7-4096-b434-851ff7601af1",
   "metadata": {},
   "outputs": [],
   "source": [
    "# Visualization of the predicted value and the observed value over 48 hours for site 2 (to visualize it better)\n",
    "plt.figure(figsize = (15,6))\n",
    "\n",
    "plt.plot(timestamps.iloc[0:48], predictions_site2[0:48], c = \"blue\", label = \"predicted values\")\n",
    "plt.plot(timestamps.iloc[0:48], Y_test_site2[0:48], c = \"red\", label = \"observed values\")\n",
    "\n",
    "plt.xlabel(\"Time\")\n",
    "plt.ylabel(\"kWh demand\")\n",
    "plt.title(\"Predicted and observed kWh demand per hour for site 2 over 2 days (Neural Network)\")\n",
    "plt.legend()\n",
    "\n",
    "plt.show()"
   ]
  },
  {
   "cell_type": "markdown",
   "id": "a5110e94-d1ea-4640-824f-8f380f096b78",
   "metadata": {},
   "source": [
    "## Prediction Model 2: Decision Tree"
   ]
  },
  {
   "cell_type": "code",
   "execution_count": null,
   "id": "4fa4fa2a-53b8-4557-bd7b-e8b673686afe",
   "metadata": {},
   "outputs": [],
   "source": [
    "from sklearn.tree import DecisionTreeRegressor, export_graphviz\n",
    "import graphviz\n",
    "\n",
    "# fit decision tree for regression\n",
    "reg_tree = DecisionTreeRegressor(max_depth = 15, criterion = \"squared_error\")\n",
    "reg_tree.fit(X_train_scaled, Y_train)"
   ]
  },
  {
   "cell_type": "code",
   "execution_count": null,
   "id": "c3a1567d-d686-46d5-9c5d-3b6d51db06ba",
   "metadata": {},
   "outputs": [],
   "source": [
    "# Plot tree\n",
    "data = export_graphviz(reg_tree, feature_names = X.drop(\"timestamp\", axis = 1).columns)\n",
    "graph = graphviz.Source(data)\n",
    "\n",
    "graph"
   ]
  },
  {
   "cell_type": "markdown",
   "id": "25a80681-b77e-4a71-8f4e-071bf09c55f5",
   "metadata": {},
   "source": [
    "### Performance Evaluation"
   ]
  },
  {
   "cell_type": "code",
   "execution_count": null,
   "id": "9aa1e1db-320b-4d59-a4e6-1051117a0d33",
   "metadata": {},
   "outputs": [],
   "source": [
    "# Evaluate performance\n",
    "mse_dt    = mean_squared_error(Y_test, reg_tree.predict(X_test_scaled))\n",
    "mae_dt    = mean_absolute_error(Y_test, reg_tree.predict(X_test_scaled))\n",
    "r2_dt     = r2_score(Y_test, reg_tree.predict(X_test_scaled))\n",
    "print(\"Mean squared error: \" + str(mse_dt))\n",
    "print(\"Mean absolute rror: \" + str(mae_dt))\n",
    "print(\"R2 score: \" + str(r2_dt))\n",
    "\n",
    "print(np.mean(Y_test))"
   ]
  },
  {
   "cell_type": "markdown",
   "id": "59c5e729-6129-4ef3-849b-620b4df6b701",
   "metadata": {},
   "source": [
    "### Performance Visualization"
   ]
  },
  {
   "cell_type": "code",
   "execution_count": null,
   "id": "b90747b3-252c-44d9-9b79-bfa5f55abedc",
   "metadata": {},
   "outputs": [],
   "source": [
    "predictions_site1_tree = reg_tree.predict(scaler.transform(X_test_site1.drop(\"timestamp\", axis = 1)))\n",
    "timestamps = X_test_site1[\"timestamp\"].sort_values()\n",
    "\n",
    "# Visualization of difference between predicted and observed utilization rates for site 1\n",
    "plt.figure(figsize = (25,6))\n",
    "\n",
    "plt.plot(timestamps, predictions_site1_tree, c = \"blue\", label = \"predicted values\")\n",
    "plt.plot(timestamps, Y_test_site1, c = \"red\", label = \"observed values\")\n",
    "\n",
    "plt.xlabel(\"Time\")\n",
    "plt.ylabel(\"kWh demand\")\n",
    "plt.title(\"Predicted and observed kWh demand per hour for site 1 (Decision Tree Regressor)\")\n",
    "plt.legend()\n",
    "\n",
    "plt.show()"
   ]
  },
  {
   "cell_type": "code",
   "execution_count": null,
   "id": "ba68ef00-1665-431e-8b66-9ca49fcbc7bd",
   "metadata": {},
   "outputs": [],
   "source": [
    "# Visualization of the predicted value and the observed value over 48 hours for site 1 (to visualize it better)\n",
    "plt.figure(figsize = (15,6))\n",
    "\n",
    "plt.plot(timestamps[0:48], predictions_site1_tree[0:48], c = \"blue\", label = \"predicted values\")\n",
    "plt.plot(timestamps[0:48], Y_test_site1[0:48], c = \"red\", label = \"observed values\")\n",
    "\n",
    "plt.xlabel(\"Time\")\n",
    "plt.ylabel(\"kWh demand\")\n",
    "plt.title(\"Predicted and observed kWh demand per hour for site 1 over 2 days (Decision Tree Regressor)\")\n",
    "plt.legend()\n",
    "\n",
    "plt.show()"
   ]
  },
  {
   "cell_type": "code",
   "execution_count": null,
   "id": "11c40669-ca21-4aed-a1eb-53b913239ad3",
   "metadata": {},
   "outputs": [],
   "source": [
    "predictions_site2_tree = reg_tree.predict(scaler.transform(X_test_site2.drop(\"timestamp\", axis = 1)))\n",
    "timestamps = X_test_site2[\"timestamp\"].sort_values()\n",
    "\n",
    "# Visualization of difference between predicted and observed utilization rates for site 2\n",
    "plt.figure(figsize = (25,6))\n",
    "\n",
    "plt.plot(timestamps, predictions_site2_tree, c = \"blue\", label = \"predicted values\")\n",
    "plt.plot(timestamps, Y_test_site2, c = \"red\", label = \"observed values\")\n",
    "\n",
    "plt.xlabel(\"Time\")\n",
    "plt.ylabel(\"kWh demand\")\n",
    "plt.title(\"Predicted and observed kWh demand per hour for site 2 (Decision Tree Regressor)\")\n",
    "plt.legend()\n",
    "\n",
    "plt.show()"
   ]
  },
  {
   "cell_type": "code",
   "execution_count": null,
   "id": "8d4dba75-22f2-42d7-a252-de116865eeb5",
   "metadata": {},
   "outputs": [],
   "source": [
    "# Visualization of the predicted value and the observed value over 48 hours for site 2 (to visualize it better)\n",
    "plt.figure(figsize = (15,6))\n",
    "\n",
    "plt.plot(timestamps[0:48], predictions_site2_tree[0:48], c = \"blue\", label = \"predicted values\")\n",
    "plt.plot(timestamps[0:48], Y_test_site2[0:48], c = \"red\", label = \"observed values\")\n",
    "\n",
    "plt.xlabel(\"Time\")\n",
    "plt.ylabel(\"kWh demand\")\n",
    "plt.title(\"Predicted and observed kWh demand per hour for site 2 over 2 days (Decision Tree Regressor)\")\n",
    "plt.legend()\n",
    "\n",
    "plt.show()"
   ]
  },
  {
   "cell_type": "markdown",
   "id": "3d4c310a-6e4e-4e85-a383-d8d73cc3d053",
   "metadata": {},
   "source": [
    "## Business Case Example"
   ]
  },
  {
   "cell_type": "markdown",
   "id": "3974193c-1d48-4665-a2d7-fd755d92cb5c",
   "metadata": {},
   "source": [
    "### Site 1 prediction for march 2024"
   ]
  },
  {
   "cell_type": "code",
   "execution_count": null,
   "id": "7cd3e2b6-ffde-4de2-8005-e8e47b4d6ad4",
   "metadata": {},
   "outputs": [],
   "source": [
    "# generate data for the first two weeks of march 2024 for site 1\n",
    "date_range = pd.DataFrame({\"timestamp\": pd.date_range(\"2024-03-01\", periods = 336, freq = \"h\")})\n",
    "\n",
    "data = pd.DataFrame()\n",
    "data[\"siteID_1\"] = [True] * date_range.size\n",
    "data[\"siteID_2\"] = [False] * date_range.size\n",
    "\n",
    "data[\"weekday\"] = date_range[\"timestamp\"].dt.day_name()\n",
    "data = pd.get_dummies(data, columns = [\"weekday\"])\n",
    "\n",
    "data[\"month_April\"] = [False] * date_range.size\n",
    "data[\"month_August\"] = [False] * date_range.size\n",
    "data[\"month_December\"] = [False] * date_range.size\n",
    "data[\"month_February\"] = [False] * date_range.size\n",
    "data[\"month_January\"] = [False] * date_range.size\n",
    "data[\"month_July\"] = [False] * date_range.size\n",
    "data[\"month_June\"] = [False] * date_range.size\n",
    "data[\"month_March\"] = [True] * date_range.size\n",
    "data[\"month_May\"] = [False] * date_range.size\n",
    "data[\"month_November\"] = [False] * date_range.size\n",
    "data[\"month_October\"] = [False] * date_range.size\n",
    "data[\"month_September\"] =[False] * date_range.size\n",
    "data[\"hour\"] = date_range[\"timestamp\"].dt.hour\n",
    "\n",
    "data = pd.get_dummies(data, columns = [\"hour\"])\n",
    "\n",
    "predictions_site1 = reg_tree.predict(scaler.transform(data))"
   ]
  },
  {
   "cell_type": "code",
   "execution_count": null,
   "id": "7fa32fab-8068-46e1-9537-fa0f600033c8",
   "metadata": {},
   "outputs": [],
   "source": [
    "plt.figure(figsize = (25,6))\n",
    "plt.plot(date_range, predictions_site1)\n",
    "\n",
    "plt.xlabel(\"Time\")\n",
    "plt.ylabel(\"kWh demand per hour\")\n",
    "plt.title(\"kWh demand prediction for the first two weeks of March for site 1\")\n",
    "\n",
    "plt.show()"
   ]
  },
  {
   "cell_type": "code",
   "execution_count": null,
   "id": "5db74d48-cbf3-4185-8d5b-3a0c82ab8031",
   "metadata": {},
   "outputs": [],
   "source": [
    "# generate data for the first two weeks of march 2024 for site 2\n",
    "data[\"siteID_1\"] = [False] * date_range.size\n",
    "data[\"siteID_2\"] = [True] * date_range.size\n",
    "\n",
    "predictions_site2 = reg_tree.predict(scaler.transform(data))\n",
    "\n",
    "plt.figure(figsize = (25,6))\n",
    "plt.plot(date_range, predictions_site2)\n",
    "\n",
    "plt.xlabel(\"Time\")\n",
    "plt.ylabel(\"kWh demand per hour\")\n",
    "plt.title(\"kWh demand prediction for the first two weeks of March for site 2\")\n",
    "\n",
    "plt.show()"
   ]
  }
 ],
 "metadata": {
  "kernelspec": {
   "display_name": "Python 3 (ipykernel)",
   "language": "python",
   "name": "python3"
  },
  "language_info": {
   "codemirror_mode": {
    "name": "ipython",
    "version": 3
   },
   "file_extension": ".py",
   "mimetype": "text/x-python",
   "name": "python",
   "nbconvert_exporter": "python",
   "pygments_lexer": "ipython3",
   "version": "3.10.13"
  }
 },
 "nbformat": 4,
 "nbformat_minor": 5
}
